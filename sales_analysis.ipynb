{
 "cells": [
  {
   "cell_type": "code",
   "id": "initial_id",
   "metadata": {
    "collapsed": true,
    "ExecuteTime": {
     "end_time": "2024-10-01T21:09:53.812515600Z",
     "start_time": "2024-10-01T21:09:53.808508600Z"
    }
   },
   "source": [
    "import pandas as pd\n",
    "import numpy as np\n",
    "import matplotlib.pyplot as plt\n",
    "import seaborn as sns"
   ],
   "outputs": [],
   "execution_count": 1
  },
  {
   "metadata": {
    "ExecuteTime": {
     "end_time": "2024-10-01T22:04:50.930580100Z",
     "start_time": "2024-10-01T22:04:50.895568Z"
    }
   },
   "cell_type": "code",
   "source": [
    "df = pd.read_csv('D:\\\\superstore_sales_analysis/Data/superstore.csv',encoding='latin1')"
   ],
   "id": "4609b433109a1a69",
   "outputs": [],
   "execution_count": 82
  },
  {
   "metadata": {
    "ExecuteTime": {
     "end_time": "2024-10-01T22:04:51.373731500Z",
     "start_time": "2024-10-01T22:04:51.356319800Z"
    }
   },
   "cell_type": "code",
   "source": [
    "df.head()"
   ],
   "id": "7b25fc25fd5b545e",
   "outputs": [
    {
     "data": {
      "text/plain": "   Row ID        Order ID  Order Date   Ship Date       Ship Mode Customer ID  \\\n0       1  CA-2016-152156   11/8/2016  11/11/2016    Second Class    CG-12520   \n1       2  CA-2016-152156   11/8/2016  11/11/2016    Second Class    CG-12520   \n2       3  CA-2016-138688   6/12/2016   6/16/2016    Second Class    DV-13045   \n3       4  US-2015-108966  10/11/2015  10/18/2015  Standard Class    SO-20335   \n4       5  US-2015-108966  10/11/2015  10/18/2015  Standard Class    SO-20335   \n\n     Customer Name    Segment        Country             City  ...  \\\n0      Claire Gute   Consumer  United States        Henderson  ...   \n1      Claire Gute   Consumer  United States        Henderson  ...   \n2  Darrin Van Huff  Corporate  United States      Los Angeles  ...   \n3   Sean O'Donnell   Consumer  United States  Fort Lauderdale  ...   \n4   Sean O'Donnell   Consumer  United States  Fort Lauderdale  ...   \n\n  Postal Code  Region       Product ID         Category Sub-Category  \\\n0       42420   South  FUR-BO-10001798        Furniture    Bookcases   \n1       42420   South  FUR-CH-10000454        Furniture       Chairs   \n2       90036    West  OFF-LA-10000240  Office Supplies       Labels   \n3       33311   South  FUR-TA-10000577        Furniture       Tables   \n4       33311   South  OFF-ST-10000760  Office Supplies      Storage   \n\n                                        Product Name     Sales  Quantity  \\\n0                  Bush Somerset Collection Bookcase  261.9600         2   \n1  Hon Deluxe Fabric Upholstered Stacking Chairs,...  731.9400         3   \n2  Self-Adhesive Address Labels for Typewriters b...   14.6200         2   \n3      Bretford CR4500 Series Slim Rectangular Table  957.5775         5   \n4                     Eldon Fold 'N Roll Cart System   22.3680         2   \n\n   Discount    Profit  \n0      0.00   41.9136  \n1      0.00  219.5820  \n2      0.00    6.8714  \n3      0.45 -383.0310  \n4      0.20    2.5164  \n\n[5 rows x 21 columns]",
      "text/html": "<div>\n<style scoped>\n    .dataframe tbody tr th:only-of-type {\n        vertical-align: middle;\n    }\n\n    .dataframe tbody tr th {\n        vertical-align: top;\n    }\n\n    .dataframe thead th {\n        text-align: right;\n    }\n</style>\n<table border=\"1\" class=\"dataframe\">\n  <thead>\n    <tr style=\"text-align: right;\">\n      <th></th>\n      <th>Row ID</th>\n      <th>Order ID</th>\n      <th>Order Date</th>\n      <th>Ship Date</th>\n      <th>Ship Mode</th>\n      <th>Customer ID</th>\n      <th>Customer Name</th>\n      <th>Segment</th>\n      <th>Country</th>\n      <th>City</th>\n      <th>...</th>\n      <th>Postal Code</th>\n      <th>Region</th>\n      <th>Product ID</th>\n      <th>Category</th>\n      <th>Sub-Category</th>\n      <th>Product Name</th>\n      <th>Sales</th>\n      <th>Quantity</th>\n      <th>Discount</th>\n      <th>Profit</th>\n    </tr>\n  </thead>\n  <tbody>\n    <tr>\n      <th>0</th>\n      <td>1</td>\n      <td>CA-2016-152156</td>\n      <td>11/8/2016</td>\n      <td>11/11/2016</td>\n      <td>Second Class</td>\n      <td>CG-12520</td>\n      <td>Claire Gute</td>\n      <td>Consumer</td>\n      <td>United States</td>\n      <td>Henderson</td>\n      <td>...</td>\n      <td>42420</td>\n      <td>South</td>\n      <td>FUR-BO-10001798</td>\n      <td>Furniture</td>\n      <td>Bookcases</td>\n      <td>Bush Somerset Collection Bookcase</td>\n      <td>261.9600</td>\n      <td>2</td>\n      <td>0.00</td>\n      <td>41.9136</td>\n    </tr>\n    <tr>\n      <th>1</th>\n      <td>2</td>\n      <td>CA-2016-152156</td>\n      <td>11/8/2016</td>\n      <td>11/11/2016</td>\n      <td>Second Class</td>\n      <td>CG-12520</td>\n      <td>Claire Gute</td>\n      <td>Consumer</td>\n      <td>United States</td>\n      <td>Henderson</td>\n      <td>...</td>\n      <td>42420</td>\n      <td>South</td>\n      <td>FUR-CH-10000454</td>\n      <td>Furniture</td>\n      <td>Chairs</td>\n      <td>Hon Deluxe Fabric Upholstered Stacking Chairs,...</td>\n      <td>731.9400</td>\n      <td>3</td>\n      <td>0.00</td>\n      <td>219.5820</td>\n    </tr>\n    <tr>\n      <th>2</th>\n      <td>3</td>\n      <td>CA-2016-138688</td>\n      <td>6/12/2016</td>\n      <td>6/16/2016</td>\n      <td>Second Class</td>\n      <td>DV-13045</td>\n      <td>Darrin Van Huff</td>\n      <td>Corporate</td>\n      <td>United States</td>\n      <td>Los Angeles</td>\n      <td>...</td>\n      <td>90036</td>\n      <td>West</td>\n      <td>OFF-LA-10000240</td>\n      <td>Office Supplies</td>\n      <td>Labels</td>\n      <td>Self-Adhesive Address Labels for Typewriters b...</td>\n      <td>14.6200</td>\n      <td>2</td>\n      <td>0.00</td>\n      <td>6.8714</td>\n    </tr>\n    <tr>\n      <th>3</th>\n      <td>4</td>\n      <td>US-2015-108966</td>\n      <td>10/11/2015</td>\n      <td>10/18/2015</td>\n      <td>Standard Class</td>\n      <td>SO-20335</td>\n      <td>Sean O'Donnell</td>\n      <td>Consumer</td>\n      <td>United States</td>\n      <td>Fort Lauderdale</td>\n      <td>...</td>\n      <td>33311</td>\n      <td>South</td>\n      <td>FUR-TA-10000577</td>\n      <td>Furniture</td>\n      <td>Tables</td>\n      <td>Bretford CR4500 Series Slim Rectangular Table</td>\n      <td>957.5775</td>\n      <td>5</td>\n      <td>0.45</td>\n      <td>-383.0310</td>\n    </tr>\n    <tr>\n      <th>4</th>\n      <td>5</td>\n      <td>US-2015-108966</td>\n      <td>10/11/2015</td>\n      <td>10/18/2015</td>\n      <td>Standard Class</td>\n      <td>SO-20335</td>\n      <td>Sean O'Donnell</td>\n      <td>Consumer</td>\n      <td>United States</td>\n      <td>Fort Lauderdale</td>\n      <td>...</td>\n      <td>33311</td>\n      <td>South</td>\n      <td>OFF-ST-10000760</td>\n      <td>Office Supplies</td>\n      <td>Storage</td>\n      <td>Eldon Fold 'N Roll Cart System</td>\n      <td>22.3680</td>\n      <td>2</td>\n      <td>0.20</td>\n      <td>2.5164</td>\n    </tr>\n  </tbody>\n</table>\n<p>5 rows × 21 columns</p>\n</div>"
     },
     "execution_count": 83,
     "metadata": {},
     "output_type": "execute_result"
    }
   ],
   "execution_count": 83
  },
  {
   "metadata": {},
   "cell_type": "markdown",
   "source": [
    "# 1. Data Understanding and Preparation\n",
    "\n",
    "#### 1.1 Data Exploration"
   ],
   "id": "ee9fc5ecfc3b4abf"
  },
  {
   "metadata": {
    "ExecuteTime": {
     "end_time": "2024-10-01T22:04:59.821732100Z",
     "start_time": "2024-10-01T22:04:59.812109100Z"
    }
   },
   "cell_type": "code",
   "outputs": [
    {
     "name": "stdout",
     "output_type": "stream",
     "text": [
      "<class 'pandas.core.frame.DataFrame'>\n",
      "RangeIndex: 9994 entries, 0 to 9993\n",
      "Data columns (total 21 columns):\n",
      " #   Column         Non-Null Count  Dtype  \n",
      "---  ------         --------------  -----  \n",
      " 0   Row ID         9994 non-null   int64  \n",
      " 1   Order ID       9994 non-null   object \n",
      " 2   Order Date     9994 non-null   object \n",
      " 3   Ship Date      9994 non-null   object \n",
      " 4   Ship Mode      9994 non-null   object \n",
      " 5   Customer ID    9994 non-null   object \n",
      " 6   Customer Name  9994 non-null   object \n",
      " 7   Segment        9994 non-null   object \n",
      " 8   Country        9994 non-null   object \n",
      " 9   City           9994 non-null   object \n",
      " 10  State          9994 non-null   object \n",
      " 11  Postal Code    9994 non-null   int64  \n",
      " 12  Region         9994 non-null   object \n",
      " 13  Product ID     9994 non-null   object \n",
      " 14  Category       9994 non-null   object \n",
      " 15  Sub-Category   9994 non-null   object \n",
      " 16  Product Name   9994 non-null   object \n",
      " 17  Sales          9994 non-null   float64\n",
      " 18  Quantity       9994 non-null   int64  \n",
      " 19  Discount       9994 non-null   float64\n",
      " 20  Profit         9994 non-null   float64\n",
      "dtypes: float64(3), int64(3), object(15)\n",
      "memory usage: 1.6+ MB\n"
     ]
    }
   ],
   "execution_count": 84,
   "source": [
    "df.info()"
   ],
   "id": "1f8bd7955e275fe1"
  },
  {
   "metadata": {
    "ExecuteTime": {
     "end_time": "2024-10-01T22:05:00.700300100Z",
     "start_time": "2024-10-01T22:05:00.583424800Z"
    }
   },
   "cell_type": "code",
   "outputs": [
    {
     "data": {
      "text/plain": "<Axes: >"
     },
     "execution_count": 85,
     "metadata": {},
     "output_type": "execute_result"
    },
    {
     "data": {
      "text/plain": "<Figure size 640x480 with 1 Axes>",
      "image/png": "[encoded data removed]"
     },
     "metadata": {},
     "output_type": "display_data"
    }
   ],
   "execution_count": 85,
   "source": [
    "df.isnull().sum(axis=1).plot()"
   ],
   "id": "4438666e9a779b80"
  },
  {
   "metadata": {},
   "cell_type": "markdown",
   "source": [
    "No Null values"
   ],
   "id": "f6ab9dd9d7d4bcae"
  },
  {
   "cell_type": "code",
   "outputs": [
    {
     "data": {
      "text/plain": "<Axes: >"
     },
     "execution_count": 86,
     "metadata": {},
     "output_type": "execute_result"
    },
    {
     "data": {
      "text/plain": "<Figure size 640x480 with 1 Axes>",
      "image/png": "[encoded data removed]"
     },
     "metadata": {},
     "output_type": "display_data"
    }
   ],
   "source": [
    "df.describe().plot()"
   ],
   "metadata": {
    "collapsed": false,
    "ExecuteTime": {
     "end_time": "2024-10-01T22:05:02.146078500Z",
     "start_time": "2024-10-01T22:05:01.988801200Z"
    }
   },
   "id": "247b107abe4fd1fa",
   "execution_count": 86
  },
  {
   "cell_type": "markdown",
   "source": [
    "#### Profit has negative value"
   ],
   "metadata": {
    "collapsed": false
   },
   "id": "e38d7b75435ff434"
  },
  {
   "cell_type": "code",
   "outputs": [
    {
     "data": {
      "text/plain": "3       -383.0310\n14      -123.8580\n15        -3.8160\n23        -1.0196\n27     -1665.0522\n          ...    \n9920     -35.8176\n9921      -4.5936\n9931     -40.1960\n9937      -1.7772\n9962     -67.6704\nName: Profit, Length: 1871, dtype: float64"
     },
     "execution_count": 87,
     "metadata": {},
     "output_type": "execute_result"
    }
   ],
   "source": [
    "negative_profit_mask = df['Profit'] < 0\n",
    "\n",
    "negative_profits = df[negative_profit_mask]\n",
    "negative_profits['Profit']\n"
   ],
   "metadata": {
    "collapsed": false,
    "ExecuteTime": {
     "end_time": "2024-10-01T22:05:06.530046700Z",
     "start_time": "2024-10-01T22:05:06.514116500Z"
    }
   },
   "id": "94e187484239a6ae",
   "execution_count": 87
  },
  {
   "cell_type": "code",
   "outputs": [
    {
     "name": "stdout",
     "output_type": "stream",
     "text": [
      "\n",
      "Number of Negative Profit Entries: 1871\n",
      "Total Number of Entries: 9994\n",
      "Percentage Negative Profits: 18.72%\n"
     ]
    }
   ],
   "source": [
    "num_negative_profits = negative_profit_mask.sum()\n",
    "total_series = len(df)\n",
    "percentage_negative_profits = (num_negative_profits / total_series) * 100\n",
    "\n",
    "print(f\"\\nNumber of Negative Profit Entries: {num_negative_profits}\")\n",
    "print(f\"Total Number of Entries: {total_series}\")\n",
    "print(f'Percentage Negative Profits: {percentage_negative_profits:.2f}%')"
   ],
   "metadata": {
    "collapsed": false,
    "ExecuteTime": {
     "end_time": "2024-10-01T22:05:07.474931700Z",
     "start_time": "2024-10-01T22:05:07.469230500Z"
    }
   },
   "id": "e488e22a0837dab9",
   "execution_count": 88
  },
  {
   "cell_type": "markdown",
   "source": [
    "### Further analysis for checking the reason for negative Profit"
   ],
   "metadata": {
    "collapsed": false
   },
   "id": "369e5366104960ee"
  },
  {
   "cell_type": "code",
   "outputs": [
    {
     "name": "stdout",
     "output_type": "stream",
     "text": [
      "\n",
      "Average Discount Percentage for Negative Profits: 5.53%\n"
     ]
    },
    {
     "name": "stderr",
     "output_type": "stream",
     "text": [
      "C:\\Users\\SOULS\\AppData\\Local\\Temp\\ipykernel_12712\\2782112406.py:2: SettingWithCopyWarning: \n",
      "A value is trying to be set on a copy of a slice from a DataFrame.\n",
      "Try using .loc[row_indexer,col_indexer] = value instead\n",
      "\n",
      "See the caveats in the documentation: https://pandas.pydata.org/pandas-docs/stable/user_guide/indexing.html#returning-a-view-versus-a-copy\n",
      "  negative_profits['Discount_Percentage'] = (df['Discount'] / df['Sales']) * 100\n"
     ]
    }
   ],
   "source": [
    "# Discount Percentage \n",
    "negative_profits['Discount_Percentage'] = (df['Discount'] / df['Sales']) * 100\n",
    "\n",
    "avg_discount_neg = negative_profits['Discount_Percentage'].mean()\n",
    "print(f\"\\nAverage Discount Percentage for Negative Profits: {avg_discount_neg:.2f}%\")"
   ],
   "metadata": {
    "collapsed": false,
    "ExecuteTime": {
     "end_time": "2024-10-01T22:05:09.178915100Z",
     "start_time": "2024-10-01T22:05:09.175373400Z"
    }
   },
   "id": "4cde1f5032181ae3",
   "execution_count": 89
  },
  {
   "cell_type": "code",
   "outputs": [
    {
     "name": "stdout",
     "output_type": "stream",
     "text": [
      "\n",
      "Average Profit Margin for Negative Profits: -62.46%\n"
     ]
    },
    {
     "name": "stderr",
     "output_type": "stream",
     "text": [
      "C:\\Users\\SOULS\\AppData\\Local\\Temp\\ipykernel_12712\\1862383723.py:2: SettingWithCopyWarning: \n",
      "A value is trying to be set on a copy of a slice from a DataFrame.\n",
      "Try using .loc[row_indexer,col_indexer] = value instead\n",
      "\n",
      "See the caveats in the documentation: https://pandas.pydata.org/pandas-docs/stable/user_guide/indexing.html#returning-a-view-versus-a-copy\n",
      "  negative_profits['profit_margin'] = (df['Profit'] /df['Sales']) * 100\n"
     ]
    }
   ],
   "source": [
    "# Profit Margin\n",
    "negative_profits['profit_margin'] = (df['Profit'] /df['Sales']) * 100\n",
    "\n",
    "avg_profit_neg = negative_profits['profit_margin'].mean()\n",
    "\n",
    "print(f\"\\nAverage Profit Margin for Negative Profits: {avg_profit_neg:.2f}%\")"
   ],
   "metadata": {
    "collapsed": false,
    "ExecuteTime": {
     "end_time": "2024-10-01T22:05:09.804453400Z",
     "start_time": "2024-10-01T22:05:09.792114Z"
    }
   },
   "id": "9fecc573e421019c",
   "execution_count": 90
  },
  {
   "cell_type": "markdown",
   "source": [
    "##### For every dollar sales in these transactions, the business is incurring a loss of approximately 69.49 cents."
   ],
   "metadata": {
    "collapsed": false
   },
   "id": "3750dc6952e10b69"
  },
  {
   "cell_type": "code",
   "outputs": [
    {
     "ename": "KeyError",
     "evalue": "'profit_margin'",
     "output_type": "error",
     "traceback": [
      "\u001B[1;31m---------------------------------------------------------------------------\u001B[0m",
      "\u001B[1;31mKeyError\u001B[0m                                  Traceback (most recent call last)",
      "File \u001B[1;32mc:\\Users\\SOULS\\anaconda3\\envs\\envAI\\Lib\\site-packages\\pandas\\core\\indexes\\base.py:3805\u001B[0m, in \u001B[0;36mIndex.get_loc\u001B[1;34m(self, key)\u001B[0m\n\u001B[0;32m   3804\u001B[0m \u001B[38;5;28;01mtry\u001B[39;00m:\n\u001B[1;32m-> 3805\u001B[0m     \u001B[38;5;28;01mreturn\u001B[39;00m \u001B[38;5;28;43mself\u001B[39;49m\u001B[38;5;241;43m.\u001B[39;49m\u001B[43m_engine\u001B[49m\u001B[38;5;241;43m.\u001B[39;49m\u001B[43mget_loc\u001B[49m\u001B[43m(\u001B[49m\u001B[43mcasted_key\u001B[49m\u001B[43m)\u001B[49m\n\u001B[0;32m   3806\u001B[0m \u001B[38;5;28;01mexcept\u001B[39;00m \u001B[38;5;167;01mKeyError\u001B[39;00m \u001B[38;5;28;01mas\u001B[39;00m err:\n",
      "File \u001B[1;32mindex.pyx:167\u001B[0m, in \u001B[0;36mpandas._libs.index.IndexEngine.get_loc\u001B[1;34m()\u001B[0m\n",
      "File \u001B[1;32mindex.pyx:196\u001B[0m, in \u001B[0;36mpandas._libs.index.IndexEngine.get_loc\u001B[1;34m()\u001B[0m\n",
      "File \u001B[1;32mpandas\\\\_libs\\\\hashtable_class_helper.pxi:7081\u001B[0m, in \u001B[0;36mpandas._libs.hashtable.PyObjectHashTable.get_item\u001B[1;34m()\u001B[0m\n",
      "File \u001B[1;32mpandas\\\\_libs\\\\hashtable_class_helper.pxi:7089\u001B[0m, in \u001B[0;36mpandas._libs.hashtable.PyObjectHashTable.get_item\u001B[1;34m()\u001B[0m\n",
      "\u001B[1;31mKeyError\u001B[0m: 'profit_margin'",
      "\nThe above exception was the direct cause of the following exception:\n",
      "\u001B[1;31mKeyError\u001B[0m                                  Traceback (most recent call last)",
      "Cell \u001B[1;32mIn[91], line 1\u001B[0m\n\u001B[1;32m----> 1\u001B[0m avg_profit_neg \u001B[38;5;241m=\u001B[39m \u001B[43mdf\u001B[49m\u001B[43m[\u001B[49m\u001B[38;5;124;43m'\u001B[39;49m\u001B[38;5;124;43mprofit_margin\u001B[39;49m\u001B[38;5;124;43m'\u001B[39;49m\u001B[43m]\u001B[49m\u001B[38;5;241m.\u001B[39mmean()\n\u001B[0;32m      3\u001B[0m \u001B[38;5;28mprint\u001B[39m(\u001B[38;5;124mf\u001B[39m\u001B[38;5;124m\"\u001B[39m\u001B[38;5;130;01m\\n\u001B[39;00m\u001B[38;5;124mAverage Profit Margin for Negative Profits: \u001B[39m\u001B[38;5;132;01m{\u001B[39;00mavg_profit_neg\u001B[38;5;132;01m:\u001B[39;00m\u001B[38;5;124m.2f\u001B[39m\u001B[38;5;132;01m}\u001B[39;00m\u001B[38;5;124m%\u001B[39m\u001B[38;5;124m\"\u001B[39m)\n",
      "File \u001B[1;32mc:\\Users\\SOULS\\anaconda3\\envs\\envAI\\Lib\\site-packages\\pandas\\core\\frame.py:4102\u001B[0m, in \u001B[0;36mDataFrame.__getitem__\u001B[1;34m(self, key)\u001B[0m\n\u001B[0;32m   4100\u001B[0m \u001B[38;5;28;01mif\u001B[39;00m \u001B[38;5;28mself\u001B[39m\u001B[38;5;241m.\u001B[39mcolumns\u001B[38;5;241m.\u001B[39mnlevels \u001B[38;5;241m>\u001B[39m \u001B[38;5;241m1\u001B[39m:\n\u001B[0;32m   4101\u001B[0m     \u001B[38;5;28;01mreturn\u001B[39;00m \u001B[38;5;28mself\u001B[39m\u001B[38;5;241m.\u001B[39m_getitem_multilevel(key)\n\u001B[1;32m-> 4102\u001B[0m indexer \u001B[38;5;241m=\u001B[39m \u001B[38;5;28;43mself\u001B[39;49m\u001B[38;5;241;43m.\u001B[39;49m\u001B[43mcolumns\u001B[49m\u001B[38;5;241;43m.\u001B[39;49m\u001B[43mget_loc\u001B[49m\u001B[43m(\u001B[49m\u001B[43mkey\u001B[49m\u001B[43m)\u001B[49m\n\u001B[0;32m   4103\u001B[0m \u001B[38;5;28;01mif\u001B[39;00m is_integer(indexer):\n\u001B[0;32m   4104\u001B[0m     indexer \u001B[38;5;241m=\u001B[39m [indexer]\n",
      "File \u001B[1;32mc:\\Users\\SOULS\\anaconda3\\envs\\envAI\\Lib\\site-packages\\pandas\\core\\indexes\\base.py:3812\u001B[0m, in \u001B[0;36mIndex.get_loc\u001B[1;34m(self, key)\u001B[0m\n\u001B[0;32m   3807\u001B[0m     \u001B[38;5;28;01mif\u001B[39;00m \u001B[38;5;28misinstance\u001B[39m(casted_key, \u001B[38;5;28mslice\u001B[39m) \u001B[38;5;129;01mor\u001B[39;00m (\n\u001B[0;32m   3808\u001B[0m         \u001B[38;5;28misinstance\u001B[39m(casted_key, abc\u001B[38;5;241m.\u001B[39mIterable)\n\u001B[0;32m   3809\u001B[0m         \u001B[38;5;129;01mand\u001B[39;00m \u001B[38;5;28many\u001B[39m(\u001B[38;5;28misinstance\u001B[39m(x, \u001B[38;5;28mslice\u001B[39m) \u001B[38;5;28;01mfor\u001B[39;00m x \u001B[38;5;129;01min\u001B[39;00m casted_key)\n\u001B[0;32m   3810\u001B[0m     ):\n\u001B[0;32m   3811\u001B[0m         \u001B[38;5;28;01mraise\u001B[39;00m InvalidIndexError(key)\n\u001B[1;32m-> 3812\u001B[0m     \u001B[38;5;28;01mraise\u001B[39;00m \u001B[38;5;167;01mKeyError\u001B[39;00m(key) \u001B[38;5;28;01mfrom\u001B[39;00m \u001B[38;5;21;01merr\u001B[39;00m\n\u001B[0;32m   3813\u001B[0m \u001B[38;5;28;01mexcept\u001B[39;00m \u001B[38;5;167;01mTypeError\u001B[39;00m:\n\u001B[0;32m   3814\u001B[0m     \u001B[38;5;66;03m# If we have a listlike key, _check_indexing_error will raise\u001B[39;00m\n\u001B[0;32m   3815\u001B[0m     \u001B[38;5;66;03m#  InvalidIndexError. Otherwise we fall through and re-raise\u001B[39;00m\n\u001B[0;32m   3816\u001B[0m     \u001B[38;5;66;03m#  the TypeError.\u001B[39;00m\n\u001B[0;32m   3817\u001B[0m     \u001B[38;5;28mself\u001B[39m\u001B[38;5;241m.\u001B[39m_check_indexing_error(key)\n",
      "\u001B[1;31mKeyError\u001B[0m: 'profit_margin'"
     ]
    }
   ],
   "source": [
    "avg_profit_neg = df['profit_margin'].mean()\n",
    "\n",
    "print(f\"\\nAverage Profit Margin for Negative Profits: {avg_profit_neg:.2f}%\")"
   ],
   "metadata": {
    "collapsed": false,
    "ExecuteTime": {
     "end_time": "2024-10-01T22:05:10.921228200Z",
     "start_time": "2024-10-01T22:05:10.884413100Z"
    }
   },
   "id": "fadb1d58b80bc78b",
   "execution_count": 91
  },
  {
   "cell_type": "code",
   "outputs": [
    {
     "data": {
      "text/plain": "<Figure size 1000x600 with 1 Axes>",
      "image/png": "[encoded data removed]"
     },
     "metadata": {},
     "output_type": "display_data"
    }
   ],
   "source": [
    "plt.figure(figsize=(10, 6))\n",
    "sns.histplot(negative_profits['Discount_Percentage'], bins=20, kde=True, color='red')\n",
    "plt.title('Distribution of Discount Percentage in Negative Profits')\n",
    "plt.xlabel('Discount Percentage')\n",
    "plt.ylabel('Frequency')\n",
    "plt.show()"
   ],
   "metadata": {
    "collapsed": false,
    "ExecuteTime": {
     "end_time": "2024-10-01T22:05:12.120920500Z",
     "start_time": "2024-10-01T22:05:11.970724700Z"
    }
   },
   "id": "e520bf468d705b34",
   "execution_count": 92
  },
  {
   "cell_type": "code",
   "outputs": [
    {
     "data": {
      "text/plain": "<Figure size 1000x600 with 1 Axes>",
      "image/png": "[encoded data removed]"
     },
     "metadata": {},
     "output_type": "display_data"
    }
   ],
   "source": [
    "plt.figure(figsize=(10, 6))\n",
    "sns.scatterplot(x='Sales', y='Profit', data=negative_profits, hue='Category')\n",
    "plt.title('Sales vs. Profit for Negative Profit Transactions')\n",
    "plt.xlabel('Sales')\n",
    "plt.ylabel('Profit')\n",
    "plt.show()\n"
   ],
   "metadata": {
    "collapsed": false,
    "ExecuteTime": {
     "end_time": "2024-10-01T22:05:13.743673800Z",
     "start_time": "2024-10-01T22:05:13.585884200Z"
    }
   },
   "id": "8c4cb435dc441caf",
   "execution_count": 93
  },
  {
   "cell_type": "code",
   "outputs": [
    {
     "name": "stdout",
     "output_type": "stream",
     "text": [
      "\n",
      "Number of Negative Profits with >20% Discounts: 164 \n",
      "            Order ID  Sales  Discount_Percentage  Profit\n",
      "15    US-2015-118983  2.544            31.446541 -3.8160\n",
      "75    US-2017-118038  1.248            64.102564 -1.9344\n",
      "101   CA-2016-158568  1.788            44.742729 -3.0396\n",
      "126   US-2017-107272  2.388            29.313233 -1.8308\n",
      "198   US-2017-124303  2.946            23.761032 -2.2586\n",
      "...              ...    ...                  ...     ...\n",
      "9479  CA-2014-126193  3.828            20.898642 -6.5076\n",
      "9629  CA-2014-118192  3.438            20.360675 -2.5212\n",
      "9795  CA-2016-125920  3.798            21.063718 -5.8869\n",
      "9808  CA-2017-145093  2.112            37.878788 -3.3792\n",
      "9869  CA-2014-114195  3.132            22.349936 -2.6100\n",
      "\n",
      "[164 rows x 4 columns]\n"
     ]
    }
   ],
   "source": [
    "# Identifying if high discounts correlated with negative profits.\n",
    "\n",
    "high_discounts_neg = negative_profits[negative_profits['Discount_Percentage'] > 20]\n",
    "print(f\"\\nNumber of Negative Profits with >20% Discounts: {len(high_discounts_neg)} \")\n",
    "print(high_discounts_neg[['Order ID', 'Sales', 'Discount_Percentage', 'Profit']])"
   ],
   "metadata": {
    "collapsed": false,
    "ExecuteTime": {
     "end_time": "2024-10-01T22:05:14.445289300Z",
     "start_time": "2024-10-01T22:05:14.437554300Z"
    }
   },
   "id": "d6342449767e4e2c",
   "execution_count": 94
  },
  {
   "cell_type": "code",
   "outputs": [
    {
     "name": "stdout",
     "output_type": "stream",
     "text": [
      "\n",
      "Number of Negative Profits with Sales < $50: 829\n",
      "            Order ID   Sales   Profit\n",
      "15    US-2015-118983   2.544  -3.8160\n",
      "28    US-2015-150630   9.618  -7.0532\n",
      "32    US-2015-150630   6.858  -5.7150\n",
      "75    US-2017-118038   1.248  -1.9344\n",
      "76    US-2017-118038   9.708  -5.8248\n",
      "...              ...     ...      ...\n",
      "9870  CA-2014-114195  22.428 -17.9424\n",
      "9877  US-2017-166324   8.700  -6.3800\n",
      "9903  CA-2014-122609  25.128  -6.9102\n",
      "9920  CA-2016-149272  22.386 -35.8176\n",
      "9921  CA-2014-111360   5.742  -4.5936\n",
      "\n",
      "[829 rows x 3 columns]\n"
     ]
    }
   ],
   "source": [
    "low_sales_neg = negative_profits[negative_profits['Sales'] < 50]  # Example threshold\n",
    "print(f\"\\nNumber of Negative Profits with Sales < $50: {len(low_sales_neg)}\")\n",
    "print(low_sales_neg[['Order ID', 'Sales', 'Profit']])"
   ],
   "metadata": {
    "collapsed": false,
    "ExecuteTime": {
     "end_time": "2024-10-01T22:05:15.261772Z",
     "start_time": "2024-10-01T22:05:15.254936Z"
    }
   },
   "id": "19c14ace4bbc139a",
   "execution_count": 95
  },
  {
   "cell_type": "code",
   "outputs": [
    {
     "name": "stdout",
     "output_type": "stream",
     "text": [
      "\n",
      "Negative Profit by category: \n",
      "Category\n",
      "Office Supplies    886\n",
      "Furniture          714\n",
      "Technology         271\n",
      "Name: count, dtype: int64\n",
      "\n",
      " Top 10 Products with Negative Profit: \n",
      "Product Name\n",
      "Global Wood Trimmed Manager's Task Chair, Khaki                          12\n",
      "KI Adjustable-Height Table                                               10\n",
      "Global High-Back Leather Tilter, Burgundy                                10\n",
      "Hon 61000 Series Interactive Training Tables                              9\n",
      "Office Star - Contemporary Task Swivel chair with Loop Arms, Charcoal     8\n",
      "Storex Dura Pro Binders                                                   8\n",
      "Global Deluxe Steno Chair                                                 8\n",
      "GBC Instant Report Kit                                                    8\n",
      "Novimex Fabric Task Chair                                                 8\n",
      "Staple remover                                                            8\n",
      "Name: count, dtype: int64\n"
     ]
    }
   ],
   "source": [
    "# Checking if certain categories or products are consistently generating negative profits\n",
    "category_neg = negative_profits['Category'].value_counts()\n",
    "print(\"\\nNegative Profit by category: \")\n",
    "print(category_neg)\n",
    "\n",
    "product_neg = negative_profits['Product Name'].value_counts().head(10)\n",
    "print(\"\\n Top 10 Products with Negative Profit: \")\n",
    "print(product_neg)"
   ],
   "metadata": {
    "collapsed": false,
    "ExecuteTime": {
     "end_time": "2024-10-01T22:05:16.655842200Z",
     "start_time": "2024-10-01T22:05:16.652035500Z"
    }
   },
   "id": "a8070d7b12a03904",
   "execution_count": 96
  },
  {
   "cell_type": "code",
   "outputs": [
    {
     "name": "stdout",
     "output_type": "stream",
     "text": [
      "\n",
      "Negative Profit by Ship Mode:\n",
      "Ship Mode\n",
      "Standard Class    1173\n",
      "Second Class       307\n",
      "First Class        293\n",
      "Same Day            98\n",
      "Name: count, dtype: int64\n"
     ]
    }
   ],
   "source": [
    "# Analyzing if specific shipping modes are associated with negative profits.\n",
    "shipping_neg = negative_profits['Ship Mode'].value_counts()\n",
    "print(\"\\nNegative Profit by Ship Mode:\")\n",
    "print(shipping_neg)"
   ],
   "metadata": {
    "collapsed": false,
    "ExecuteTime": {
     "end_time": "2024-10-01T22:05:17.568235500Z",
     "start_time": "2024-10-01T22:05:17.562778600Z"
    }
   },
   "id": "da27eed7ed054fb3",
   "execution_count": 97
  },
  {
   "cell_type": "code",
   "outputs": [
    {
     "name": "stdout",
     "output_type": "stream",
     "text": [
      "\n",
      "Negative Profit by Region: \n",
      "Region\n",
      "Central    741\n",
      "East       553\n",
      "West       318\n",
      "South      259\n",
      "Name: count, dtype: int64\n"
     ]
    }
   ],
   "source": [
    "# Investigation if certain regions are more prone to negative profit.\n",
    "\n",
    "region_neg = negative_profits['Region'].value_counts()\n",
    "print(\"\\nNegative Profit by Region: \")\n",
    "print(region_neg)"
   ],
   "metadata": {
    "collapsed": false,
    "ExecuteTime": {
     "end_time": "2024-10-01T22:05:18.292856Z",
     "start_time": "2024-10-01T22:05:18.288336500Z"
    }
   },
   "id": "a2004f8a08354197",
   "execution_count": 98
  },
  {
   "cell_type": "code",
   "outputs": [
    {
     "name": "stdout",
     "output_type": "stream",
     "text": [
      "\n",
      "Sample Negative Profit Transactions:\n",
      "      Row ID        Order ID Order Date   Ship Date       Ship Mode  \\\n",
      "9103    9104  CA-2015-163181  11/7/2015  11/12/2015  Standard Class   \n",
      "6767    6768  CA-2017-100615  4/20/2017   4/24/2017  Standard Class   \n",
      "9937    9938  CA-2016-164889   6/3/2016    6/6/2016    Second Class   \n",
      "1463    1464  CA-2016-152289  8/26/2016   8/28/2016     First Class   \n",
      "2228    2229  CA-2016-139157  10/1/2016   10/5/2016  Standard Class   \n",
      "\n",
      "     Customer ID   Customer Name    Segment        Country           City  \\\n",
      "9103    AB-10105   Adrian Barton   Consumer  United States        Houston   \n",
      "6767    SJ-20215    Sarah Jordon   Consumer  United States        Chicago   \n",
      "9937    CP-12340  Christine Phan  Corporate  United States    Los Angeles   \n",
      "1463    LC-16930  Linda Cazamias  Corporate  United States       Pasadena   \n",
      "2228    GM-14680   Greg Matthias   Consumer  United States  New York City   \n",
      "\n",
      "      ...       Product ID   Category Sub-Category  \\\n",
      "9103  ...  FUR-FU-10000193  Furniture  Furnishings   \n",
      "6767  ...  FUR-FU-10002456  Furniture  Furnishings   \n",
      "9937  ...  FUR-TA-10001676  Furniture       Tables   \n",
      "1463  ...  FUR-CH-10002126  Furniture       Chairs   \n",
      "2228  ...  FUR-TA-10003238  Furniture       Tables   \n",
      "\n",
      "                                           Product Name     Sales Quantity  \\\n",
      "9103           Tenex Chairmats For Use with Hard Floors    64.960        5   \n",
      "6767         Master Caster Door Stop, Large Neon Orange    14.560        5   \n",
      "9937       Hon 61000 Series Interactive Training Tables    71.088        2   \n",
      "1463      Hon Deluxe Fabric Upholstered Stacking Chairs  1024.716        6   \n",
      "2228  Chromcraft Bull-Nose Wood 48\" x 96\" Rectangula...   330.588        1   \n",
      "\n",
      "     Discount    Profit  Discount_Percentage  profit_margin  \n",
      "9103      0.6  -84.4480             0.923645    -130.000000  \n",
      "6767      0.6   -6.1880             4.120879     -42.500000  \n",
      "9937      0.2   -1.7772             0.281341      -2.500000  \n",
      "1463      0.3  -29.2776             0.029276      -2.857143  \n",
      "2228      0.4 -115.7058             0.120997     -35.000000  \n",
      "\n",
      "[5 rows x 23 columns]\n"
     ]
    }
   ],
   "source": [
    "# Display a sample of negative profit transactions\n",
    "sample_neg = negative_profits.sample(n=5, random_state=42)\n",
    "print(\"\\nSample Negative Profit Transactions:\")\n",
    "print(sample_neg)\n"
   ],
   "metadata": {
    "collapsed": false,
    "ExecuteTime": {
     "end_time": "2024-10-01T22:05:19.360799300Z",
     "start_time": "2024-10-01T22:05:19.350174Z"
    }
   },
   "id": "d801cd3f140451b6",
   "execution_count": 99
  },
  {
   "cell_type": "markdown",
   "source": [
    "Overall, the discount percentage (5.53%) and steep negative profit margin (-62.49%)."
   ],
   "metadata": {
    "collapsed": false
   },
   "id": "db73462aecbfc53b"
  },
  {
   "cell_type": "code",
   "outputs": [],
   "source": [],
   "metadata": {
    "collapsed": false,
    "ExecuteTime": {
     "end_time": "2024-10-01T21:54:19.159758100Z",
     "start_time": "2024-10-01T21:54:19.154346200Z"
    }
   },
   "id": "853af5535f73b9af",
   "execution_count": 64
  },
  {
   "metadata": {},
   "cell_type": "markdown",
   "source": [
    "\n",
    "#### 1.2 Data Cleaning "
   ],
   "id": "5f4ddfcfe8c1223f"
  },
  {
   "metadata": {
    "ExecuteTime": {
     "end_time": "2024-10-01T22:05:23.664330800Z",
     "start_time": "2024-10-01T22:05:23.657909800Z"
    }
   },
   "cell_type": "code",
   "source": [
    "# Dropping Row ID\n",
    "df = df.drop(columns=['Row ID'])"
   ],
   "id": "5f697adb306f333a",
   "outputs": [],
   "execution_count": 100
  },
  {
   "metadata": {
    "ExecuteTime": {
     "end_time": "2024-10-01T22:05:24.377581500Z",
     "start_time": "2024-10-01T22:05:24.358158500Z"
    }
   },
   "cell_type": "code",
   "source": [
    "# Checking for Duplicates \n",
    "if df.duplicated().sum() > 0:\n",
    "    print('Duplicate exits')\n",
    "else:\n",
    "    print(\"No duplicates\")"
   ],
   "id": "13bf2e9c5ccc574c",
   "outputs": [
    {
     "name": "stdout",
     "output_type": "stream",
     "text": [
      "Duplicate exits\n"
     ]
    }
   ],
   "execution_count": 101
  },
  {
   "metadata": {
    "ExecuteTime": {
     "end_time": "2024-10-01T22:05:25.235666Z",
     "start_time": "2024-10-01T22:05:25.216182100Z"
    }
   },
   "cell_type": "code",
   "source": [
    "duplicates = df[df.duplicated(keep=False)]\n",
    "duplicates"
   ],
   "id": "5e943f1e2a5685b3",
   "outputs": [
    {
     "data": {
      "text/plain": "            Order ID Order Date  Ship Date       Ship Mode Customer ID  \\\n3405  US-2014-150119  4/23/2014  4/27/2014  Standard Class    LB-16795   \n3406  US-2014-150119  4/23/2014  4/27/2014  Standard Class    LB-16795   \n\n       Customer Name      Segment        Country      City State  Postal Code  \\\n3405  Laurel Beltran  Home Office  United States  Columbus  Ohio        43229   \n3406  Laurel Beltran  Home Office  United States  Columbus  Ohio        43229   \n\n     Region       Product ID   Category Sub-Category  \\\n3405   East  FUR-CH-10002965  Furniture       Chairs   \n3406   East  FUR-CH-10002965  Furniture       Chairs   \n\n                                           Product Name    Sales  Quantity  \\\n3405  Global Leather Highback Executive Chair with P...  281.372         2   \n3406  Global Leather Highback Executive Chair with P...  281.372         2   \n\n      Discount   Profit  \n3405       0.3 -12.0588  \n3406       0.3 -12.0588  ",
      "text/html": "<div>\n<style scoped>\n    .dataframe tbody tr th:only-of-type {\n        vertical-align: middle;\n    }\n\n    .dataframe tbody tr th {\n        vertical-align: top;\n    }\n\n    .dataframe thead th {\n        text-align: right;\n    }\n</style>\n<table border=\"1\" class=\"dataframe\">\n  <thead>\n    <tr style=\"text-align: right;\">\n      <th></th>\n      <th>Order ID</th>\n      <th>Order Date</th>\n      <th>Ship Date</th>\n      <th>Ship Mode</th>\n      <th>Customer ID</th>\n      <th>Customer Name</th>\n      <th>Segment</th>\n      <th>Country</th>\n      <th>City</th>\n      <th>State</th>\n      <th>Postal Code</th>\n      <th>Region</th>\n      <th>Product ID</th>\n      <th>Category</th>\n      <th>Sub-Category</th>\n      <th>Product Name</th>\n      <th>Sales</th>\n      <th>Quantity</th>\n      <th>Discount</th>\n      <th>Profit</th>\n    </tr>\n  </thead>\n  <tbody>\n    <tr>\n      <th>3405</th>\n      <td>US-2014-150119</td>\n      <td>4/23/2014</td>\n      <td>4/27/2014</td>\n      <td>Standard Class</td>\n      <td>LB-16795</td>\n      <td>Laurel Beltran</td>\n      <td>Home Office</td>\n      <td>United States</td>\n      <td>Columbus</td>\n      <td>Ohio</td>\n      <td>43229</td>\n      <td>East</td>\n      <td>FUR-CH-10002965</td>\n      <td>Furniture</td>\n      <td>Chairs</td>\n      <td>Global Leather Highback Executive Chair with P...</td>\n      <td>281.372</td>\n      <td>2</td>\n      <td>0.3</td>\n      <td>-12.0588</td>\n    </tr>\n    <tr>\n      <th>3406</th>\n      <td>US-2014-150119</td>\n      <td>4/23/2014</td>\n      <td>4/27/2014</td>\n      <td>Standard Class</td>\n      <td>LB-16795</td>\n      <td>Laurel Beltran</td>\n      <td>Home Office</td>\n      <td>United States</td>\n      <td>Columbus</td>\n      <td>Ohio</td>\n      <td>43229</td>\n      <td>East</td>\n      <td>FUR-CH-10002965</td>\n      <td>Furniture</td>\n      <td>Chairs</td>\n      <td>Global Leather Highback Executive Chair with P...</td>\n      <td>281.372</td>\n      <td>2</td>\n      <td>0.3</td>\n      <td>-12.0588</td>\n    </tr>\n  </tbody>\n</table>\n</div>"
     },
     "execution_count": 102,
     "metadata": {},
     "output_type": "execute_result"
    }
   ],
   "execution_count": 102
  },
  {
   "metadata": {
    "ExecuteTime": {
     "end_time": "2024-10-01T22:05:28.023999900Z",
     "start_time": "2024-10-01T22:05:28.012370700Z"
    }
   },
   "cell_type": "code",
   "source": [
    "# Dropping Duplicate row\n",
    "df.drop_duplicates(inplace=True)"
   ],
   "id": "b0694ecdee96f1a3",
   "outputs": [],
   "execution_count": 103
  },
  {
   "metadata": {},
   "cell_type": "markdown",
   "source": [
    "###### Converting Data Types"
   ],
   "id": "1d096a2ce547973c"
  },
  {
   "metadata": {
    "ExecuteTime": {
     "end_time": "2024-10-01T22:05:29.571872Z",
     "start_time": "2024-10-01T22:05:29.564321400Z"
    }
   },
   "cell_type": "code",
   "source": [
    "df['Order Date'] = pd.to_datetime(df['Order Date'])\n",
    "#df['Customer ID'] = df['Customer ID'].astype('category')"
   ],
   "id": "b45940da301b0bea",
   "outputs": [],
   "execution_count": 104
  },
  {
   "metadata": {},
   "cell_type": "markdown",
   "source": [
    "#### 1.3 Feature Engineering\n",
    "* Creating New Feature : Order Year and Month"
   ],
   "id": "2629511843225c64"
  },
  {
   "metadata": {
    "ExecuteTime": {
     "end_time": "2024-10-01T22:05:32.034336400Z",
     "start_time": "2024-10-01T22:05:32.023790700Z"
    }
   },
   "cell_type": "code",
   "source": [
    "df['Order Year'] = df['Order Date'].dt.year\n",
    "df['Order Month'] = df['Order Date'].dt.month"
   ],
   "id": "fc842f68f54b1ebf",
   "outputs": [],
   "execution_count": 105
  },
  {
   "metadata": {},
   "cell_type": "markdown",
   "source": [
    "* Total Revenue "
   ],
   "id": "45e62490c5cf84a7"
  },
  {
   "metadata": {
    "ExecuteTime": {
     "end_time": "2024-10-01T22:05:35.052145900Z",
     "start_time": "2024-10-01T22:05:35.047118400Z"
    }
   },
   "cell_type": "code",
   "source": [
    "df['Total Revenue'] = df['Sales'] - df['Discount']"
   ],
   "id": "5eecbc5f683ac173",
   "outputs": [],
   "execution_count": 106
  },
  {
   "metadata": {},
   "cell_type": "markdown",
   "source": [
    "* Calculating Customer Lifetime Value (CLV)"
   ],
   "id": "521002d586553d22"
  },
  {
   "metadata": {
    "ExecuteTime": {
     "end_time": "2024-10-01T22:05:37.428408600Z",
     "start_time": "2024-10-01T22:05:37.423734700Z"
    }
   },
   "cell_type": "code",
   "source": [
    "# Calculate customer lifespan\n",
    "def calculate_average_lifespan(df):\n",
    "    lifespan = df.groupby('Customer ID')['Order Date'].agg(['min', 'max'])\n",
    "    lifespan['Lifespan (days)'] = (lifespan['max'] - lifespan['min']).dt.days\n",
    "    average_lifespan = lifespan['Lifespan (days)'].mean()\n",
    "    average_lifespan_years = average_lifespan / 365  \n",
    "    return average_lifespan_years\n",
    "\n",
    "ave_lifespan = calculate_average_lifespan(df)\n",
    "print(f\"\\nAverage Lifespan: {ave_lifespan:.2f} years\")"
   ],
   "id": "231bbe6030fa0fb5",
   "outputs": [
    {
     "name": "stdout",
     "output_type": "stream",
     "text": [
      "\n",
      "Average Lifespan: 2.74 years\n"
     ]
    }
   ],
   "execution_count": 107
  },
  {
   "metadata": {
    "ExecuteTime": {
     "end_time": "2024-10-01T22:05:46.693789900Z",
     "start_time": "2024-10-01T22:05:46.675914800Z"
    }
   },
   "cell_type": "code",
   "source": [
    "avg_order_value = df.groupby('Customer ID')['Total Revenue'].mean()\n",
    "purchase_frequency = df.groupby('Customer ID')['Order ID'].count()\n",
    "customer_lifespan = 2.74\n",
    "\n",
    "clv = avg_order_value * purchase_frequency * customer_lifespan\n",
    "clv = clv.rename('CLV')\n",
    "df = df.merge(clv, on='Customer ID', how='left')"
   ],
   "id": "811f966f22a7358f",
   "outputs": [],
   "execution_count": 108
  },
  {
   "cell_type": "code",
   "outputs": [
    {
     "data": {
      "text/plain": "         Order ID Order Date   Ship Date       Ship Mode Customer ID  \\\n0  CA-2016-152156 2016-11-08  11/11/2016    Second Class    CG-12520   \n1  CA-2016-152156 2016-11-08  11/11/2016    Second Class    CG-12520   \n2  CA-2016-138688 2016-06-12   6/16/2016    Second Class    DV-13045   \n3  US-2015-108966 2015-10-11  10/18/2015  Standard Class    SO-20335   \n4  US-2015-108966 2015-10-11  10/18/2015  Standard Class    SO-20335   \n5  CA-2014-115812 2014-06-09   6/14/2014  Standard Class    BH-11710   \n6  CA-2014-115812 2014-06-09   6/14/2014  Standard Class    BH-11710   \n7  CA-2014-115812 2014-06-09   6/14/2014  Standard Class    BH-11710   \n8  CA-2014-115812 2014-06-09   6/14/2014  Standard Class    BH-11710   \n9  CA-2014-115812 2014-06-09   6/14/2014  Standard Class    BH-11710   \n\n     Customer Name    Segment        Country             City       State  \\\n0      Claire Gute   Consumer  United States        Henderson    Kentucky   \n1      Claire Gute   Consumer  United States        Henderson    Kentucky   \n2  Darrin Van Huff  Corporate  United States      Los Angeles  California   \n3   Sean O'Donnell   Consumer  United States  Fort Lauderdale     Florida   \n4   Sean O'Donnell   Consumer  United States  Fort Lauderdale     Florida   \n5  Brosina Hoffman   Consumer  United States      Los Angeles  California   \n6  Brosina Hoffman   Consumer  United States      Los Angeles  California   \n7  Brosina Hoffman   Consumer  United States      Los Angeles  California   \n8  Brosina Hoffman   Consumer  United States      Los Angeles  California   \n9  Brosina Hoffman   Consumer  United States      Los Angeles  California   \n\n   ...  Sub-Category                                       Product Name  \\\n0  ...     Bookcases                  Bush Somerset Collection Bookcase   \n1  ...        Chairs  Hon Deluxe Fabric Upholstered Stacking Chairs,...   \n2  ...        Labels  Self-Adhesive Address Labels for Typewriters b...   \n3  ...        Tables      Bretford CR4500 Series Slim Rectangular Table   \n4  ...       Storage                     Eldon Fold 'N Roll Cart System   \n5  ...   Furnishings  Eldon Expressions Wood and Plastic Desk Access...   \n6  ...           Art                                         Newell 322   \n7  ...        Phones                     Mitel 5320 IP Phone VoIP phone   \n8  ...       Binders  DXL Angle-View Binders with Locking Rings by S...   \n9  ...    Appliances                   Belkin F5C206VTEL 6 Outlet Surge   \n\n      Sales Quantity Discount    Profit  Order Year  Order Month  \\\n0  261.9600        2     0.00   41.9136        2016           11   \n1  731.9400        3     0.00  219.5820        2016           11   \n2   14.6200        2     0.00    6.8714        2016            6   \n3  957.5775        5     0.45 -383.0310        2015           10   \n4   22.3680        2     0.20    2.5164        2015           10   \n5   48.8600        7     0.00   14.1694        2014            6   \n6    7.2800        4     0.00    1.9656        2014            6   \n7  907.1520        6     0.20   90.7152        2014            6   \n8   18.5040        3     0.20    5.7825        2014            6   \n9  114.9000        5     0.00   34.4700        2014            6   \n\n   Total Revenue          CLV  \n0       261.9600   3144.91720  \n1       731.9400   3144.91720  \n2        14.6200   3063.13642  \n3       957.1275   7125.43987  \n4        22.1680   7125.43987  \n5        48.8600  17127.60574  \n6         7.2800  17127.60574  \n7       906.9520  17127.60574  \n8        18.3040  17127.60574  \n9       114.9000  17127.60574  \n\n[10 rows x 24 columns]",
      "text/html": "<div>\n<style scoped>\n    .dataframe tbody tr th:only-of-type {\n        vertical-align: middle;\n    }\n\n    .dataframe tbody tr th {\n        vertical-align: top;\n    }\n\n    .dataframe thead th {\n        text-align: right;\n    }\n</style>\n<table border=\"1\" class=\"dataframe\">\n  <thead>\n    <tr style=\"text-align: right;\">\n      <th></th>\n      <th>Order ID</th>\n      <th>Order Date</th>\n      <th>Ship Date</th>\n      <th>Ship Mode</th>\n      <th>Customer ID</th>\n      <th>Customer Name</th>\n      <th>Segment</th>\n      <th>Country</th>\n      <th>City</th>\n      <th>State</th>\n      <th>...</th>\n      <th>Sub-Category</th>\n      <th>Product Name</th>\n      <th>Sales</th>\n      <th>Quantity</th>\n      <th>Discount</th>\n      <th>Profit</th>\n      <th>Order Year</th>\n      <th>Order Month</th>\n      <th>Total Revenue</th>\n      <th>CLV</th>\n    </tr>\n  </thead>\n  <tbody>\n    <tr>\n      <th>0</th>\n      <td>CA-2016-152156</td>\n      <td>2016-11-08</td>\n      <td>11/11/2016</td>\n      <td>Second Class</td>\n      <td>CG-12520</td>\n      <td>Claire Gute</td>\n      <td>Consumer</td>\n      <td>United States</td>\n      <td>Henderson</td>\n      <td>Kentucky</td>\n      <td>...</td>\n      <td>Bookcases</td>\n      <td>Bush Somerset Collection Bookcase</td>\n      <td>261.9600</td>\n      <td>2</td>\n      <td>0.00</td>\n      <td>41.9136</td>\n      <td>2016</td>\n      <td>11</td>\n      <td>261.9600</td>\n      <td>3144.91720</td>\n    </tr>\n    <tr>\n      <th>1</th>\n      <td>CA-2016-152156</td>\n      <td>2016-11-08</td>\n      <td>11/11/2016</td>\n      <td>Second Class</td>\n      <td>CG-12520</td>\n      <td>Claire Gute</td>\n      <td>Consumer</td>\n      <td>United States</td>\n      <td>Henderson</td>\n      <td>Kentucky</td>\n      <td>...</td>\n      <td>Chairs</td>\n      <td>Hon Deluxe Fabric Upholstered Stacking Chairs,...</td>\n      <td>731.9400</td>\n      <td>3</td>\n      <td>0.00</td>\n      <td>219.5820</td>\n      <td>2016</td>\n      <td>11</td>\n      <td>731.9400</td>\n      <td>3144.91720</td>\n    </tr>\n    <tr>\n      <th>2</th>\n      <td>CA-2016-138688</td>\n      <td>2016-06-12</td>\n      <td>6/16/2016</td>\n      <td>Second Class</td>\n      <td>DV-13045</td>\n      <td>Darrin Van Huff</td>\n      <td>Corporate</td>\n      <td>United States</td>\n      <td>Los Angeles</td>\n      <td>California</td>\n      <td>...</td>\n      <td>Labels</td>\n      <td>Self-Adhesive Address Labels for Typewriters b...</td>\n      <td>14.6200</td>\n      <td>2</td>\n      <td>0.00</td>\n      <td>6.8714</td>\n      <td>2016</td>\n      <td>6</td>\n      <td>14.6200</td>\n      <td>3063.13642</td>\n    </tr>\n    <tr>\n      <th>3</th>\n      <td>US-2015-108966</td>\n      <td>2015-10-11</td>\n      <td>10/18/2015</td>\n      <td>Standard Class</td>\n      <td>SO-20335</td>\n      <td>Sean O'Donnell</td>\n      <td>Consumer</td>\n      <td>United States</td>\n      <td>Fort Lauderdale</td>\n      <td>Florida</td>\n      <td>...</td>\n      <td>Tables</td>\n      <td>Bretford CR4500 Series Slim Rectangular Table</td>\n      <td>957.5775</td>\n      <td>5</td>\n      <td>0.45</td>\n      <td>-383.0310</td>\n      <td>2015</td>\n      <td>10</td>\n      <td>957.1275</td>\n      <td>7125.43987</td>\n    </tr>\n    <tr>\n      <th>4</th>\n      <td>US-2015-108966</td>\n      <td>2015-10-11</td>\n      <td>10/18/2015</td>\n      <td>Standard Class</td>\n      <td>SO-20335</td>\n      <td>Sean O'Donnell</td>\n      <td>Consumer</td>\n      <td>United States</td>\n      <td>Fort Lauderdale</td>\n      <td>Florida</td>\n      <td>...</td>\n      <td>Storage</td>\n      <td>Eldon Fold 'N Roll Cart System</td>\n      <td>22.3680</td>\n      <td>2</td>\n      <td>0.20</td>\n      <td>2.5164</td>\n      <td>2015</td>\n      <td>10</td>\n      <td>22.1680</td>\n      <td>7125.43987</td>\n    </tr>\n    <tr>\n      <th>5</th>\n      <td>CA-2014-115812</td>\n      <td>2014-06-09</td>\n      <td>6/14/2014</td>\n      <td>Standard Class</td>\n      <td>BH-11710</td>\n      <td>Brosina Hoffman</td>\n      <td>Consumer</td>\n      <td>United States</td>\n      <td>Los Angeles</td>\n      <td>California</td>\n      <td>...</td>\n      <td>Furnishings</td>\n      <td>Eldon Expressions Wood and Plastic Desk Access...</td>\n      <td>48.8600</td>\n      <td>7</td>\n      <td>0.00</td>\n      <td>14.1694</td>\n      <td>2014</td>\n      <td>6</td>\n      <td>48.8600</td>\n      <td>17127.60574</td>\n    </tr>\n    <tr>\n      <th>6</th>\n      <td>CA-2014-115812</td>\n      <td>2014-06-09</td>\n      <td>6/14/2014</td>\n      <td>Standard Class</td>\n      <td>BH-11710</td>\n      <td>Brosina Hoffman</td>\n      <td>Consumer</td>\n      <td>United States</td>\n      <td>Los Angeles</td>\n      <td>California</td>\n      <td>...</td>\n      <td>Art</td>\n      <td>Newell 322</td>\n      <td>7.2800</td>\n      <td>4</td>\n      <td>0.00</td>\n      <td>1.9656</td>\n      <td>2014</td>\n      <td>6</td>\n      <td>7.2800</td>\n      <td>17127.60574</td>\n    </tr>\n    <tr>\n      <th>7</th>\n      <td>CA-2014-115812</td>\n      <td>2014-06-09</td>\n      <td>6/14/2014</td>\n      <td>Standard Class</td>\n      <td>BH-11710</td>\n      <td>Brosina Hoffman</td>\n      <td>Consumer</td>\n      <td>United States</td>\n      <td>Los Angeles</td>\n      <td>California</td>\n      <td>...</td>\n      <td>Phones</td>\n      <td>Mitel 5320 IP Phone VoIP phone</td>\n      <td>907.1520</td>\n      <td>6</td>\n      <td>0.20</td>\n      <td>90.7152</td>\n      <td>2014</td>\n      <td>6</td>\n      <td>906.9520</td>\n      <td>17127.60574</td>\n    </tr>\n    <tr>\n      <th>8</th>\n      <td>CA-2014-115812</td>\n      <td>2014-06-09</td>\n      <td>6/14/2014</td>\n      <td>Standard Class</td>\n      <td>BH-11710</td>\n      <td>Brosina Hoffman</td>\n      <td>Consumer</td>\n      <td>United States</td>\n      <td>Los Angeles</td>\n      <td>California</td>\n      <td>...</td>\n      <td>Binders</td>\n      <td>DXL Angle-View Binders with Locking Rings by S...</td>\n      <td>18.5040</td>\n      <td>3</td>\n      <td>0.20</td>\n      <td>5.7825</td>\n      <td>2014</td>\n      <td>6</td>\n      <td>18.3040</td>\n      <td>17127.60574</td>\n    </tr>\n    <tr>\n      <th>9</th>\n      <td>CA-2014-115812</td>\n      <td>2014-06-09</td>\n      <td>6/14/2014</td>\n      <td>Standard Class</td>\n      <td>BH-11710</td>\n      <td>Brosina Hoffman</td>\n      <td>Consumer</td>\n      <td>United States</td>\n      <td>Los Angeles</td>\n      <td>California</td>\n      <td>...</td>\n      <td>Appliances</td>\n      <td>Belkin F5C206VTEL 6 Outlet Surge</td>\n      <td>114.9000</td>\n      <td>5</td>\n      <td>0.00</td>\n      <td>34.4700</td>\n      <td>2014</td>\n      <td>6</td>\n      <td>114.9000</td>\n      <td>17127.60574</td>\n    </tr>\n  </tbody>\n</table>\n<p>10 rows × 24 columns</p>\n</div>"
     },
     "execution_count": 110,
     "metadata": {},
     "output_type": "execute_result"
    }
   ],
   "source": [
    "df.head(10)"
   ],
   "metadata": {
    "collapsed": false,
    "ExecuteTime": {
     "end_time": "2024-10-01T22:06:05.582883400Z",
     "start_time": "2024-10-01T22:06:05.559172700Z"
    }
   },
   "id": "3ef49858c83b9fb1",
   "execution_count": 110
  },
  {
   "metadata": {},
   "cell_type": "markdown",
   "source": [
    "# 2. Exploratory Analysis"
   ],
   "id": "b8dae7c6e61f607f"
  },
  {
   "metadata": {
    "ExecuteTime": {
     "end_time": "2024-10-01T22:06:45.178815200Z",
     "start_time": "2024-10-01T22:06:45.174807200Z"
    }
   },
   "cell_type": "code",
   "outputs": [
    {
     "name": "stdout",
     "output_type": "stream",
     "text": [
      "['Consumer' 'Corporate' 'Home Office']\n"
     ]
    }
   ],
   "execution_count": 111,
   "source": [
    "# Types of customers\n",
    "types_of_customers = df['Segment'].unique()\n",
    "print(types_of_customers)"
   ],
   "id": "1fa1d9c733f97118"
  },
  {
   "cell_type": "code",
   "outputs": [],
   "source": [
    "number_of_customers = df['Segment'].value_counts().reset_index()\n",
    "number_of_customers = number_of_customers.rename(columns={'Segment': 'Type of Customers'})"
   ],
   "metadata": {
    "collapsed": false,
    "ExecuteTime": {
     "end_time": "2024-10-01T22:06:47.233707600Z",
     "start_time": "2024-10-01T22:06:47.227845700Z"
    }
   },
   "id": "e9c8b60227cd895a",
   "execution_count": 112
  },
  {
   "cell_type": "code",
   "outputs": [
    {
     "name": "stdout",
     "output_type": "stream",
     "text": [
      "  Type of Customers  count\n",
      "0          Consumer   5191\n",
      "1         Corporate   3020\n",
      "2       Home Office   1782\n"
     ]
    }
   ],
   "source": [
    "print(number_of_customers)"
   ],
   "metadata": {
    "collapsed": false,
    "ExecuteTime": {
     "end_time": "2024-10-01T22:06:48.796872600Z",
     "start_time": "2024-10-01T22:06:48.790376300Z"
    }
   },
   "id": "5cba5bb37bb3c1f5",
   "execution_count": 113
  },
  {
   "cell_type": "code",
   "outputs": [
    {
     "data": {
      "text/plain": "<Figure size 640x480 with 1 Axes>",
      "image/png": "[encoded data removed]"
     },
     "metadata": {},
     "output_type": "display_data"
    }
   ],
   "source": [
    "plt.pie(number_of_customers['count'], labels=number_of_customers['Type of Customers'], autopct='%1.1f%%');"
   ],
   "metadata": {
    "collapsed": false,
    "ExecuteTime": {
     "end_time": "2024-10-01T22:06:49.608243200Z",
     "start_time": "2024-10-01T22:06:49.555350400Z"
    }
   },
   "id": "f1692f464790868d",
   "execution_count": 114
  },
  {
   "cell_type": "markdown",
   "source": [
    "* Customer acquisation cost (CAC) - How much does it cost to have a customer in each segment\n",
    "* How satisfied a customer is in each segment\n",
    "* Churn Rate \n",
    "* Customer segmentation model\n",
    "* Total sales for each customer type\n",
    "* Total sales for each segment\n",
    "* Calculate CLV for each segment to identify which segment generates more Revenue over time \n",
    "* ROI"
   ],
   "metadata": {
    "collapsed": false
   },
   "id": "fb1882f18a173dfe"
  },
  {
   "cell_type": "code",
   "outputs": [
    {
     "name": "stdout",
     "output_type": "stream",
     "text": [
      "  Type Of Customer   Total Sales\n",
      "0         Consumer  1.161401e+06\n",
      "1        Corporate  7.061464e+05\n",
      "2      Home Office  4.296531e+05\n"
     ]
    },
    {
     "data": {
      "text/plain": "<BarContainer object of 3 artists>"
     },
     "execution_count": 18,
     "metadata": {},
     "output_type": "execute_result"
    },
    {
     "data": {
      "text/plain": "<Figure size 640x480 with 1 Axes>",
      "image/png": "[encoded data removed]"
     },
     "metadata": {},
     "output_type": "display_data"
    }
   ],
   "source": [
    "sales_per_segment = df.groupby('Segment')['Sales'].sum().reset_index()\n",
    "sales_per_segment = sales_per_segment.rename(columns={'Segment': 'Type Of Customer','Sales': 'Total Sales'})\n",
    "\n",
    "print(sales_per_segment)\n",
    "plt.bar(sales_per_segment['Type Of Customer'], sales_per_segment['Total Sales'])"
   ],
   "metadata": {
    "collapsed": false,
    "ExecuteTime": {
     "end_time": "2024-10-01T21:11:04.265242600Z",
     "start_time": "2024-10-01T21:11:04.167157300Z"
    }
   },
   "id": "4dd10c3d71cbb3a",
   "execution_count": 18
  },
  {
   "cell_type": "code",
   "outputs": [
    {
     "data": {
      "text/plain": "<Figure size 640x480 with 1 Axes>",
      "image/png": "[encoded data removed]"
     },
     "metadata": {},
     "output_type": "display_data"
    }
   ],
   "source": [
    "plt.pie(sales_per_segment['Total Sales'], labels=sales_per_segment['Type Of Customer'], autopct='%1.1f');"
   ],
   "metadata": {
    "collapsed": false,
    "ExecuteTime": {
     "end_time": "2024-10-01T21:11:06.942911300Z",
     "start_time": "2024-10-01T21:11:06.884820500Z"
    }
   },
   "id": "25ec11179cb62f43",
   "execution_count": 19
  },
  {
   "cell_type": "code",
   "outputs": [
    {
     "name": "stdout",
     "output_type": "stream",
     "text": [
      "  Customer ID  Customer Name   Segment           CLV\n",
      "0    AA-10315     Alex Avila  Consumer  167655.55840\n",
      "1    AA-10375   Allen Armold  Consumer   43368.30900\n",
      "2    AA-10480   Andrew Allen  Consumer   58865.45856\n",
      "3    AA-10645  Anna Andreadi  Consumer  250830.91620\n",
      "4    AB-10015  Aaron Bergman  Consumer   14561.82864\n"
     ]
    }
   ],
   "source": [
    "customers_CLV = df.groupby(['Customer ID', 'Customer Name', 'Segment'])['CLV'].sum().reset_index()\n",
    "print(customers_CLV.head())"
   ],
   "metadata": {
    "collapsed": false,
    "ExecuteTime": {
     "end_time": "2024-10-01T22:14:32.310839500Z",
     "start_time": "2024-10-01T22:14:32.295650900Z"
    }
   },
   "id": "73118bbbfff7f3f4",
   "execution_count": 123
  },
  {
   "cell_type": "code",
   "outputs": [],
   "source": [
    "customers_CLV.rename(columns={'CLV': 'Total CLV'}, inplace =True)"
   ],
   "metadata": {
    "collapsed": false,
    "ExecuteTime": {
     "end_time": "2024-10-01T22:14:37.574779Z",
     "start_time": "2024-10-01T22:14:37.568957500Z"
    }
   },
   "id": "fe52a9a5278a259b",
   "execution_count": 124
  },
  {
   "cell_type": "code",
   "outputs": [
    {
     "name": "stdout",
     "output_type": "stream",
     "text": [
      "    Customer ID Customer Name      Segment     Total CLV\n",
      "434    KL-16645  Ken Lonsdale     Consumer  1.125903e+06\n",
      "700    SM-20320   Sean Miller  Home Office  1.029117e+06\n",
      "720    SV-20365   Seth Vernon     Consumer  1.005334e+06\n",
      "311    GT-14710     Greg Tran     Consumer  9.389963e+05\n",
      "387    JL-15835      John Lee     Consumer  9.126813e+05\n"
     ]
    }
   ],
   "source": [
    "customer_high_clv = customers_CLV.sort_values(by='Total CLV', ascending=False)\n",
    "print(customer_high_clv.head())"
   ],
   "metadata": {
    "collapsed": false,
    "ExecuteTime": {
     "end_time": "2024-10-01T22:14:42.207387200Z",
     "start_time": "2024-10-01T22:14:42.195119Z"
    }
   },
   "id": "dd78ef3be1461df6",
   "execution_count": 125
  },
  {
   "cell_type": "code",
   "outputs": [],
   "source": [],
   "metadata": {
    "collapsed": false
   },
   "id": "849343eb3202a89e"
  },
  {
   "cell_type": "markdown",
   "source": [
    "* These are the customers with highest CLV. "
   ],
   "metadata": {
    "collapsed": false
   },
   "id": "f3d001648e5ff2e5"
  },
  {
   "cell_type": "markdown",
   "source": [
    "### Customer Loyalty\n",
    "\n",
    "* Is Revenue increasing or decreasing by keeping the Loyal customers.\n",
    "* 30 most Loyal customer using CLV. "
   ],
   "metadata": {
    "collapsed": false
   },
   "id": "7d95996f71129534"
  },
  {
   "cell_type": "code",
   "outputs": [
    {
     "name": "stdout",
     "output_type": "stream",
     "text": [
      "  Customer ID  Customer Name   Segment          CLV  Order ID\n",
      "0    AA-10315     Alex Avila  Consumer  15241.41440        11\n",
      "1    AA-10375   Allen Armold  Consumer   2891.22060        15\n",
      "2    AA-10480   Andrew Allen  Consumer   4905.45488        12\n",
      "3    AA-10645  Anna Andreadi  Consumer  13935.05090        18\n",
      "4    AB-10015  Aaron Bergman  Consumer   2426.97144         6\n"
     ]
    }
   ],
   "source": [
    "customers_order_frequency = df.groupby(['Customer ID', 'Customer Name', 'Segment', 'CLV'])['Order ID'].count().reset_index()\n",
    "print(customers_order_frequency.head(5))"
   ],
   "metadata": {
    "collapsed": false,
    "ExecuteTime": {
     "end_time": "2024-10-01T22:56:52.246703200Z",
     "start_time": "2024-10-01T22:56:52.216416200Z"
    }
   },
   "id": "6ece04896f9debe7",
   "execution_count": 151
  },
  {
   "cell_type": "code",
   "outputs": [
    {
     "name": "stdout",
     "output_type": "stream",
     "text": [
      "  Customer ID  Customer Name   Segment          CLV  Total Orders\n",
      "0    AA-10315     Alex Avila  Consumer  15241.41440            11\n",
      "1    AA-10375   Allen Armold  Consumer   2891.22060            15\n",
      "2    AA-10480   Andrew Allen  Consumer   4905.45488            12\n",
      "3    AA-10645  Anna Andreadi  Consumer  13935.05090            18\n",
      "4    AB-10015  Aaron Bergman  Consumer   2426.97144             6\n"
     ]
    }
   ],
   "source": [
    "customers_order_frequency.rename(columns={'Order ID': 'Total Orders'}, inplace=True)\n",
    "print(customers_order_frequency.head())"
   ],
   "metadata": {
    "collapsed": false,
    "ExecuteTime": {
     "end_time": "2024-10-01T22:57:15.033034700Z",
     "start_time": "2024-10-01T22:57:15.026737300Z"
    }
   },
   "id": "fac8d2b598629fce",
   "execution_count": 152
  },
  {
   "cell_type": "code",
   "outputs": [
    {
     "name": "stdout",
     "output_type": "stream",
     "text": [
      "    Customer ID       Customer Name    Segment          CLV  Total Orders\n",
      "788    XP-21865        Xylona Preis   Consumer   6503.00092            28\n",
      "789    YC-21895      Yoseph Carroll  Corporate  14943.27500             8\n",
      "790    YS-21880       Yana Sorensen  Corporate  18412.37256            12\n",
      "791    ZC-21910    Zuschuss Carroll   Consumer  21968.79118            31\n",
      "792    ZD-21925  Zuschuss Donatelli   Consumer   4090.66656             9\n"
     ]
    }
   ],
   "source": [
    "repeat_customers = customers_order_frequency[customers_order_frequency['Total Orders'] >=1]\n",
    "print(repeat_customers.tail())"
   ],
   "metadata": {
    "collapsed": false,
    "ExecuteTime": {
     "end_time": "2024-10-01T22:57:30.593375Z",
     "start_time": "2024-10-01T22:57:30.586489700Z"
    }
   },
   "id": "8d7f7c84e3c9e0ce",
   "execution_count": 153
  },
  {
   "cell_type": "code",
   "outputs": [
    {
     "name": "stdout",
     "output_type": "stream",
     "text": [
      "    Customer ID        Customer Name      Segment           CLV  Total Orders\n",
      "787    WB-21850        William Brown     Consumer  16857.855480            37\n",
      "606    PP-18955           Paul Prost  Home Office  19862.007920            34\n",
      "387    JL-15835             John Lee     Consumer  26843.569020            34\n",
      "482    MA-17560         Matt Abelman  Home Office  11770.933140            34\n",
      "720    SV-20365          Seth Vernon     Consumer  31416.703000            32\n",
      "349    JD-15895     Jonathan Doherty    Corporate  20847.191360            32\n",
      "147    CK-12205  Chloris Kastensmidt     Consumer   8623.752700            32\n",
      "257    EH-13765         Edward Hooks    Corporate  28245.509200            32\n",
      "275    EP-13915           Emily Phan     Consumer  14993.117792            31\n",
      "791    ZC-21910     Zuschuss Carroll     Consumer  21968.791180            31\n",
      "44     AP-10915       Arthur Prichep     Consumer   9098.597440            31\n",
      "450    LC-16870        Lena Cacioppo     Consumer   7051.400960            30\n",
      "691    SH-19975        Sally Hughsby    Corporate   9323.917230            29\n",
      "434    KL-16645         Ken Lonsdale     Consumer  38824.235460            29\n",
      "244    Dp-13240          Dean percer  Home Office  19709.809140            29\n",
      "311    GT-14710            Greg Tran     Consumer  32379.182800            29\n",
      "92     BM-11650           Brian Moss    Corporate  19979.353900            29\n",
      "152    CL-12565          Clay Ludtke     Consumer  29803.928040            28\n",
      "175    CS-12250      Chris Selesnick    Corporate   7542.167840            28\n",
      "788    XP-21865         Xylona Preis     Consumer   6503.000920            28\n",
      "424    KD-16495        Keith Dawkins    Corporate  22409.928440            28\n",
      "438    KM-16720         Kunst Miller     Consumer  13445.103280            28\n",
      "82     BF-11170           Ben Ferrer  Home Office  16178.801280            27\n",
      "210    DK-12835      Damala Kotsonis    Corporate   8909.603200            27\n",
      "591    PG-18820      Patrick Gardner     Consumer   8446.069180            26\n",
      "447    LA-16780      Laura Armstrong    Corporate  23756.408280            26\n",
      "125    CB-12025    Cassandra Brandow     Consumer  16636.975860            26\n",
      "576    NS-18640         Noel Staavos    Corporate   8108.271020            26\n",
      "678    SC-20725    Steven Cartwright     Consumer  14309.129400            26\n",
      "52     AS-10090   Adam Shillingsburg     Consumer   8907.219400            25\n"
     ]
    }
   ],
   "source": [
    "repeat_customers_sorted = repeat_customers.sort_values(by='Total Orders', ascending = False)\n",
    "print(repeat_customers_sorted.head(30))"
   ],
   "metadata": {
    "collapsed": false,
    "ExecuteTime": {
     "end_time": "2024-10-01T22:58:01.446392100Z",
     "start_time": "2024-10-01T22:58:01.425655200Z"
    }
   },
   "id": "9d10f703c6402fc7",
   "execution_count": 154
  },
  {
   "cell_type": "markdown",
   "source": [
    "#### Loyalty Score"
   ],
   "metadata": {
    "collapsed": false
   },
   "id": "6031d6fc5de56f65"
  },
  {
   "cell_type": "code",
   "outputs": [
    {
     "name": "stdout",
     "output_type": "stream",
     "text": [
      "35.839704051888496\n"
     ]
    }
   ],
   "source": [
    "# Calculating Loyalty metrics\n",
    "\n",
    "loyalty_data = df.groupby('Customer ID').agg(purchase_frequency=('Order ID', 'count'),\n",
    "                                             last_order_date=('Order Date', 'max'),\n",
    "                                             total_revenue=('Total Revenue', 'sum')).reset_index()\n",
    "\n",
    "# Calculating Recency in days\n",
    "max_order_date = df['Order Date'].max()\n",
    "loyalty_data['Recency'] = (max_order_date - loyalty_data['last_order_date']).dt.days\n",
    "\n",
    "# Defining Loyalty score\n",
    "loyalty_data['loyalty_score'] = (\n",
    "    loyalty_data['purchase_frequency'] * (1 / (loyalty_data['Recency'] + 1)) +\n",
    "    loyalty_data['total_revenue'] * 0.1\n",
    ")\n",
    "\n",
    "# Getting to 30 loyal customers \n",
    "\n",
    "top_loyal_customers = loyalty_data.nlargest(100, 'loyalty_score')\n",
    "\n",
    "# Calculating their revenue contribution\n",
    "\n",
    "total_loyal_revenue = top_loyal_customers['total_revenue'].sum()\n",
    "overall_revenue = df['Total Revenue'].sum()\n",
    "loyalty_contribution_percentage = (total_loyal_revenue / overall_revenue) * 100 \n",
    "print(loyalty_contribution_percentage)"
   ],
   "metadata": {
    "collapsed": false,
    "ExecuteTime": {
     "end_time": "2024-10-01T22:51:35.772310500Z",
     "start_time": "2024-10-01T22:51:35.744673100Z"
    }
   },
   "id": "c98ec52f7ff196f8",
   "execution_count": 150
  },
  {
   "cell_type": "code",
   "outputs": [
    {
     "name": "stdout",
     "output_type": "stream",
     "text": [
      "793\n"
     ]
    }
   ],
   "source": [
    "# Count the number of top loyal customers contributing to the 15% revenue\n",
    "total_customers = df['Customer ID'].nunique()\n",
    "print(total_customers)"
   ],
   "metadata": {
    "collapsed": false,
    "ExecuteTime": {
     "end_time": "2024-10-01T22:47:40.354208800Z",
     "start_time": "2024-10-01T22:47:40.333185100Z"
    }
   },
   "id": "11725849cf846a29",
   "execution_count": 143
  },
  {
   "cell_type": "code",
   "outputs": [
    {
     "name": "stdout",
     "output_type": "stream",
     "text": [
      "0.03783102143757881\n"
     ]
    }
   ],
   "source": [
    "contribution_ratio = 30 / total_customers\n",
    "print(contribution_ratio)"
   ],
   "metadata": {
    "collapsed": false,
    "ExecuteTime": {
     "end_time": "2024-10-01T22:48:18.742768800Z",
     "start_time": "2024-10-01T22:48:18.712260300Z"
    }
   },
   "id": "7d448e690fd2b934",
   "execution_count": 144
  },
  {
   "cell_type": "code",
   "outputs": [
    {
     "data": {
      "text/plain": "793"
     },
     "execution_count": 147,
     "metadata": {},
     "output_type": "execute_result"
    }
   ],
   "source": [
    "df['Customer ID'].nunique()"
   ],
   "metadata": {
    "collapsed": false,
    "ExecuteTime": {
     "end_time": "2024-10-01T22:51:10.614525400Z",
     "start_time": "2024-10-01T22:51:10.595181800Z"
    }
   },
   "id": "514076e0dd03bbe2",
   "execution_count": 147
  },
  {
   "cell_type": "code",
   "outputs": [],
   "source": [],
   "metadata": {
    "collapsed": false
   },
   "id": "b2465b7c503b7be4"
  }
 ],
 "metadata": {
  "kernelspec": {
   "display_name": "Python 3",
   "language": "python",
   "name": "python3"
  },
  "language_info": {
   "codemirror_mode": {
    "name": "ipython",
    "version": 2
   },
   "file_extension": ".py",
   "mimetype": "text/x-python",
   "name": "python",
   "nbconvert_exporter": "python",
   "pygments_lexer": "ipython2",
   "version": "2.7.6"
  }
 },
 "nbformat": 4,
 "nbformat_minor": 5
}
