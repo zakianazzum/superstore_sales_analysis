{
 "cells": [
  {
   "cell_type": "code",
   "id": "initial_id",
   "metadata": {
    "collapsed": true,
    "ExecuteTime": {
     "end_time": "2024-10-11T23:51:35.587125Z",
     "start_time": "2024-10-11T23:51:35.583482Z"
    }
   },
   "source": [
    "import pandas as pd\n",
    "import numpy as np\n",
    "import matplotlib.pyplot as plt\n",
    "import seaborn as sns\n",
    "from traitlets import observe"
   ],
   "outputs": [],
   "execution_count": 2
  },
  {
   "metadata": {
    "ExecuteTime": {
     "end_time": "2024-10-11T23:53:10.987693Z",
     "start_time": "2024-10-11T23:53:10.926332Z"
    }
   },
   "cell_type": "code",
   "source": "df = pd.read_csv('/home/asif/Code/Godhuli/superstore_sales_analysis/Data/superstore.csv',encoding='latin1')",
   "id": "4609b433109a1a69",
   "outputs": [],
   "execution_count": 3
  },
  {
   "metadata": {
    "ExecuteTime": {
     "end_time": "2024-10-11T23:53:18.522284Z",
     "start_time": "2024-10-11T23:53:18.500771Z"
    }
   },
   "cell_type": "code",
   "source": "df.head()",
   "id": "7b25fc25fd5b545e",
   "outputs": [
    {
     "data": {
      "text/plain": [
       "   Row ID        Order ID  Order Date   Ship Date       Ship Mode Customer ID  \\\n",
       "0       1  CA-2016-152156   11/8/2016  11/11/2016    Second Class    CG-12520   \n",
       "1       2  CA-2016-152156   11/8/2016  11/11/2016    Second Class    CG-12520   \n",
       "2       3  CA-2016-138688   6/12/2016   6/16/2016    Second Class    DV-13045   \n",
       "3       4  US-2015-108966  10/11/2015  10/18/2015  Standard Class    SO-20335   \n",
       "4       5  US-2015-108966  10/11/2015  10/18/2015  Standard Class    SO-20335   \n",
       "\n",
       "     Customer Name    Segment        Country             City  ...  \\\n",
       "0      Claire Gute   Consumer  United States        Henderson  ...   \n",
       "1      Claire Gute   Consumer  United States        Henderson  ...   \n",
       "2  Darrin Van Huff  Corporate  United States      Los Angeles  ...   \n",
       "3   Sean O'Donnell   Consumer  United States  Fort Lauderdale  ...   \n",
       "4   Sean O'Donnell   Consumer  United States  Fort Lauderdale  ...   \n",
       "\n",
       "  Postal Code  Region       Product ID         Category Sub-Category  \\\n",
       "0       42420   South  FUR-BO-10001798        Furniture    Bookcases   \n",
       "1       42420   South  FUR-CH-10000454        Furniture       Chairs   \n",
       "2       90036    West  OFF-LA-10000240  Office Supplies       Labels   \n",
       "3       33311   South  FUR-TA-10000577        Furniture       Tables   \n",
       "4       33311   South  OFF-ST-10000760  Office Supplies      Storage   \n",
       "\n",
       "                                        Product Name     Sales  Quantity  \\\n",
       "0                  Bush Somerset Collection Bookcase  261.9600         2   \n",
       "1  Hon Deluxe Fabric Upholstered Stacking Chairs,...  731.9400         3   \n",
       "2  Self-Adhesive Address Labels for Typewriters b...   14.6200         2   \n",
       "3      Bretford CR4500 Series Slim Rectangular Table  957.5775         5   \n",
       "4                     Eldon Fold 'N Roll Cart System   22.3680         2   \n",
       "\n",
       "   Discount    Profit  \n",
       "0      0.00   41.9136  \n",
       "1      0.00  219.5820  \n",
       "2      0.00    6.8714  \n",
       "3      0.45 -383.0310  \n",
       "4      0.20    2.5164  \n",
       "\n",
       "[5 rows x 21 columns]"
      ],
      "text/html": [
       "<div>\n",
       "<style scoped>\n",
       "    .dataframe tbody tr th:only-of-type {\n",
       "        vertical-align: middle;\n",
       "    }\n",
       "\n",
       "    .dataframe tbody tr th {\n",
       "        vertical-align: top;\n",
       "    }\n",
       "\n",
       "    .dataframe thead th {\n",
       "        text-align: right;\n",
       "    }\n",
       "</style>\n",
       "<table border=\"1\" class=\"dataframe\">\n",
       "  <thead>\n",
       "    <tr style=\"text-align: right;\">\n",
       "      <th></th>\n",
       "      <th>Row ID</th>\n",
       "      <th>Order ID</th>\n",
       "      <th>Order Date</th>\n",
       "      <th>Ship Date</th>\n",
       "      <th>Ship Mode</th>\n",
       "      <th>Customer ID</th>\n",
       "      <th>Customer Name</th>\n",
       "      <th>Segment</th>\n",
       "      <th>Country</th>\n",
       "      <th>City</th>\n",
       "      <th>...</th>\n",
       "      <th>Postal Code</th>\n",
       "      <th>Region</th>\n",
       "      <th>Product ID</th>\n",
       "      <th>Category</th>\n",
       "      <th>Sub-Category</th>\n",
       "      <th>Product Name</th>\n",
       "      <th>Sales</th>\n",
       "      <th>Quantity</th>\n",
       "      <th>Discount</th>\n",
       "      <th>Profit</th>\n",
       "    </tr>\n",
       "  </thead>\n",
       "  <tbody>\n",
       "    <tr>\n",
       "      <th>0</th>\n",
       "      <td>1</td>\n",
       "      <td>CA-2016-152156</td>\n",
       "      <td>11/8/2016</td>\n",
       "      <td>11/11/2016</td>\n",
       "      <td>Second Class</td>\n",
       "      <td>CG-12520</td>\n",
       "      <td>Claire Gute</td>\n",
       "      <td>Consumer</td>\n",
       "      <td>United States</td>\n",
       "      <td>Henderson</td>\n",
       "      <td>...</td>\n",
       "      <td>42420</td>\n",
       "      <td>South</td>\n",
       "      <td>FUR-BO-10001798</td>\n",
       "      <td>Furniture</td>\n",
       "      <td>Bookcases</td>\n",
       "      <td>Bush Somerset Collection Bookcase</td>\n",
       "      <td>261.9600</td>\n",
       "      <td>2</td>\n",
       "      <td>0.00</td>\n",
       "      <td>41.9136</td>\n",
       "    </tr>\n",
       "    <tr>\n",
       "      <th>1</th>\n",
       "      <td>2</td>\n",
       "      <td>CA-2016-152156</td>\n",
       "      <td>11/8/2016</td>\n",
       "      <td>11/11/2016</td>\n",
       "      <td>Second Class</td>\n",
       "      <td>CG-12520</td>\n",
       "      <td>Claire Gute</td>\n",
       "      <td>Consumer</td>\n",
       "      <td>United States</td>\n",
       "      <td>Henderson</td>\n",
       "      <td>...</td>\n",
       "      <td>42420</td>\n",
       "      <td>South</td>\n",
       "      <td>FUR-CH-10000454</td>\n",
       "      <td>Furniture</td>\n",
       "      <td>Chairs</td>\n",
       "      <td>Hon Deluxe Fabric Upholstered Stacking Chairs,...</td>\n",
       "      <td>731.9400</td>\n",
       "      <td>3</td>\n",
       "      <td>0.00</td>\n",
       "      <td>219.5820</td>\n",
       "    </tr>\n",
       "    <tr>\n",
       "      <th>2</th>\n",
       "      <td>3</td>\n",
       "      <td>CA-2016-138688</td>\n",
       "      <td>6/12/2016</td>\n",
       "      <td>6/16/2016</td>\n",
       "      <td>Second Class</td>\n",
       "      <td>DV-13045</td>\n",
       "      <td>Darrin Van Huff</td>\n",
       "      <td>Corporate</td>\n",
       "      <td>United States</td>\n",
       "      <td>Los Angeles</td>\n",
       "      <td>...</td>\n",
       "      <td>90036</td>\n",
       "      <td>West</td>\n",
       "      <td>OFF-LA-10000240</td>\n",
       "      <td>Office Supplies</td>\n",
       "      <td>Labels</td>\n",
       "      <td>Self-Adhesive Address Labels for Typewriters b...</td>\n",
       "      <td>14.6200</td>\n",
       "      <td>2</td>\n",
       "      <td>0.00</td>\n",
       "      <td>6.8714</td>\n",
       "    </tr>\n",
       "    <tr>\n",
       "      <th>3</th>\n",
       "      <td>4</td>\n",
       "      <td>US-2015-108966</td>\n",
       "      <td>10/11/2015</td>\n",
       "      <td>10/18/2015</td>\n",
       "      <td>Standard Class</td>\n",
       "      <td>SO-20335</td>\n",
       "      <td>Sean O'Donnell</td>\n",
       "      <td>Consumer</td>\n",
       "      <td>United States</td>\n",
       "      <td>Fort Lauderdale</td>\n",
       "      <td>...</td>\n",
       "      <td>33311</td>\n",
       "      <td>South</td>\n",
       "      <td>FUR-TA-10000577</td>\n",
       "      <td>Furniture</td>\n",
       "      <td>Tables</td>\n",
       "      <td>Bretford CR4500 Series Slim Rectangular Table</td>\n",
       "      <td>957.5775</td>\n",
       "      <td>5</td>\n",
       "      <td>0.45</td>\n",
       "      <td>-383.0310</td>\n",
       "    </tr>\n",
       "    <tr>\n",
       "      <th>4</th>\n",
       "      <td>5</td>\n",
       "      <td>US-2015-108966</td>\n",
       "      <td>10/11/2015</td>\n",
       "      <td>10/18/2015</td>\n",
       "      <td>Standard Class</td>\n",
       "      <td>SO-20335</td>\n",
       "      <td>Sean O'Donnell</td>\n",
       "      <td>Consumer</td>\n",
       "      <td>United States</td>\n",
       "      <td>Fort Lauderdale</td>\n",
       "      <td>...</td>\n",
       "      <td>33311</td>\n",
       "      <td>South</td>\n",
       "      <td>OFF-ST-10000760</td>\n",
       "      <td>Office Supplies</td>\n",
       "      <td>Storage</td>\n",
       "      <td>Eldon Fold 'N Roll Cart System</td>\n",
       "      <td>22.3680</td>\n",
       "      <td>2</td>\n",
       "      <td>0.20</td>\n",
       "      <td>2.5164</td>\n",
       "    </tr>\n",
       "  </tbody>\n",
       "</table>\n",
       "<p>5 rows × 21 columns</p>\n",
       "</div>"
      ]
     },
     "execution_count": 4,
     "metadata": {},
     "output_type": "execute_result"
    }
   ],
   "execution_count": 4
  },
  {
   "metadata": {},
   "cell_type": "markdown",
   "source": [
    "# 1. Data Understanding and Preparation\n",
    "\n",
    "#### 1.1 Data Exploration"
   ],
   "id": "ee9fc5ecfc3b4abf"
  },
  {
   "metadata": {
    "ExecuteTime": {
     "end_time": "2024-10-11T23:53:26.442902Z",
     "start_time": "2024-10-11T23:53:26.424568Z"
    }
   },
   "cell_type": "code",
   "source": "df.info()",
   "id": "1f8bd7955e275fe1",
   "outputs": [
    {
     "name": "stdout",
     "output_type": "stream",
     "text": [
      "<class 'pandas.core.frame.DataFrame'>\n",
      "RangeIndex: 9994 entries, 0 to 9993\n",
      "Data columns (total 21 columns):\n",
      " #   Column         Non-Null Count  Dtype  \n",
      "---  ------         --------------  -----  \n",
      " 0   Row ID         9994 non-null   int64  \n",
      " 1   Order ID       9994 non-null   object \n",
      " 2   Order Date     9994 non-null   object \n",
      " 3   Ship Date      9994 non-null   object \n",
      " 4   Ship Mode      9994 non-null   object \n",
      " 5   Customer ID    9994 non-null   object \n",
      " 6   Customer Name  9994 non-null   object \n",
      " 7   Segment        9994 non-null   object \n",
      " 8   Country        9994 non-null   object \n",
      " 9   City           9994 non-null   object \n",
      " 10  State          9994 non-null   object \n",
      " 11  Postal Code    9994 non-null   int64  \n",
      " 12  Region         9994 non-null   object \n",
      " 13  Product ID     9994 non-null   object \n",
      " 14  Category       9994 non-null   object \n",
      " 15  Sub-Category   9994 non-null   object \n",
      " 16  Product Name   9994 non-null   object \n",
      " 17  Sales          9994 non-null   float64\n",
      " 18  Quantity       9994 non-null   int64  \n",
      " 19  Discount       9994 non-null   float64\n",
      " 20  Profit         9994 non-null   float64\n",
      "dtypes: float64(3), int64(3), object(15)\n",
      "memory usage: 1.6+ MB\n"
     ]
    }
   ],
   "execution_count": 5
  },
  {
   "metadata": {
    "ExecuteTime": {
     "end_time": "2024-10-11T23:53:29.477952Z",
     "start_time": "2024-10-11T23:53:29.222351Z"
    }
   },
   "cell_type": "code",
   "source": "df.isnull().sum(axis=1).plot()",
   "id": "4438666e9a779b80",
   "outputs": [
    {
     "data": {
      "text/plain": [
       "<Axes: >"
      ]
     },
     "execution_count": 6,
     "metadata": {},
     "output_type": "execute_result"
    },
    {
     "data": {
      "text/plain": [
       "<Figure size 640x480 with 1 Axes>"
      ],
      "image/png": "[encoded data removed]"
     },
     "metadata": {},
     "output_type": "display_data"
    }
   ],
   "execution_count": 6
  },
  {
   "metadata": {},
   "cell_type": "markdown",
   "source": "No Null values",
   "id": "f6ab9dd9d7d4bcae"
  },
  {
   "metadata": {},
   "cell_type": "markdown",
   "source": "#### 1.2 Data Cleaning ",
   "id": "5f4ddfcfe8c1223f"
  },
  {
   "metadata": {
    "ExecuteTime": {
     "end_time": "2024-10-11T23:53:38.390909Z",
     "start_time": "2024-10-11T23:53:38.386534Z"
    }
   },
   "cell_type": "code",
   "source": [
    "# Dropping Row ID\n",
    "df = df.drop(columns=['Row ID'])"
   ],
   "id": "5f697adb306f333a",
   "outputs": [],
   "execution_count": 7
  },
  {
   "metadata": {
    "ExecuteTime": {
     "end_time": "2024-10-11T23:53:41.026387Z",
     "start_time": "2024-10-11T23:53:41.005498Z"
    }
   },
   "cell_type": "code",
   "source": [
    "# Checking for Duplicates \n",
    "if df.duplicated().sum() > 0:\n",
    "    print('Duplicate exits')\n",
    "else:\n",
    "    print(\"No duplicates\")"
   ],
   "id": "13bf2e9c5ccc574c",
   "outputs": [
    {
     "name": "stdout",
     "output_type": "stream",
     "text": [
      "Duplicate exits\n"
     ]
    }
   ],
   "execution_count": 8
  },
  {
   "metadata": {
    "ExecuteTime": {
     "end_time": "2024-10-11T23:53:43.569622Z",
     "start_time": "2024-10-11T23:53:43.542425Z"
    }
   },
   "cell_type": "code",
   "source": [
    "duplicates = df[df.duplicated(keep=False)]\n",
    "duplicates"
   ],
   "id": "5e943f1e2a5685b3",
   "outputs": [
    {
     "data": {
      "text/plain": [
       "            Order ID Order Date  Ship Date       Ship Mode Customer ID  \\\n",
       "3405  US-2014-150119  4/23/2014  4/27/2014  Standard Class    LB-16795   \n",
       "3406  US-2014-150119  4/23/2014  4/27/2014  Standard Class    LB-16795   \n",
       "\n",
       "       Customer Name      Segment        Country      City State  Postal Code  \\\n",
       "3405  Laurel Beltran  Home Office  United States  Columbus  Ohio        43229   \n",
       "3406  Laurel Beltran  Home Office  United States  Columbus  Ohio        43229   \n",
       "\n",
       "     Region       Product ID   Category Sub-Category  \\\n",
       "3405   East  FUR-CH-10002965  Furniture       Chairs   \n",
       "3406   East  FUR-CH-10002965  Furniture       Chairs   \n",
       "\n",
       "                                           Product Name    Sales  Quantity  \\\n",
       "3405  Global Leather Highback Executive Chair with P...  281.372         2   \n",
       "3406  Global Leather Highback Executive Chair with P...  281.372         2   \n",
       "\n",
       "      Discount   Profit  \n",
       "3405       0.3 -12.0588  \n",
       "3406       0.3 -12.0588  "
      ],
      "text/html": [
       "<div>\n",
       "<style scoped>\n",
       "    .dataframe tbody tr th:only-of-type {\n",
       "        vertical-align: middle;\n",
       "    }\n",
       "\n",
       "    .dataframe tbody tr th {\n",
       "        vertical-align: top;\n",
       "    }\n",
       "\n",
       "    .dataframe thead th {\n",
       "        text-align: right;\n",
       "    }\n",
       "</style>\n",
       "<table border=\"1\" class=\"dataframe\">\n",
       "  <thead>\n",
       "    <tr style=\"text-align: right;\">\n",
       "      <th></th>\n",
       "      <th>Order ID</th>\n",
       "      <th>Order Date</th>\n",
       "      <th>Ship Date</th>\n",
       "      <th>Ship Mode</th>\n",
       "      <th>Customer ID</th>\n",
       "      <th>Customer Name</th>\n",
       "      <th>Segment</th>\n",
       "      <th>Country</th>\n",
       "      <th>City</th>\n",
       "      <th>State</th>\n",
       "      <th>Postal Code</th>\n",
       "      <th>Region</th>\n",
       "      <th>Product ID</th>\n",
       "      <th>Category</th>\n",
       "      <th>Sub-Category</th>\n",
       "      <th>Product Name</th>\n",
       "      <th>Sales</th>\n",
       "      <th>Quantity</th>\n",
       "      <th>Discount</th>\n",
       "      <th>Profit</th>\n",
       "    </tr>\n",
       "  </thead>\n",
       "  <tbody>\n",
       "    <tr>\n",
       "      <th>3405</th>\n",
       "      <td>US-2014-150119</td>\n",
       "      <td>4/23/2014</td>\n",
       "      <td>4/27/2014</td>\n",
       "      <td>Standard Class</td>\n",
       "      <td>LB-16795</td>\n",
       "      <td>Laurel Beltran</td>\n",
       "      <td>Home Office</td>\n",
       "      <td>United States</td>\n",
       "      <td>Columbus</td>\n",
       "      <td>Ohio</td>\n",
       "      <td>43229</td>\n",
       "      <td>East</td>\n",
       "      <td>FUR-CH-10002965</td>\n",
       "      <td>Furniture</td>\n",
       "      <td>Chairs</td>\n",
       "      <td>Global Leather Highback Executive Chair with P...</td>\n",
       "      <td>281.372</td>\n",
       "      <td>2</td>\n",
       "      <td>0.3</td>\n",
       "      <td>-12.0588</td>\n",
       "    </tr>\n",
       "    <tr>\n",
       "      <th>3406</th>\n",
       "      <td>US-2014-150119</td>\n",
       "      <td>4/23/2014</td>\n",
       "      <td>4/27/2014</td>\n",
       "      <td>Standard Class</td>\n",
       "      <td>LB-16795</td>\n",
       "      <td>Laurel Beltran</td>\n",
       "      <td>Home Office</td>\n",
       "      <td>United States</td>\n",
       "      <td>Columbus</td>\n",
       "      <td>Ohio</td>\n",
       "      <td>43229</td>\n",
       "      <td>East</td>\n",
       "      <td>FUR-CH-10002965</td>\n",
       "      <td>Furniture</td>\n",
       "      <td>Chairs</td>\n",
       "      <td>Global Leather Highback Executive Chair with P...</td>\n",
       "      <td>281.372</td>\n",
       "      <td>2</td>\n",
       "      <td>0.3</td>\n",
       "      <td>-12.0588</td>\n",
       "    </tr>\n",
       "  </tbody>\n",
       "</table>\n",
       "</div>"
      ]
     },
     "execution_count": 9,
     "metadata": {},
     "output_type": "execute_result"
    }
   ],
   "execution_count": 9
  },
  {
   "metadata": {
    "ExecuteTime": {
     "end_time": "2024-10-11T23:53:48.669547Z",
     "start_time": "2024-10-11T23:53:48.644479Z"
    }
   },
   "cell_type": "code",
   "source": [
    "# Dropping Duplicate row\n",
    "df.drop_duplicates(inplace=True)"
   ],
   "id": "b0694ecdee96f1a3",
   "outputs": [],
   "execution_count": 10
  },
  {
   "metadata": {},
   "cell_type": "markdown",
   "source": "#### Converting Data Types",
   "id": "1d096a2ce547973c"
  },
  {
   "metadata": {
    "ExecuteTime": {
     "end_time": "2024-10-12T00:02:42.965008Z",
     "start_time": "2024-10-12T00:02:42.948873Z"
    }
   },
   "cell_type": "code",
   "source": [
    "data_columns = ['Order Date', 'Ship Date']\n",
    "for col in data_columns:\n",
    "    df[col] = pd.to_datetime(df[col])"
   ],
   "id": "b45940da301b0bea",
   "outputs": [],
   "execution_count": 11
  },
  {
   "metadata": {
    "ExecuteTime": {
     "end_time": "2024-10-12T00:04:13.420317Z",
     "start_time": "2024-10-12T00:04:13.414999Z"
    }
   },
   "cell_type": "code",
   "source": "df['Customer ID'] = df['Customer ID'].astype('category')",
   "id": "8a19028cf7ad7560",
   "outputs": [],
   "execution_count": 12
  },
  {
   "metadata": {},
   "cell_type": "markdown",
   "source": [
    "#### 1.3 Feature Engineering\n",
    "* Creating New Feature : Order Year and Month"
   ],
   "id": "2629511843225c64"
  },
  {
   "metadata": {
    "ExecuteTime": {
     "end_time": "2024-10-12T00:04:16.409936Z",
     "start_time": "2024-10-12T00:04:16.404244Z"
    }
   },
   "cell_type": "code",
   "source": [
    "df['Order Year'] = df['Order Date'].dt.year\n",
    "df['Order Month'] = df['Order Date'].dt.month"
   ],
   "id": "fc842f68f54b1ebf",
   "outputs": [],
   "execution_count": 13
  },
  {
   "metadata": {
    "ExecuteTime": {
     "end_time": "2024-10-12T00:12:53.570487Z",
     "start_time": "2024-10-12T00:12:53.560442Z"
    }
   },
   "cell_type": "code",
   "source": [
    "def investigate_sales_discount(df):\n",
    "    print(\"Sample of Sales and Discount:\")\n",
    "    print(df[['Sales', 'Discount', 'Quantity']].head())\n",
    "    \n",
    "    print(\"\\nDiscount range:\")\n",
    "    print(df['Discount'].describe())\n",
    "    \n",
    "    print(\"\\nCalculating potential Revenue:\")\n",
    "    df['Potential Revenue'] = df['Sales'] * (1-df['Discount'])\n",
    "    print(df[['Sales', 'Discount', 'Potential Revenue']].head())\n",
    "    \n",
    "    print(\"\\nComparing Sales and Potential Revenue:\")\n",
    "    print(\"Total Sales: \", df['Sales'].sum())\n",
    "    print(\"Total Potential Revenue: \", df['Potential Revenue'].sum())\n",
    "    \n",
    "investigate_sales_discount(df)\n",
    "    \n",
    "    "
   ],
   "id": "c21fcf0d4f156dc6",
   "outputs": [
    {
     "name": "stdout",
     "output_type": "stream",
     "text": [
      "Sample of Sales and Discount:\n",
      "      Sales  Discount  Quantity\n",
      "0  261.9600      0.00         2\n",
      "1  731.9400      0.00         3\n",
      "2   14.6200      0.00         2\n",
      "3  957.5775      0.45         5\n",
      "4   22.3680      0.20         2\n",
      "\n",
      "Discount range:\n",
      "count    9993.000000\n",
      "mean        0.156188\n",
      "std         0.206457\n",
      "min         0.000000\n",
      "25%         0.000000\n",
      "50%         0.200000\n",
      "75%         0.200000\n",
      "max         0.800000\n",
      "Name: Discount, dtype: float64\n",
      "\n",
      "Calculating potential Revenue:\n",
      "      Sales  Discount  Potential Revenue\n",
      "0  261.9600      0.00         261.960000\n",
      "1  731.9400      0.00         731.940000\n",
      "2   14.6200      0.00          14.620000\n",
      "3  957.5775      0.45         526.667625\n",
      "4   22.3680      0.20          17.894400\n",
      "\n",
      "Comparing Sales and Potential Revenue:\n",
      "Total Sales:  2296919.4883000003\n",
      "Total Potential Revenue:  1974421.7655590002\n"
     ]
    }
   ],
   "execution_count": 16
  },
  {
   "metadata": {},
   "cell_type": "markdown",
   "source": [
    "###### Sales column is likely representing Revenue (or Net Sales).\n",
    "###### The Discount column shows the rate of discount applied to the original price"
   ],
   "id": "2c7a08abf0e9ad1a"
  },
  {
   "metadata": {},
   "cell_type": "markdown",
   "source": "",
   "id": "45e62490c5cf84a7"
  },
  {
   "metadata": {
    "ExecuteTime": {
     "end_time": "2024-10-12T00:28:20.994421Z",
     "start_time": "2024-10-12T00:28:20.991713Z"
    }
   },
   "cell_type": "code",
   "source": [
    "# Renaming Sales column \n",
    "df.rename(columns={'Sales':'Total Revenue'}, inplace=True)\n"
   ],
   "id": "5eecbc5f683ac173",
   "outputs": [],
   "execution_count": 17
  },
  {
   "metadata": {},
   "cell_type": "markdown",
   "source": "* Calculating Customer Lifetime Value (CLV)",
   "id": "521002d586553d22"
  },
  {
   "metadata": {
    "ExecuteTime": {
     "end_time": "2024-10-12T00:36:27.693080Z",
     "start_time": "2024-10-12T00:36:27.686102Z"
    }
   },
   "cell_type": "code",
   "source": [
    "# Calculate customer lifespan\n",
    "def calculate_average_lifespan(df):\n",
    "    lifespan = df.groupby('Customer ID')['Order Date'].agg(['min', 'max'])\n",
    "    lifespan['Lifespan (days)'] = (lifespan['max'] - lifespan['min']).dt.days\n",
    "    average_lifespan = lifespan['Lifespan (days)'].mean()\n",
    "    average_lifespan_years = average_lifespan / 365  \n",
    "    return average_lifespan_years\n",
    "\n",
    "ave_lifespan = calculate_average_lifespan(df)\n",
    "print(f\"\\nAverage Lifespan: {ave_lifespan:.2f} years\")"
   ],
   "id": "231bbe6030fa0fb5",
   "outputs": [
    {
     "name": "stdout",
     "output_type": "stream",
     "text": [
      "\n",
      "Average Lifespan: 2.74 years\n"
     ]
    },
    {
     "name": "stderr",
     "output_type": "stream",
     "text": [
      "/tmp/ipykernel_272842/545695867.py:3: FutureWarning: The default of observed=False is deprecated and will be changed to True in a future version of pandas. Pass observed=False to retain current behavior or observed=True to adopt the future default and silence this warning.\n",
      "  lifespan = df.groupby('Customer ID')['Order Date'].agg(['min', 'max'])\n"
     ]
    }
   ],
   "execution_count": 21
  },
  {
   "metadata": {
    "ExecuteTime": {
     "end_time": "2024-10-12T00:37:05.460222Z",
     "start_time": "2024-10-12T00:37:05.448961Z"
    }
   },
   "cell_type": "code",
   "source": [
    "avg_order_value = df.groupby('Customer ID')['Total Revenue'].mean()\n",
    "purchase_frequency = df.groupby('Customer ID')['Order ID'].count()\n",
    "\n",
    "clv = avg_order_value * purchase_frequency * ave_lifespan\n",
    "clv = clv.rename('CLV')\n",
    "df = df.merge(clv, on='Customer ID', how='left')"
   ],
   "id": "15f4c0e09d3590e3",
   "outputs": [
    {
     "name": "stderr",
     "output_type": "stream",
     "text": [
      "/tmp/ipykernel_272842/1410116754.py:1: FutureWarning: The default of observed=False is deprecated and will be changed to True in a future version of pandas. Pass observed=False to retain current behavior or observed=True to adopt the future default and silence this warning.\n",
      "  avg_order_value = df.groupby('Customer ID')['Total Revenue'].mean()\n",
      "/tmp/ipykernel_272842/1410116754.py:2: FutureWarning: The default of observed=False is deprecated and will be changed to True in a future version of pandas. Pass observed=False to retain current behavior or observed=True to adopt the future default and silence this warning.\n",
      "  purchase_frequency = df.groupby('Customer ID')['Order ID'].count()\n"
     ]
    }
   ],
   "execution_count": 22
  },
  {
   "metadata": {
    "ExecuteTime": {
     "end_time": "2024-10-12T00:40:10.646353Z",
     "start_time": "2024-10-12T00:40:10.630395Z"
    }
   },
   "cell_type": "code",
   "source": "df.head(10)",
   "id": "b897f73db5bbe353",
   "outputs": [
    {
     "data": {
      "text/plain": [
       "         Order ID Order Date  Ship Date       Ship Mode Customer ID  \\\n",
       "0  CA-2016-152156 2016-11-08 2016-11-11    Second Class    CG-12520   \n",
       "1  CA-2016-152156 2016-11-08 2016-11-11    Second Class    CG-12520   \n",
       "2  CA-2016-138688 2016-06-12 2016-06-16    Second Class    DV-13045   \n",
       "3  US-2015-108966 2015-10-11 2015-10-18  Standard Class    SO-20335   \n",
       "4  US-2015-108966 2015-10-11 2015-10-18  Standard Class    SO-20335   \n",
       "5  CA-2014-115812 2014-06-09 2014-06-14  Standard Class    BH-11710   \n",
       "6  CA-2014-115812 2014-06-09 2014-06-14  Standard Class    BH-11710   \n",
       "7  CA-2014-115812 2014-06-09 2014-06-14  Standard Class    BH-11710   \n",
       "8  CA-2014-115812 2014-06-09 2014-06-14  Standard Class    BH-11710   \n",
       "9  CA-2014-115812 2014-06-09 2014-06-14  Standard Class    BH-11710   \n",
       "\n",
       "     Customer Name    Segment        Country             City       State  \\\n",
       "0      Claire Gute   Consumer  United States        Henderson    Kentucky   \n",
       "1      Claire Gute   Consumer  United States        Henderson    Kentucky   \n",
       "2  Darrin Van Huff  Corporate  United States      Los Angeles  California   \n",
       "3   Sean O'Donnell   Consumer  United States  Fort Lauderdale     Florida   \n",
       "4   Sean O'Donnell   Consumer  United States  Fort Lauderdale     Florida   \n",
       "5  Brosina Hoffman   Consumer  United States      Los Angeles  California   \n",
       "6  Brosina Hoffman   Consumer  United States      Los Angeles  California   \n",
       "7  Brosina Hoffman   Consumer  United States      Los Angeles  California   \n",
       "8  Brosina Hoffman   Consumer  United States      Los Angeles  California   \n",
       "9  Brosina Hoffman   Consumer  United States      Los Angeles  California   \n",
       "\n",
       "   ...         Category Sub-Category  \\\n",
       "0  ...        Furniture    Bookcases   \n",
       "1  ...        Furniture       Chairs   \n",
       "2  ...  Office Supplies       Labels   \n",
       "3  ...        Furniture       Tables   \n",
       "4  ...  Office Supplies      Storage   \n",
       "5  ...        Furniture  Furnishings   \n",
       "6  ...  Office Supplies          Art   \n",
       "7  ...       Technology       Phones   \n",
       "8  ...  Office Supplies      Binders   \n",
       "9  ...  Office Supplies   Appliances   \n",
       "\n",
       "                                        Product Name Total Revenue Quantity  \\\n",
       "0                  Bush Somerset Collection Bookcase      261.9600        2   \n",
       "1  Hon Deluxe Fabric Upholstered Stacking Chairs,...      731.9400        3   \n",
       "2  Self-Adhesive Address Labels for Typewriters b...       14.6200        2   \n",
       "3      Bretford CR4500 Series Slim Rectangular Table      957.5775        5   \n",
       "4                     Eldon Fold 'N Roll Cart System       22.3680        2   \n",
       "5  Eldon Expressions Wood and Plastic Desk Access...       48.8600        7   \n",
       "6                                         Newell 322        7.2800        4   \n",
       "7                     Mitel 5320 IP Phone VoIP phone      907.1520        6   \n",
       "8  DXL Angle-View Binders with Locking Rings by S...       18.5040        3   \n",
       "9                   Belkin F5C206VTEL 6 Outlet Surge      114.9000        5   \n",
       "\n",
       "  Discount    Profit  Order Year  Order Month           CLV  \n",
       "0     0.00   41.9136        2016           11   3146.243079  \n",
       "1     0.00  219.5820        2016           11   3146.243079  \n",
       "2     0.00    6.8714        2016            6   3066.005363  \n",
       "3     0.45 -383.0310        2015           10   7127.853161  \n",
       "4     0.20    2.5164        2015           10   7127.853161  \n",
       "5     0.00   14.1694        2014            6  17131.961550  \n",
       "6     0.00    1.9656        2014            6  17131.961550  \n",
       "7     0.20   90.7152        2014            6  17131.961550  \n",
       "8     0.20    5.7825        2014            6  17131.961550  \n",
       "9     0.00   34.4700        2014            6  17131.961550  \n",
       "\n",
       "[10 rows x 23 columns]"
      ],
      "text/html": [
       "<div>\n",
       "<style scoped>\n",
       "    .dataframe tbody tr th:only-of-type {\n",
       "        vertical-align: middle;\n",
       "    }\n",
       "\n",
       "    .dataframe tbody tr th {\n",
       "        vertical-align: top;\n",
       "    }\n",
       "\n",
       "    .dataframe thead th {\n",
       "        text-align: right;\n",
       "    }\n",
       "</style>\n",
       "<table border=\"1\" class=\"dataframe\">\n",
       "  <thead>\n",
       "    <tr style=\"text-align: right;\">\n",
       "      <th></th>\n",
       "      <th>Order ID</th>\n",
       "      <th>Order Date</th>\n",
       "      <th>Ship Date</th>\n",
       "      <th>Ship Mode</th>\n",
       "      <th>Customer ID</th>\n",
       "      <th>Customer Name</th>\n",
       "      <th>Segment</th>\n",
       "      <th>Country</th>\n",
       "      <th>City</th>\n",
       "      <th>State</th>\n",
       "      <th>...</th>\n",
       "      <th>Category</th>\n",
       "      <th>Sub-Category</th>\n",
       "      <th>Product Name</th>\n",
       "      <th>Total Revenue</th>\n",
       "      <th>Quantity</th>\n",
       "      <th>Discount</th>\n",
       "      <th>Profit</th>\n",
       "      <th>Order Year</th>\n",
       "      <th>Order Month</th>\n",
       "      <th>CLV</th>\n",
       "    </tr>\n",
       "  </thead>\n",
       "  <tbody>\n",
       "    <tr>\n",
       "      <th>0</th>\n",
       "      <td>CA-2016-152156</td>\n",
       "      <td>2016-11-08</td>\n",
       "      <td>2016-11-11</td>\n",
       "      <td>Second Class</td>\n",
       "      <td>CG-12520</td>\n",
       "      <td>Claire Gute</td>\n",
       "      <td>Consumer</td>\n",
       "      <td>United States</td>\n",
       "      <td>Henderson</td>\n",
       "      <td>Kentucky</td>\n",
       "      <td>...</td>\n",
       "      <td>Furniture</td>\n",
       "      <td>Bookcases</td>\n",
       "      <td>Bush Somerset Collection Bookcase</td>\n",
       "      <td>261.9600</td>\n",
       "      <td>2</td>\n",
       "      <td>0.00</td>\n",
       "      <td>41.9136</td>\n",
       "      <td>2016</td>\n",
       "      <td>11</td>\n",
       "      <td>3146.243079</td>\n",
       "    </tr>\n",
       "    <tr>\n",
       "      <th>1</th>\n",
       "      <td>CA-2016-152156</td>\n",
       "      <td>2016-11-08</td>\n",
       "      <td>2016-11-11</td>\n",
       "      <td>Second Class</td>\n",
       "      <td>CG-12520</td>\n",
       "      <td>Claire Gute</td>\n",
       "      <td>Consumer</td>\n",
       "      <td>United States</td>\n",
       "      <td>Henderson</td>\n",
       "      <td>Kentucky</td>\n",
       "      <td>...</td>\n",
       "      <td>Furniture</td>\n",
       "      <td>Chairs</td>\n",
       "      <td>Hon Deluxe Fabric Upholstered Stacking Chairs,...</td>\n",
       "      <td>731.9400</td>\n",
       "      <td>3</td>\n",
       "      <td>0.00</td>\n",
       "      <td>219.5820</td>\n",
       "      <td>2016</td>\n",
       "      <td>11</td>\n",
       "      <td>3146.243079</td>\n",
       "    </tr>\n",
       "    <tr>\n",
       "      <th>2</th>\n",
       "      <td>CA-2016-138688</td>\n",
       "      <td>2016-06-12</td>\n",
       "      <td>2016-06-16</td>\n",
       "      <td>Second Class</td>\n",
       "      <td>DV-13045</td>\n",
       "      <td>Darrin Van Huff</td>\n",
       "      <td>Corporate</td>\n",
       "      <td>United States</td>\n",
       "      <td>Los Angeles</td>\n",
       "      <td>California</td>\n",
       "      <td>...</td>\n",
       "      <td>Office Supplies</td>\n",
       "      <td>Labels</td>\n",
       "      <td>Self-Adhesive Address Labels for Typewriters b...</td>\n",
       "      <td>14.6200</td>\n",
       "      <td>2</td>\n",
       "      <td>0.00</td>\n",
       "      <td>6.8714</td>\n",
       "      <td>2016</td>\n",
       "      <td>6</td>\n",
       "      <td>3066.005363</td>\n",
       "    </tr>\n",
       "    <tr>\n",
       "      <th>3</th>\n",
       "      <td>US-2015-108966</td>\n",
       "      <td>2015-10-11</td>\n",
       "      <td>2015-10-18</td>\n",
       "      <td>Standard Class</td>\n",
       "      <td>SO-20335</td>\n",
       "      <td>Sean O'Donnell</td>\n",
       "      <td>Consumer</td>\n",
       "      <td>United States</td>\n",
       "      <td>Fort Lauderdale</td>\n",
       "      <td>Florida</td>\n",
       "      <td>...</td>\n",
       "      <td>Furniture</td>\n",
       "      <td>Tables</td>\n",
       "      <td>Bretford CR4500 Series Slim Rectangular Table</td>\n",
       "      <td>957.5775</td>\n",
       "      <td>5</td>\n",
       "      <td>0.45</td>\n",
       "      <td>-383.0310</td>\n",
       "      <td>2015</td>\n",
       "      <td>10</td>\n",
       "      <td>7127.853161</td>\n",
       "    </tr>\n",
       "    <tr>\n",
       "      <th>4</th>\n",
       "      <td>US-2015-108966</td>\n",
       "      <td>2015-10-11</td>\n",
       "      <td>2015-10-18</td>\n",
       "      <td>Standard Class</td>\n",
       "      <td>SO-20335</td>\n",
       "      <td>Sean O'Donnell</td>\n",
       "      <td>Consumer</td>\n",
       "      <td>United States</td>\n",
       "      <td>Fort Lauderdale</td>\n",
       "      <td>Florida</td>\n",
       "      <td>...</td>\n",
       "      <td>Office Supplies</td>\n",
       "      <td>Storage</td>\n",
       "      <td>Eldon Fold 'N Roll Cart System</td>\n",
       "      <td>22.3680</td>\n",
       "      <td>2</td>\n",
       "      <td>0.20</td>\n",
       "      <td>2.5164</td>\n",
       "      <td>2015</td>\n",
       "      <td>10</td>\n",
       "      <td>7127.853161</td>\n",
       "    </tr>\n",
       "    <tr>\n",
       "      <th>5</th>\n",
       "      <td>CA-2014-115812</td>\n",
       "      <td>2014-06-09</td>\n",
       "      <td>2014-06-14</td>\n",
       "      <td>Standard Class</td>\n",
       "      <td>BH-11710</td>\n",
       "      <td>Brosina Hoffman</td>\n",
       "      <td>Consumer</td>\n",
       "      <td>United States</td>\n",
       "      <td>Los Angeles</td>\n",
       "      <td>California</td>\n",
       "      <td>...</td>\n",
       "      <td>Furniture</td>\n",
       "      <td>Furnishings</td>\n",
       "      <td>Eldon Expressions Wood and Plastic Desk Access...</td>\n",
       "      <td>48.8600</td>\n",
       "      <td>7</td>\n",
       "      <td>0.00</td>\n",
       "      <td>14.1694</td>\n",
       "      <td>2014</td>\n",
       "      <td>6</td>\n",
       "      <td>17131.961550</td>\n",
       "    </tr>\n",
       "    <tr>\n",
       "      <th>6</th>\n",
       "      <td>CA-2014-115812</td>\n",
       "      <td>2014-06-09</td>\n",
       "      <td>2014-06-14</td>\n",
       "      <td>Standard Class</td>\n",
       "      <td>BH-11710</td>\n",
       "      <td>Brosina Hoffman</td>\n",
       "      <td>Consumer</td>\n",
       "      <td>United States</td>\n",
       "      <td>Los Angeles</td>\n",
       "      <td>California</td>\n",
       "      <td>...</td>\n",
       "      <td>Office Supplies</td>\n",
       "      <td>Art</td>\n",
       "      <td>Newell 322</td>\n",
       "      <td>7.2800</td>\n",
       "      <td>4</td>\n",
       "      <td>0.00</td>\n",
       "      <td>1.9656</td>\n",
       "      <td>2014</td>\n",
       "      <td>6</td>\n",
       "      <td>17131.961550</td>\n",
       "    </tr>\n",
       "    <tr>\n",
       "      <th>7</th>\n",
       "      <td>CA-2014-115812</td>\n",
       "      <td>2014-06-09</td>\n",
       "      <td>2014-06-14</td>\n",
       "      <td>Standard Class</td>\n",
       "      <td>BH-11710</td>\n",
       "      <td>Brosina Hoffman</td>\n",
       "      <td>Consumer</td>\n",
       "      <td>United States</td>\n",
       "      <td>Los Angeles</td>\n",
       "      <td>California</td>\n",
       "      <td>...</td>\n",
       "      <td>Technology</td>\n",
       "      <td>Phones</td>\n",
       "      <td>Mitel 5320 IP Phone VoIP phone</td>\n",
       "      <td>907.1520</td>\n",
       "      <td>6</td>\n",
       "      <td>0.20</td>\n",
       "      <td>90.7152</td>\n",
       "      <td>2014</td>\n",
       "      <td>6</td>\n",
       "      <td>17131.961550</td>\n",
       "    </tr>\n",
       "    <tr>\n",
       "      <th>8</th>\n",
       "      <td>CA-2014-115812</td>\n",
       "      <td>2014-06-09</td>\n",
       "      <td>2014-06-14</td>\n",
       "      <td>Standard Class</td>\n",
       "      <td>BH-11710</td>\n",
       "      <td>Brosina Hoffman</td>\n",
       "      <td>Consumer</td>\n",
       "      <td>United States</td>\n",
       "      <td>Los Angeles</td>\n",
       "      <td>California</td>\n",
       "      <td>...</td>\n",
       "      <td>Office Supplies</td>\n",
       "      <td>Binders</td>\n",
       "      <td>DXL Angle-View Binders with Locking Rings by S...</td>\n",
       "      <td>18.5040</td>\n",
       "      <td>3</td>\n",
       "      <td>0.20</td>\n",
       "      <td>5.7825</td>\n",
       "      <td>2014</td>\n",
       "      <td>6</td>\n",
       "      <td>17131.961550</td>\n",
       "    </tr>\n",
       "    <tr>\n",
       "      <th>9</th>\n",
       "      <td>CA-2014-115812</td>\n",
       "      <td>2014-06-09</td>\n",
       "      <td>2014-06-14</td>\n",
       "      <td>Standard Class</td>\n",
       "      <td>BH-11710</td>\n",
       "      <td>Brosina Hoffman</td>\n",
       "      <td>Consumer</td>\n",
       "      <td>United States</td>\n",
       "      <td>Los Angeles</td>\n",
       "      <td>California</td>\n",
       "      <td>...</td>\n",
       "      <td>Office Supplies</td>\n",
       "      <td>Appliances</td>\n",
       "      <td>Belkin F5C206VTEL 6 Outlet Surge</td>\n",
       "      <td>114.9000</td>\n",
       "      <td>5</td>\n",
       "      <td>0.00</td>\n",
       "      <td>34.4700</td>\n",
       "      <td>2014</td>\n",
       "      <td>6</td>\n",
       "      <td>17131.961550</td>\n",
       "    </tr>\n",
       "  </tbody>\n",
       "</table>\n",
       "<p>10 rows × 23 columns</p>\n",
       "</div>"
      ]
     },
     "execution_count": 25,
     "metadata": {},
     "output_type": "execute_result"
    }
   ],
   "execution_count": 25
  },
  {
   "metadata": {
    "ExecuteTime": {
     "end_time": "2024-10-12T00:40:01.954009Z",
     "start_time": "2024-10-12T00:40:01.949503Z"
    }
   },
   "cell_type": "code",
   "source": "df.drop('Potential Revenue', axis=1, inplace=True)",
   "id": "495a3d5f05027f64",
   "outputs": [],
   "execution_count": 24
  },
  {
   "metadata": {},
   "cell_type": "markdown",
   "source": [
    "# 2. Exploratory Analysis\n",
    "* Visualizations: Sales Trends"
   ],
   "id": "b8dae7c6e61f607f"
  },
  {
   "metadata": {
    "ExecuteTime": {
     "end_time": "2024-10-12T00:42:53.407905Z",
     "start_time": "2024-10-12T00:42:53.404384Z"
    }
   },
   "cell_type": "code",
   "source": [
    "# Types of customers\n",
    "\n",
    "types_of_customers = df['Segment'].unique()\n",
    "\n",
    "print(types_of_customers)"
   ],
   "id": "1fa1d9c733f97118",
   "outputs": [
    {
     "name": "stdout",
     "output_type": "stream",
     "text": [
      "['Consumer' 'Corporate' 'Home Office']\n"
     ]
    }
   ],
   "execution_count": 27
  },
  {
   "metadata": {
    "ExecuteTime": {
     "end_time": "2024-10-12T00:45:32.975959Z",
     "start_time": "2024-10-12T00:45:32.971422Z"
    }
   },
   "cell_type": "code",
   "source": [
    "number_of_customers = df['Segment'].value_counts().reset_index()\n",
    "number_of_customers = number_of_customers.rename(columns={'Segment': 'Type of Customers'})"
   ],
   "id": "6dd6e8801a9e5366",
   "outputs": [],
   "execution_count": 30
  },
  {
   "metadata": {
    "ExecuteTime": {
     "end_time": "2024-10-12T00:45:37.166269Z",
     "start_time": "2024-10-12T00:45:37.162225Z"
    }
   },
   "cell_type": "code",
   "source": "print(number_of_customers)",
   "id": "51b53a6d4696c7a7",
   "outputs": [
    {
     "name": "stdout",
     "output_type": "stream",
     "text": [
      "  Type of Customers  count\n",
      "0          Consumer   5191\n",
      "1         Corporate   3020\n",
      "2       Home Office   1782\n"
     ]
    }
   ],
   "execution_count": 31
  },
  {
   "metadata": {
    "ExecuteTime": {
     "end_time": "2024-10-12T01:02:21.441758Z",
     "start_time": "2024-10-12T01:02:21.387851Z"
    }
   },
   "cell_type": "code",
   "source": "plt.pie(number_of_customers['count'], labels=number_of_customers['Type of Customers'], autopct='%1.1f%%');",
   "id": "18ea56bc0c5c8bb9",
   "outputs": [
    {
     "data": {
      "text/plain": [
       "<Figure size 640x480 with 1 Axes>"
      ],
      "image/png": "[encoded data removed]"
     },
     "metadata": {},
     "output_type": "display_data"
    }
   ],
   "execution_count": 40
  },
  {
   "metadata": {
    "ExecuteTime": {
     "end_time": "2024-10-12T01:02:23.070501Z",
     "start_time": "2024-10-12T01:02:22.971148Z"
    }
   },
   "cell_type": "code",
   "source": [
    "sales_per_segment = df.groupby('Segment')['Total Revenue'].sum().reset_index()\n",
    "sales_per_segment = sales_per_segment.rename(columns={'Segment': 'Type of Customers'})\n",
    "\n",
    "print(sales_per_segment)\n",
    "\n",
    "plt.bar(sales_per_segment['Type of Customers'], sales_per_segment['Total Revenue'])"
   ],
   "id": "a0e8a782752bf9a7",
   "outputs": [
    {
     "name": "stdout",
     "output_type": "stream",
     "text": [
      "  Type of Customers  Total Revenue\n",
      "0          Consumer   1.161401e+06\n",
      "1         Corporate   7.061464e+05\n",
      "2       Home Office   4.293718e+05\n"
     ]
    },
    {
     "data": {
      "text/plain": [
       "<BarContainer object of 3 artists>"
      ]
     },
     "execution_count": 41,
     "metadata": {},
     "output_type": "execute_result"
    },
    {
     "data": {
      "text/plain": [
       "<Figure size 640x480 with 1 Axes>"
      ],
      "image/png": "[encoded data removed]"
     },
     "metadata": {},
     "output_type": "display_data"
    }
   ],
   "execution_count": 41
  },
  {
   "metadata": {
    "ExecuteTime": {
     "end_time": "2024-10-12T01:02:24.315268Z",
     "start_time": "2024-10-12T01:02:24.258220Z"
    }
   },
   "cell_type": "code",
   "source": "plt.pie(sales_per_segment['Total Revenue'], labels=sales_per_segment['Type of Customers'], autopct='%1.1f%%');",
   "id": "5fa53ed0e6b41bde",
   "outputs": [
    {
     "data": {
      "text/plain": [
       "<Figure size 640x480 with 1 Axes>"
      ],
      "image/png": "[encoded data removed]"
     },
     "metadata": {},
     "output_type": "display_data"
    }
   ],
   "execution_count": 42
  },
  {
   "metadata": {
    "ExecuteTime": {
     "end_time": "2024-10-12T01:02:25.985855Z",
     "start_time": "2024-10-12T01:02:25.892671Z"
    }
   },
   "cell_type": "code",
   "source": [
    "profit_per_segment = df.groupby('Segment')['Profit'].sum().reset_index()\n",
    "\n",
    "print(profit_per_segment)\n",
    "plt.bar(profit_per_segment['Segment'], profit_per_segment['Profit'])"
   ],
   "id": "900ef52fa43c147c",
   "outputs": [
    {
     "name": "stdout",
     "output_type": "stream",
     "text": [
      "       Segment       Profit\n",
      "0     Consumer  134119.2092\n",
      "1    Corporate   91979.1340\n",
      "2  Home Office   60310.7373\n"
     ]
    },
    {
     "data": {
      "text/plain": [
       "<BarContainer object of 3 artists>"
      ]
     },
     "execution_count": 43,
     "metadata": {},
     "output_type": "execute_result"
    },
    {
     "data": {
      "text/plain": [
       "<Figure size 640x480 with 1 Axes>"
      ],
      "image/png": "[encoded data removed]"
     },
     "metadata": {},
     "output_type": "display_data"
    }
   ],
   "execution_count": 43
  },
  {
   "metadata": {
    "ExecuteTime": {
     "end_time": "2024-10-12T01:15:25.950691Z",
     "start_time": "2024-10-12T01:15:25.944123Z"
    }
   },
   "cell_type": "code",
   "source": [
    "customer_clv = df.groupby('Customer Name')['CLV'].sum().reset_index()\n",
    "customer_high_CLV = customer_clv.sort_values(by='CLV', ascending=False)\n",
    "print(customer_high_CLV.head(10))"
   ],
   "id": "8ec45f8e865e3861",
   "outputs": [
    {
     "name": "stdout",
     "output_type": "stream",
     "text": [
      "     Customer Name           CLV\n",
      "441   Ken Lonsdale  1.125858e+06\n",
      "686    Sean Miller  1.028807e+06\n",
      "689    Seth Vernon  1.005321e+06\n",
      "312      Greg Tran  9.388048e+05\n",
      "387       John Lee  9.125507e+05\n",
      "249   Edward Hooks  9.036518e+05\n",
      "671   Sanjit Chand  8.521169e+05\n",
      "169    Clay Ludtke  8.343805e+05\n",
      "6    Adrian Barton  7.927954e+05\n",
      "622   Raymond Buch  7.452522e+05\n"
     ]
    }
   ],
   "execution_count": 56
  },
  {
   "metadata": {
    "ExecuteTime": {
     "end_time": "2024-10-12T01:20:51.063473Z",
     "start_time": "2024-10-12T01:20:50.980354Z"
    }
   },
   "cell_type": "code",
   "source": [
    "segment_clv = df.groupby('Segment')['CLV'].sum().reset_index()\n",
    "print(segment_clv)\n",
    "plt.bar(segment_clv['Segment'], segment_clv['CLV'])"
   ],
   "id": "8fe2361784301049",
   "outputs": [
    {
     "name": "stdout",
     "output_type": "stream",
     "text": [
      "       Segment           CLV\n",
      "0     Consumer  5.116180e+07\n",
      "1    Corporate  2.973952e+07\n",
      "2  Home Office  1.743124e+07\n"
     ]
    },
    {
     "data": {
      "text/plain": [
       "<BarContainer object of 3 artists>"
      ]
     },
     "execution_count": 57,
     "metadata": {},
     "output_type": "execute_result"
    },
    {
     "data": {
      "text/plain": [
       "<Figure size 640x480 with 1 Axes>"
      ],
      "image/png": "[encoded data removed]"
     },
     "metadata": {},
     "output_type": "display_data"
    }
   ],
   "execution_count": 57
  },
  {
   "metadata": {},
   "cell_type": "markdown",
   "source": [
    "#### The consumer segment significantly outperforms other segments in terms of fianacial metrics:\n",
    "* It contributes the most to overall Revenue, reflecting its dominant role in driving sales.\n",
    "* The segment has the Highest Customer Lifetime Value (CLV).\n",
    "* It also earns highest profits, further confirming its importance to the business's profitability.\n"
   ],
   "id": "ae80f26486349f65"
  },
  {
   "metadata": {
    "ExecuteTime": {
     "end_time": "2024-10-12T01:36:18.447381Z",
     "start_time": "2024-10-12T01:36:18.439437Z"
    }
   },
   "cell_type": "code",
   "source": [
    "# Customer Order Frequency\n",
    "customer_order_frequency = df.groupby(['Customer ID', 'Customer Name', 'Segment'], observed=True)['Order ID'].count().reset_index()"
   ],
   "id": "1576b397ff2349d9",
   "outputs": [],
   "execution_count": 65
  },
  {
   "metadata": {
    "ExecuteTime": {
     "end_time": "2024-10-12T01:40:02.028019Z",
     "start_time": "2024-10-12T01:40:02.021724Z"
    }
   },
   "cell_type": "code",
   "source": [
    "customer_order_frequency.rename(columns={'Order ID': 'Total Orders'}, inplace=True)\n",
    "repeat_customers = customer_order_frequency[customer_order_frequency['Total Orders'] >= 1]\n",
    "repeat_customer_sorted = repeat_customers.sort_values(by='Total Orders', ascending=False)\n",
    "print(repeat_customer_sorted.head(10).reset_index(drop=True))"
   ],
   "id": "5d9c9bdcc4406ea5",
   "outputs": [
    {
     "name": "stdout",
     "output_type": "stream",
     "text": [
      "  Customer ID        Customer Name      Segment  Total Orders\n",
      "0    WB-21850        William Brown     Consumer            37\n",
      "1    PP-18955           Paul Prost  Home Office            34\n",
      "2    JL-15835             John Lee     Consumer            34\n",
      "3    MA-17560         Matt Abelman  Home Office            34\n",
      "4    SV-20365          Seth Vernon     Consumer            32\n",
      "5    JD-15895     Jonathan Doherty    Corporate            32\n",
      "6    CK-12205  Chloris Kastensmidt     Consumer            32\n",
      "7    EH-13765         Edward Hooks    Corporate            32\n",
      "8    EP-13915           Emily Phan     Consumer            31\n",
      "9    ZC-21910     Zuschuss Carroll     Consumer            31\n"
     ]
    }
   ],
   "execution_count": 67
  },
  {
   "metadata": {
    "ExecuteTime": {
     "end_time": "2024-10-12T01:42:58.160779Z",
     "start_time": "2024-10-12T01:42:58.147563Z"
    }
   },
   "cell_type": "code",
   "source": [
    "# Top Spenders \n",
    "\n",
    "customer_sales = df.groupby(['Customer ID', 'Customer Name', 'Segment'],observed=True)['Total Revenue'].sum().reset_index()"
   ],
   "id": "3847539c448d70ee",
   "outputs": [],
   "execution_count": 71
  },
  {
   "metadata": {
    "ExecuteTime": {
     "end_time": "2024-10-12T01:44:19.241385Z",
     "start_time": "2024-10-12T01:44:19.234595Z"
    }
   },
   "cell_type": "code",
   "source": [
    "top_spenders = customer_sales.sort_values(by='Total Revenue', ascending=False)\n",
    "print(top_spenders.head(10).reset_index(drop=True))"
   ],
   "id": "3b43f7f29b73b016",
   "outputs": [
    {
     "name": "stdout",
     "output_type": "stream",
     "text": [
      "  Customer ID       Customer Name      Segment  Total Revenue\n",
      "0    SM-20320         Sean Miller  Home Office      25043.050\n",
      "1    TC-20980        Tamara Chand    Corporate      19052.218\n",
      "2    RB-19360        Raymond Buch     Consumer      15117.339\n",
      "3    TA-21385        Tom Ashbrook  Home Office      14595.620\n",
      "4    AB-10105       Adrian Barton     Consumer      14473.571\n",
      "5    KL-16645        Ken Lonsdale     Consumer      14175.229\n",
      "6    SC-20095        Sanjit Chand     Consumer      14142.334\n",
      "7    HL-15040        Hunter Lopez     Consumer      12873.298\n",
      "8    SE-20110        Sanjit Engle     Consumer      12209.438\n",
      "9    CC-12370  Christopher Conant     Consumer      12129.072\n"
     ]
    }
   ],
   "execution_count": 72
  },
  {
   "metadata": {
    "ExecuteTime": {
     "end_time": "2024-10-12T02:01:22.827386Z",
     "start_time": "2024-10-12T02:01:22.824999Z"
    }
   },
   "cell_type": "code",
   "source": "top_customers = top_spenders.head(10)",
   "id": "bdb1b01e3bcfe50a",
   "outputs": [],
   "execution_count": 78
  },
  {
   "metadata": {
    "ExecuteTime": {
     "end_time": "2024-10-12T02:03:08.698267Z",
     "start_time": "2024-10-12T02:03:08.489147Z"
    }
   },
   "cell_type": "code",
   "source": [
    "top_customers['Cumulative Revenue'] = top_customers['Total Revenue'].cumsum()\n",
    "top_customers['Cumulative Percentage'] = 100 * top_customers['Cumulative Revenue'] / top_customers['Total Revenue'].sum()\n",
    "\n",
    "fig, ax1 = plt.subplots()\n",
    "\n",
    "ax1.bar(top_customers['Customer Name'], top_customers['Total Revenue'], color='blue')\n",
    "ax1.set_xlabel('Customer Name')\n",
    "ax1.set_ylabel('Total Revenue', color='blue')\n",
    "ax1.tick_params(axis='x', rotation=45)\n",
    "\n",
    "ax2 = ax1.twinx()\n",
    "ax2.plot(top_customers['Customer Name'], top_customers['Cumulative Percentage'],color='red', marker='D', linestyle='--')\n",
    "ax2.set_ylabel('Cumulative Percentage', color='red')\n",
    "\n",
    "plt.xticks(rotation=90)\n",
    "\n",
    "plt.title('Cumulative Revenue Contribution of Top Spenders')\n",
    "plt.show();"
   ],
   "id": "9ba9d45bde7911d4",
   "outputs": [
    {
     "name": "stderr",
     "output_type": "stream",
     "text": [
      "/tmp/ipykernel_272842/1134946657.py:1: SettingWithCopyWarning: \n",
      "A value is trying to be set on a copy of a slice from a DataFrame.\n",
      "Try using .loc[row_indexer,col_indexer] = value instead\n",
      "\n",
      "See the caveats in the documentation: https://pandas.pydata.org/pandas-docs/stable/user_guide/indexing.html#returning-a-view-versus-a-copy\n",
      "  top_customers['Cumulative Revenue'] = top_customers['Total Revenue'].cumsum()\n",
      "/tmp/ipykernel_272842/1134946657.py:2: SettingWithCopyWarning: \n",
      "A value is trying to be set on a copy of a slice from a DataFrame.\n",
      "Try using .loc[row_indexer,col_indexer] = value instead\n",
      "\n",
      "See the caveats in the documentation: https://pandas.pydata.org/pandas-docs/stable/user_guide/indexing.html#returning-a-view-versus-a-copy\n",
      "  top_customers['Cumulative Percentage'] = 100 * top_customers['Cumulative Revenue'] / top_customers['Total Revenue'].sum()\n"
     ]
    },
    {
     "data": {
      "text/plain": [
       "<Figure size 640x480 with 2 Axes>"
      ],
      "image/png": "[encoded data removed]"
     },
     "metadata": {},
     "output_type": "display_data"
    }
   ],
   "execution_count": 80
  },
  {
   "metadata": {
    "ExecuteTime": {
     "end_time": "2024-10-12T02:29:18.318135Z",
     "start_time": "2024-10-12T02:29:18.313824Z"
    }
   },
   "cell_type": "code",
   "source": [
    "# Ship Mode\n",
    "\n",
    "types_of_ship_modes = df['Ship Mode'].unique()\n",
    "print(types_of_ship_modes)"
   ],
   "id": "b5898bae623b48aa",
   "outputs": [
    {
     "name": "stdout",
     "output_type": "stream",
     "text": [
      "['Second Class' 'Standard Class' 'First Class' 'Same Day']\n"
     ]
    }
   ],
   "execution_count": 84
  },
  {
   "metadata": {
    "ExecuteTime": {
     "end_time": "2024-10-12T02:34:08.878844Z",
     "start_time": "2024-10-12T02:34:08.873709Z"
    }
   },
   "cell_type": "code",
   "source": [
    "shipping_mode = df['Ship Mode'].value_counts().reset_index()\n",
    "shipping_mode = shipping_mode.rename(columns={ 'index': 'Use Frequency','Ship Mode': 'Mode of Shipment', 'count': 'Use Frequency'})\n",
    "print(shipping_mode)"
   ],
   "id": "46cad6185269fef0",
   "outputs": [
    {
     "name": "stdout",
     "output_type": "stream",
     "text": [
      "  Mode of Shipment  Use Frequency\n",
      "0   Standard Class           5967\n",
      "1     Second Class           1945\n",
      "2      First Class           1538\n",
      "3         Same Day            543\n"
     ]
    }
   ],
   "execution_count": 93
  },
  {
   "metadata": {
    "ExecuteTime": {
     "end_time": "2024-10-12T02:34:14.049208Z",
     "start_time": "2024-10-12T02:34:13.987590Z"
    }
   },
   "cell_type": "code",
   "source": "plt.pie(shipping_mode['Use Frequency'], labels=shipping_mode['Mode of Shipment'], autopct='%1.1f%%');",
   "id": "97c2c477b4886260",
   "outputs": [
    {
     "data": {
      "text/plain": [
       "<Figure size 640x480 with 1 Axes>"
      ],
      "image/png": "[encoded data removed]"
     },
     "metadata": {},
     "output_type": "display_data"
    }
   ],
   "execution_count": 94
  },
  {
   "metadata": {
    "ExecuteTime": {
     "end_time": "2024-10-12T02:36:51.250525Z",
     "start_time": "2024-10-12T02:36:51.245644Z"
    }
   },
   "cell_type": "code",
   "source": [
    "state = df['State'].value_counts().reset_index()\n",
    "state = state.rename(columns={'index': 'State', 'count': 'Number of Customers'})\n",
    "print(state.head(20))"
   ],
   "id": "4cc8dab2ade6cfb0",
   "outputs": [
    {
     "name": "stdout",
     "output_type": "stream",
     "text": [
      "             State  Number of Customers\n",
      "0       California                 2001\n",
      "1         New York                 1128\n",
      "2            Texas                  985\n",
      "3     Pennsylvania                  587\n",
      "4       Washington                  506\n",
      "5         Illinois                  492\n",
      "6             Ohio                  468\n",
      "7          Florida                  383\n",
      "8         Michigan                  255\n",
      "9   North Carolina                  249\n",
      "10         Arizona                  224\n",
      "11        Virginia                  224\n",
      "12         Georgia                  184\n",
      "13       Tennessee                  183\n",
      "14        Colorado                  182\n",
      "15         Indiana                  149\n",
      "16        Kentucky                  139\n",
      "17   Massachusetts                  135\n",
      "18      New Jersey                  130\n",
      "19          Oregon                  124\n"
     ]
    }
   ],
   "execution_count": 96
  },
  {
   "metadata": {
    "ExecuteTime": {
     "end_time": "2024-10-12T02:37:39.077973Z",
     "start_time": "2024-10-12T02:37:39.073209Z"
    }
   },
   "cell_type": "code",
   "source": [
    "city = df['City'].value_counts().reset_index()\n",
    "print(city.head(20))"
   ],
   "id": "bb4994b96bf5ca37",
   "outputs": [
    {
     "name": "stdout",
     "output_type": "stream",
     "text": [
      "             City  count\n",
      "0   New York City    915\n",
      "1     Los Angeles    747\n",
      "2    Philadelphia    537\n",
      "3   San Francisco    510\n",
      "4         Seattle    428\n",
      "5         Houston    377\n",
      "6         Chicago    314\n",
      "7        Columbus    221\n",
      "8       San Diego    170\n",
      "9     Springfield    163\n",
      "10         Dallas    157\n",
      "11   Jacksonville    125\n",
      "12        Detroit    115\n",
      "13         Newark     95\n",
      "14       Richmond     90\n",
      "15        Jackson     82\n",
      "16       Columbia     81\n",
      "17         Aurora     68\n",
      "18        Phoenix     63\n",
      "19     Long Beach     61\n"
     ]
    }
   ],
   "execution_count": 97
  },
  {
   "metadata": {
    "ExecuteTime": {
     "end_time": "2024-10-12T02:43:03.123768Z",
     "start_time": "2024-10-12T02:43:03.117032Z"
    }
   },
   "cell_type": "code",
   "source": [
    "state_sales = df.groupby(['State'],observed=True)['Total Revenue'].sum().reset_index()\n",
    "top_state_sales = state_sales.sort_values(by='Total Revenue', ascending=False)\n",
    "print(top_state_sales.head(10).reset_index(drop=True))"
   ],
   "id": "2f61b9362eec0989",
   "outputs": [
    {
     "name": "stdout",
     "output_type": "stream",
     "text": [
      "          State  Total Revenue\n",
      "0    California    457687.6315\n",
      "1      New York    310876.2710\n",
      "2         Texas    170188.0458\n",
      "3    Washington    138641.2700\n",
      "4  Pennsylvania    116511.9140\n",
      "5       Florida     89473.7080\n",
      "6      Illinois     80166.1010\n",
      "7          Ohio     77976.7640\n",
      "8      Michigan     76269.6140\n",
      "9      Virginia     70636.7200\n"
     ]
    }
   ],
   "execution_count": 100
  },
  {
   "metadata": {
    "ExecuteTime": {
     "end_time": "2024-10-12T02:41:13.580544Z",
     "start_time": "2024-10-12T02:41:13.573624Z"
    }
   },
   "cell_type": "code",
   "source": [
    "city_sales = df.groupby(['City'],observed=True)['Total Revenue'].sum().reset_index()\n",
    "top_city_sales = city_sales.sort_values(by='Total Revenue', ascending=False)\n",
    "print(top_city_sales.head(20).reset_index(drop=True))"
   ],
   "id": "3b52c3ee1998f8ad",
   "outputs": [
    {
     "name": "stdout",
     "output_type": "stream",
     "text": [
      "             City  Total Revenue\n",
      "0   New York City    256368.1610\n",
      "1     Los Angeles    175851.3410\n",
      "2         Seattle    119540.7420\n",
      "3   San Francisco    112669.0920\n",
      "4    Philadelphia    109077.0130\n",
      "5         Houston     64504.7604\n",
      "6         Chicago     48539.5410\n",
      "7       San Diego     47521.0290\n",
      "8    Jacksonville     44713.1830\n",
      "9     Springfield     43054.3420\n",
      "10        Detroit     42446.9440\n",
      "11       Columbus     38424.8710\n",
      "12         Newark     28576.1190\n",
      "13       Columbia     25283.3240\n",
      "14      Lafayette     25036.2000\n",
      "15        Jackson     24963.8580\n",
      "16    San Antonio     21843.5280\n",
      "17     Burlington     21668.0820\n",
      "18      Arlington     20214.5320\n",
      "19         Dallas     20131.9322\n"
     ]
    }
   ],
   "execution_count": 99
  },
  {
   "metadata": {
    "ExecuteTime": {
     "end_time": "2024-10-12T02:44:30.655616Z",
     "start_time": "2024-10-12T02:44:30.648716Z"
    }
   },
   "cell_type": "code",
   "source": [
    "state_city_sales = df.groupby(['State', 'City'],observed=True)['Total Revenue'].sum().reset_index()\n",
    "print(state_city_sales.head(10))"
   ],
   "id": "f40f3d9323735c65",
   "outputs": [
    {
     "name": "stdout",
     "output_type": "stream",
     "text": [
      "     State           City  Total Revenue\n",
      "0  Alabama         Auburn       1766.830\n",
      "1  Alabama        Decatur       3374.820\n",
      "2  Alabama       Florence       1997.350\n",
      "3  Alabama         Hoover        525.850\n",
      "4  Alabama     Huntsville       2484.370\n",
      "5  Alabama         Mobile       5462.990\n",
      "6  Alabama     Montgomery       3722.730\n",
      "7  Alabama     Tuscaloosa        175.700\n",
      "8  Arizona       Avondale        946.808\n",
      "9  Arizona  Bullhead City         22.288\n"
     ]
    }
   ],
   "execution_count": 101
  },
  {
   "metadata": {
    "ExecuteTime": {
     "end_time": "2024-10-12T02:46:33.986456Z",
     "start_time": "2024-10-12T02:46:33.983084Z"
    }
   },
   "cell_type": "code",
   "source": [
    "products = df['Category'].unique()\n",
    "print(products)"
   ],
   "id": "c3a1f70acb0f59bb",
   "outputs": [
    {
     "name": "stdout",
     "output_type": "stream",
     "text": [
      "['Furniture' 'Office Supplies' 'Technology']\n"
     ]
    }
   ],
   "execution_count": 103
  },
  {
   "metadata": {
    "ExecuteTime": {
     "end_time": "2024-10-12T02:47:21.172424Z",
     "start_time": "2024-10-12T02:47:21.166880Z"
    }
   },
   "cell_type": "code",
   "source": [
    "product_subcategory = df['Sub-Category'].unique()\n",
    "print(product_subcategory)"
   ],
   "id": "56fc8f5c24eca7c",
   "outputs": [
    {
     "name": "stdout",
     "output_type": "stream",
     "text": [
      "['Bookcases' 'Chairs' 'Labels' 'Tables' 'Storage' 'Furnishings' 'Art'\n",
      " 'Phones' 'Binders' 'Appliances' 'Paper' 'Accessories' 'Envelopes'\n",
      " 'Fasteners' 'Supplies' 'Machines' 'Copiers']\n"
     ]
    }
   ],
   "execution_count": 104
  },
  {
   "metadata": {
    "ExecuteTime": {
     "end_time": "2024-10-12T02:48:48.442148Z",
     "start_time": "2024-10-12T02:48:48.432203Z"
    }
   },
   "cell_type": "code",
   "source": [
    "subcategory_count = df.groupby('Category')['Sub-Category'].nunique().reset_index()\n",
    "subcategory_count = subcategory_count.sort_values(by='Sub-Category', ascending=False)\n",
    "print(subcategory_count)"
   ],
   "id": "9a66728e35ac151e",
   "outputs": [
    {
     "name": "stdout",
     "output_type": "stream",
     "text": [
      "          Category  Sub-Category\n",
      "1  Office Supplies             9\n",
      "0        Furniture             4\n",
      "2       Technology             4\n"
     ]
    }
   ],
   "execution_count": 105
  },
  {
   "metadata": {
    "ExecuteTime": {
     "end_time": "2024-10-12T02:50:52.379339Z",
     "start_time": "2024-10-12T02:50:52.368768Z"
    }
   },
   "cell_type": "code",
   "source": [
    "subcategory_count_sales = df.groupby(['Category', 'Sub-Category'],observed=True)['Total Revenue'].sum().reset_index()\n",
    "subcategory_count_sales = subcategory_count_sales.sort_values(by='Total Revenue', ascending=False)\n",
    "print(subcategory_count_sales)"
   ],
   "id": "2350cd02f58403ca",
   "outputs": [
    {
     "name": "stdout",
     "output_type": "stream",
     "text": [
      "           Category Sub-Category  Total Revenue\n",
      "16       Technology       Phones    330007.0540\n",
      "1         Furniture       Chairs    328167.7310\n",
      "11  Office Supplies      Storage    223843.6080\n",
      "3         Furniture       Tables    206965.5320\n",
      "6   Office Supplies      Binders    203412.7330\n",
      "15       Technology     Machines    189238.6310\n",
      "13       Technology  Accessories    167380.3180\n",
      "14       Technology      Copiers    149528.0300\n",
      "0         Furniture    Bookcases    114879.9963\n",
      "4   Office Supplies   Appliances    107532.1610\n",
      "2         Furniture  Furnishings     91705.1640\n",
      "10  Office Supplies        Paper     78479.2060\n",
      "12  Office Supplies     Supplies     46673.5380\n",
      "5   Office Supplies          Art     27118.7920\n",
      "7   Office Supplies    Envelopes     16476.4020\n",
      "9   Office Supplies       Labels     12486.3120\n",
      "8   Office Supplies    Fasteners      3024.2800\n"
     ]
    }
   ],
   "execution_count": 106
  },
  {
   "metadata": {
    "ExecuteTime": {
     "end_time": "2024-10-12T02:54:04.703778Z",
     "start_time": "2024-10-12T02:54:04.695344Z"
    }
   },
   "cell_type": "code",
   "source": [
    "product_category = df.groupby(['Category'], observed=True)['Total Revenue'].sum().reset_index()\n",
    "top_product_category = product_category.sort_values(by='Total Revenue', ascending=False)\n",
    "print(top_product_category)"
   ],
   "id": "686b76d8e1c45f99",
   "outputs": [
    {
     "name": "stdout",
     "output_type": "stream",
     "text": [
      "          Category  Total Revenue\n",
      "2       Technology    836154.0330\n",
      "0        Furniture    741718.4233\n",
      "1  Office Supplies    719047.0320\n"
     ]
    }
   ],
   "execution_count": 107
  },
  {
   "metadata": {
    "ExecuteTime": {
     "end_time": "2024-10-12T02:54:49.353207Z",
     "start_time": "2024-10-12T02:54:49.270225Z"
    }
   },
   "cell_type": "code",
   "source": "plt.pie(top_product_category['Total Revenue'], labels=top_product_category['Category'], autopct='%1.1f%%');",
   "id": "7d36ce75de39586c",
   "outputs": [
    {
     "data": {
      "text/plain": [
       "<Figure size 640x480 with 1 Axes>"
      ],
      "image/png": "[encoded data removed]"
     },
     "metadata": {},
     "output_type": "display_data"
    }
   ],
   "execution_count": 108
  },
  {
   "metadata": {
    "ExecuteTime": {
     "end_time": "2024-10-12T02:57:12.558624Z",
     "start_time": "2024-10-12T02:57:12.300409Z"
    }
   },
   "cell_type": "code",
   "source": [
    "subcategory_count_sales = subcategory_count_sales.sort_values(by='Total Revenue', ascending=True)\n",
    "plt.barh(subcategory_count_sales['Sub-Category'], subcategory_count_sales['Total Revenue'], color='green')"
   ],
   "id": "621b63299e6c4443",
   "outputs": [
    {
     "data": {
      "text/plain": [
       "<BarContainer object of 17 artists>"
      ]
     },
     "execution_count": 111,
     "metadata": {},
     "output_type": "execute_result"
    },
    {
     "data": {
      "text/plain": [
       "<Figure size 640x480 with 1 Axes>"
      ],
      "image/png": "[encoded data removed]"
     },
     "metadata": {},
     "output_type": "display_data"
    }
   ],
   "execution_count": 111
  },
  {
   "metadata": {
    "ExecuteTime": {
     "end_time": "2024-10-12T02:59:49.959949Z",
     "start_time": "2024-10-12T02:59:49.950226Z"
    }
   },
   "cell_type": "code",
   "source": [
    "yearly_sales = df.groupby(['Order Year'], observed=True)['Total Revenue'].sum().reset_index()\n",
    "print(yearly_sales)"
   ],
   "id": "ac3d21bd8669274a",
   "outputs": [
    {
     "name": "stdout",
     "output_type": "stream",
     "text": [
      "   Order Year  Total Revenue\n",
      "0        2014    483966.1261\n",
      "1        2015    470532.5090\n",
      "2        2016    609205.5980\n",
      "3        2017    733215.2552\n"
     ]
    }
   ],
   "execution_count": 112
  },
  {
   "metadata": {
    "ExecuteTime": {
     "end_time": "2024-10-12T03:00:17.575829Z",
     "start_time": "2024-10-12T03:00:17.338918Z"
    }
   },
   "cell_type": "code",
   "source": "plt.bar(yearly_sales['Order Year'], yearly_sales['Total Revenue'],)",
   "id": "dd68e420d831530",
   "outputs": [
    {
     "data": {
      "text/plain": [
       "<BarContainer object of 4 artists>"
      ]
     },
     "execution_count": 113,
     "metadata": {},
     "output_type": "execute_result"
    },
    {
     "data": {
      "text/plain": [
       "<Figure size 640x480 with 1 Axes>"
      ],
      "image/png": "[encoded data removed]"
     },
     "metadata": {},
     "output_type": "display_data"
    }
   ],
   "execution_count": 113
  },
  {
   "metadata": {
    "ExecuteTime": {
     "end_time": "2024-10-12T03:30:14.702152Z",
     "start_time": "2024-10-12T03:30:14.695634Z"
    }
   },
   "cell_type": "code",
   "source": "df.columns",
   "id": "f86d31d2e311e42a",
   "outputs": [
    {
     "data": {
      "text/plain": [
       "Index(['Order ID', 'Order Date', 'Ship Date', 'Ship Mode', 'Customer ID',\n",
       "       'Customer Name', 'Segment', 'Country', 'City', 'State', 'Postal Code',\n",
       "       'Region', 'Product ID', 'Category', 'Sub-Category', 'Product Name',\n",
       "       'Total Revenue', 'Quantity', 'Discount', 'Profit', 'Order Year',\n",
       "       'Order Month', 'CLV'],\n",
       "      dtype='object')"
      ]
     },
     "execution_count": 115,
     "metadata": {},
     "output_type": "execute_result"
    }
   ],
   "execution_count": 115
  },
  {
   "metadata": {},
   "cell_type": "code",
   "outputs": [],
   "execution_count": null,
   "source": "",
   "id": "8b85ecc84a4c8482"
  }
 ],
 "metadata": {
  "kernelspec": {
   "display_name": "Python 3",
   "language": "python",
   "name": "python3"
  },
  "language_info": {
   "codemirror_mode": {
    "name": "ipython",
    "version": 2
   },
   "file_extension": ".py",
   "mimetype": "text/x-python",
   "name": "python",
   "nbconvert_exporter": "python",
   "pygments_lexer": "ipython2",
   "version": "2.7.6"
  }
 },
 "nbformat": 4,
 "nbformat_minor": 5
}
