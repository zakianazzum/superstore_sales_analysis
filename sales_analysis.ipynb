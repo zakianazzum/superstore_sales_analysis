{
 "cells": [
  {
   "cell_type": "code",
   "id": "initial_id",
   "metadata": {
    "collapsed": true,
    "ExecuteTime": {
     "end_time": "2024-10-01T12:30:40.925224600Z",
     "start_time": "2024-10-01T12:30:40.920219800Z"
    }
   },
   "source": [
    "import pandas as pd\n",
    "import numpy as np\n",
    "import matplotlib.pyplot as plt\n",
    "import seaborn as sns"
   ],
   "outputs": [],
   "execution_count": 2
  },
  {
   "metadata": {
    "ExecuteTime": {
     "end_time": "2024-10-01T12:30:44.142983200Z",
     "start_time": "2024-10-01T12:30:44.101486500Z"
    }
   },
   "cell_type": "code",
   "source": [
    "df = pd.read_csv('D:\\\\superstore_sales_analysis/Data/superstore.csv',encoding='latin1')"
   ],
   "id": "4609b433109a1a69",
   "outputs": [],
   "execution_count": 3
  },
  {
   "cell_type": "code",
   "outputs": [
    {
     "data": {
      "text/plain": "'D:\\\\superstore_sales_analysis'"
     },
     "execution_count": 1,
     "metadata": {},
     "output_type": "execute_result"
    }
   ],
   "source": [
    "pwd"
   ],
   "metadata": {
    "collapsed": false,
    "ExecuteTime": {
     "end_time": "2024-10-01T11:46:48.829839800Z",
     "start_time": "2024-10-01T11:46:48.815951600Z"
    }
   },
   "id": "8d6b5c510d9d42b3",
   "execution_count": 1
  },
  {
   "metadata": {
    "ExecuteTime": {
     "end_time": "2024-10-01T12:30:47.624394300Z",
     "start_time": "2024-10-01T12:30:47.606026400Z"
    }
   },
   "cell_type": "code",
   "source": [
    "df.head()"
   ],
   "id": "7b25fc25fd5b545e",
   "outputs": [
    {
     "data": {
      "text/plain": "   Row ID        Order ID  Order Date   Ship Date       Ship Mode Customer ID  \\\n0       1  CA-2016-152156   11/8/2016  11/11/2016    Second Class    CG-12520   \n1       2  CA-2016-152156   11/8/2016  11/11/2016    Second Class    CG-12520   \n2       3  CA-2016-138688   6/12/2016   6/16/2016    Second Class    DV-13045   \n3       4  US-2015-108966  10/11/2015  10/18/2015  Standard Class    SO-20335   \n4       5  US-2015-108966  10/11/2015  10/18/2015  Standard Class    SO-20335   \n\n     Customer Name    Segment        Country             City  ...  \\\n0      Claire Gute   Consumer  United States        Henderson  ...   \n1      Claire Gute   Consumer  United States        Henderson  ...   \n2  Darrin Van Huff  Corporate  United States      Los Angeles  ...   \n3   Sean O'Donnell   Consumer  United States  Fort Lauderdale  ...   \n4   Sean O'Donnell   Consumer  United States  Fort Lauderdale  ...   \n\n  Postal Code  Region       Product ID         Category Sub-Category  \\\n0       42420   South  FUR-BO-10001798        Furniture    Bookcases   \n1       42420   South  FUR-CH-10000454        Furniture       Chairs   \n2       90036    West  OFF-LA-10000240  Office Supplies       Labels   \n3       33311   South  FUR-TA-10000577        Furniture       Tables   \n4       33311   South  OFF-ST-10000760  Office Supplies      Storage   \n\n                                        Product Name     Sales  Quantity  \\\n0                  Bush Somerset Collection Bookcase  261.9600         2   \n1  Hon Deluxe Fabric Upholstered Stacking Chairs,...  731.9400         3   \n2  Self-Adhesive Address Labels for Typewriters b...   14.6200         2   \n3      Bretford CR4500 Series Slim Rectangular Table  957.5775         5   \n4                     Eldon Fold 'N Roll Cart System   22.3680         2   \n\n   Discount    Profit  \n0      0.00   41.9136  \n1      0.00  219.5820  \n2      0.00    6.8714  \n3      0.45 -383.0310  \n4      0.20    2.5164  \n\n[5 rows x 21 columns]",
      "text/html": "<div>\n<style scoped>\n    .dataframe tbody tr th:only-of-type {\n        vertical-align: middle;\n    }\n\n    .dataframe tbody tr th {\n        vertical-align: top;\n    }\n\n    .dataframe thead th {\n        text-align: right;\n    }\n</style>\n<table border=\"1\" class=\"dataframe\">\n  <thead>\n    <tr style=\"text-align: right;\">\n      <th></th>\n      <th>Row ID</th>\n      <th>Order ID</th>\n      <th>Order Date</th>\n      <th>Ship Date</th>\n      <th>Ship Mode</th>\n      <th>Customer ID</th>\n      <th>Customer Name</th>\n      <th>Segment</th>\n      <th>Country</th>\n      <th>City</th>\n      <th>...</th>\n      <th>Postal Code</th>\n      <th>Region</th>\n      <th>Product ID</th>\n      <th>Category</th>\n      <th>Sub-Category</th>\n      <th>Product Name</th>\n      <th>Sales</th>\n      <th>Quantity</th>\n      <th>Discount</th>\n      <th>Profit</th>\n    </tr>\n  </thead>\n  <tbody>\n    <tr>\n      <th>0</th>\n      <td>1</td>\n      <td>CA-2016-152156</td>\n      <td>11/8/2016</td>\n      <td>11/11/2016</td>\n      <td>Second Class</td>\n      <td>CG-12520</td>\n      <td>Claire Gute</td>\n      <td>Consumer</td>\n      <td>United States</td>\n      <td>Henderson</td>\n      <td>...</td>\n      <td>42420</td>\n      <td>South</td>\n      <td>FUR-BO-10001798</td>\n      <td>Furniture</td>\n      <td>Bookcases</td>\n      <td>Bush Somerset Collection Bookcase</td>\n      <td>261.9600</td>\n      <td>2</td>\n      <td>0.00</td>\n      <td>41.9136</td>\n    </tr>\n    <tr>\n      <th>1</th>\n      <td>2</td>\n      <td>CA-2016-152156</td>\n      <td>11/8/2016</td>\n      <td>11/11/2016</td>\n      <td>Second Class</td>\n      <td>CG-12520</td>\n      <td>Claire Gute</td>\n      <td>Consumer</td>\n      <td>United States</td>\n      <td>Henderson</td>\n      <td>...</td>\n      <td>42420</td>\n      <td>South</td>\n      <td>FUR-CH-10000454</td>\n      <td>Furniture</td>\n      <td>Chairs</td>\n      <td>Hon Deluxe Fabric Upholstered Stacking Chairs,...</td>\n      <td>731.9400</td>\n      <td>3</td>\n      <td>0.00</td>\n      <td>219.5820</td>\n    </tr>\n    <tr>\n      <th>2</th>\n      <td>3</td>\n      <td>CA-2016-138688</td>\n      <td>6/12/2016</td>\n      <td>6/16/2016</td>\n      <td>Second Class</td>\n      <td>DV-13045</td>\n      <td>Darrin Van Huff</td>\n      <td>Corporate</td>\n      <td>United States</td>\n      <td>Los Angeles</td>\n      <td>...</td>\n      <td>90036</td>\n      <td>West</td>\n      <td>OFF-LA-10000240</td>\n      <td>Office Supplies</td>\n      <td>Labels</td>\n      <td>Self-Adhesive Address Labels for Typewriters b...</td>\n      <td>14.6200</td>\n      <td>2</td>\n      <td>0.00</td>\n      <td>6.8714</td>\n    </tr>\n    <tr>\n      <th>3</th>\n      <td>4</td>\n      <td>US-2015-108966</td>\n      <td>10/11/2015</td>\n      <td>10/18/2015</td>\n      <td>Standard Class</td>\n      <td>SO-20335</td>\n      <td>Sean O'Donnell</td>\n      <td>Consumer</td>\n      <td>United States</td>\n      <td>Fort Lauderdale</td>\n      <td>...</td>\n      <td>33311</td>\n      <td>South</td>\n      <td>FUR-TA-10000577</td>\n      <td>Furniture</td>\n      <td>Tables</td>\n      <td>Bretford CR4500 Series Slim Rectangular Table</td>\n      <td>957.5775</td>\n      <td>5</td>\n      <td>0.45</td>\n      <td>-383.0310</td>\n    </tr>\n    <tr>\n      <th>4</th>\n      <td>5</td>\n      <td>US-2015-108966</td>\n      <td>10/11/2015</td>\n      <td>10/18/2015</td>\n      <td>Standard Class</td>\n      <td>SO-20335</td>\n      <td>Sean O'Donnell</td>\n      <td>Consumer</td>\n      <td>United States</td>\n      <td>Fort Lauderdale</td>\n      <td>...</td>\n      <td>33311</td>\n      <td>South</td>\n      <td>OFF-ST-10000760</td>\n      <td>Office Supplies</td>\n      <td>Storage</td>\n      <td>Eldon Fold 'N Roll Cart System</td>\n      <td>22.3680</td>\n      <td>2</td>\n      <td>0.20</td>\n      <td>2.5164</td>\n    </tr>\n  </tbody>\n</table>\n<p>5 rows × 21 columns</p>\n</div>"
     },
     "execution_count": 4,
     "metadata": {},
     "output_type": "execute_result"
    }
   ],
   "execution_count": 4
  },
  {
   "metadata": {},
   "cell_type": "markdown",
   "source": [
    "# 1. Data Understanding and Preparation\n",
    "\n",
    "#### 1.1 Data Exploration"
   ],
   "id": "ee9fc5ecfc3b4abf"
  },
  {
   "metadata": {
    "ExecuteTime": {
     "end_time": "2024-10-01T12:30:52.488559100Z",
     "start_time": "2024-10-01T12:30:52.465978500Z"
    }
   },
   "cell_type": "code",
   "outputs": [
    {
     "name": "stdout",
     "output_type": "stream",
     "text": [
      "<class 'pandas.core.frame.DataFrame'>\n",
      "RangeIndex: 9994 entries, 0 to 9993\n",
      "Data columns (total 21 columns):\n",
      " #   Column         Non-Null Count  Dtype  \n",
      "---  ------         --------------  -----  \n",
      " 0   Row ID         9994 non-null   int64  \n",
      " 1   Order ID       9994 non-null   object \n",
      " 2   Order Date     9994 non-null   object \n",
      " 3   Ship Date      9994 non-null   object \n",
      " 4   Ship Mode      9994 non-null   object \n",
      " 5   Customer ID    9994 non-null   object \n",
      " 6   Customer Name  9994 non-null   object \n",
      " 7   Segment        9994 non-null   object \n",
      " 8   Country        9994 non-null   object \n",
      " 9   City           9994 non-null   object \n",
      " 10  State          9994 non-null   object \n",
      " 11  Postal Code    9994 non-null   int64  \n",
      " 12  Region         9994 non-null   object \n",
      " 13  Product ID     9994 non-null   object \n",
      " 14  Category       9994 non-null   object \n",
      " 15  Sub-Category   9994 non-null   object \n",
      " 16  Product Name   9994 non-null   object \n",
      " 17  Sales          9994 non-null   float64\n",
      " 18  Quantity       9994 non-null   int64  \n",
      " 19  Discount       9994 non-null   float64\n",
      " 20  Profit         9994 non-null   float64\n",
      "dtypes: float64(3), int64(3), object(15)\n",
      "memory usage: 1.6+ MB\n"
     ]
    }
   ],
   "execution_count": 5,
   "source": [
    "df.info()"
   ],
   "id": "1f8bd7955e275fe1"
  },
  {
   "metadata": {
    "ExecuteTime": {
     "end_time": "2024-10-01T12:30:56.776289400Z",
     "start_time": "2024-10-01T12:30:56.562202700Z"
    }
   },
   "cell_type": "code",
   "outputs": [
    {
     "data": {
      "text/plain": "<Axes: >"
     },
     "execution_count": 6,
     "metadata": {},
     "output_type": "execute_result"
    },
    {
     "data": {
      "text/plain": "<Figure size 640x480 with 1 Axes>",
      "image/png": "[encoded data removed]"
     },
     "metadata": {},
     "output_type": "display_data"
    }
   ],
   "execution_count": 6,
   "source": [
    "df.isnull().sum(axis=1).plot()"
   ],
   "id": "4438666e9a779b80"
  },
  {
   "metadata": {},
   "cell_type": "markdown",
   "source": [
    "No Null values"
   ],
   "id": "f6ab9dd9d7d4bcae"
  },
  {
   "cell_type": "code",
   "outputs": [
    {
     "data": {
      "text/plain": "<Axes: >"
     },
     "execution_count": 14,
     "metadata": {},
     "output_type": "execute_result"
    },
    {
     "data": {
      "text/plain": "<Figure size 640x480 with 1 Axes>",
      "image/png": "[encoded data removed]"
     },
     "metadata": {},
     "output_type": "display_data"
    }
   ],
   "source": [
    "df.describe().plot()"
   ],
   "metadata": {
    "collapsed": false,
    "ExecuteTime": {
     "end_time": "2024-10-01T12:40:22.522148200Z",
     "start_time": "2024-10-01T12:40:22.352640600Z"
    }
   },
   "id": "247b107abe4fd1fa",
   "execution_count": 14
  },
  {
   "cell_type": "markdown",
   "source": [
    "#### Profit has negative value"
   ],
   "metadata": {
    "collapsed": false
   },
   "id": "e38d7b75435ff434"
  },
  {
   "cell_type": "code",
   "outputs": [
    {
     "data": {
      "text/plain": "3       -383.0310\n14      -123.8580\n15        -3.8160\n23        -1.0196\n27     -1665.0522\n          ...    \n9920     -35.8176\n9921      -4.5936\n9931     -40.1960\n9937      -1.7772\n9962     -67.6704\nName: Profit, Length: 1870, dtype: float64"
     },
     "execution_count": 21,
     "metadata": {},
     "output_type": "execute_result"
    }
   ],
   "source": [
    "negative_profit_mask = df['Profit'] < 0\n",
    "\n",
    "negative_profits = df[negative_profit_mask]\n",
    "negative_profits['Profit']\n"
   ],
   "metadata": {
    "collapsed": false,
    "ExecuteTime": {
     "end_time": "2024-10-01T12:51:55.516068800Z",
     "start_time": "2024-10-01T12:51:55.511042800Z"
    }
   },
   "id": "94e187484239a6ae",
   "execution_count": 21
  },
  {
   "cell_type": "code",
   "outputs": [
    {
     "name": "stdout",
     "output_type": "stream",
     "text": [
      "\n",
      "Number of Negative Profit Entries: 1870\n",
      "Total Number of Entries: 9993\n",
      "Percentage Negative Profits: 18.71%\n"
     ]
    }
   ],
   "source": [
    "num_negative_profits = negative_profit_mask.sum()\n",
    "total_series = len(df)\n",
    "percentage_negative_profits = (num_negative_profits / total_series) * 100\n",
    "\n",
    "print(f\"\\nNumber of Negative Profit Entries: {num_negative_profits}\")\n",
    "print(f\"Total Number of Entries: {total_series}\")\n",
    "print(f'Percentage Negative Profits: {percentage_negative_profits:.2f}%')"
   ],
   "metadata": {
    "collapsed": false,
    "ExecuteTime": {
     "end_time": "2024-10-01T12:55:48.770999500Z",
     "start_time": "2024-10-01T12:55:48.761962Z"
    }
   },
   "id": "e488e22a0837dab9",
   "execution_count": 23
  },
  {
   "cell_type": "markdown",
   "source": [
    "### Further analysis for checking the reason for negative Profit"
   ],
   "metadata": {
    "collapsed": false
   },
   "id": "369e5366104960ee"
  },
  {
   "cell_type": "code",
   "outputs": [
    {
     "name": "stdout",
     "output_type": "stream",
     "text": [
      "\n",
      "Average Discount Percentage for Negative Profits: 5.53%\n"
     ]
    },
    {
     "name": "stderr",
     "output_type": "stream",
     "text": [
      "C:\\Users\\SOULS\\AppData\\Local\\Temp\\ipykernel_18352\\2782112406.py:2: SettingWithCopyWarning: \n",
      "A value is trying to be set on a copy of a slice from a DataFrame.\n",
      "Try using .loc[row_indexer,col_indexer] = value instead\n",
      "\n",
      "See the caveats in the documentation: https://pandas.pydata.org/pandas-docs/stable/user_guide/indexing.html#returning-a-view-versus-a-copy\n",
      "  negative_profits['Discount_Percentage'] = (df['Discount'] / df['Sales']) * 100\n"
     ]
    }
   ],
   "source": [
    "# Discount Percentage \n",
    "negative_profits['Discount_Percentage'] = (df['Discount'] / df['Sales']) * 100\n",
    "\n",
    "avg_discount_neg = negative_profits['Discount_Percentage'].mean()\n",
    "print(f\"\\nAverage Discount Percentage for Negative Profits: {avg_discount_neg:.2f}%\")"
   ],
   "metadata": {
    "collapsed": false,
    "ExecuteTime": {
     "end_time": "2024-10-01T13:05:13.409861200Z",
     "start_time": "2024-10-01T13:05:13.401501400Z"
    }
   },
   "id": "4cde1f5032181ae3",
   "execution_count": 29
  },
  {
   "cell_type": "code",
   "outputs": [
    {
     "name": "stdout",
     "output_type": "stream",
     "text": [
      "\n",
      "Average Profit Margin for Negative Profits: -62.49%\n"
     ]
    },
    {
     "name": "stderr",
     "output_type": "stream",
     "text": [
      "C:\\Users\\SOULS\\AppData\\Local\\Temp\\ipykernel_18352\\1862383723.py:2: SettingWithCopyWarning: \n",
      "A value is trying to be set on a copy of a slice from a DataFrame.\n",
      "Try using .loc[row_indexer,col_indexer] = value instead\n",
      "\n",
      "See the caveats in the documentation: https://pandas.pydata.org/pandas-docs/stable/user_guide/indexing.html#returning-a-view-versus-a-copy\n",
      "  negative_profits['profit_margin'] = (df['Profit'] /df['Sales']) * 100\n"
     ]
    }
   ],
   "source": [
    "# Profit Margin\n",
    "negative_profits['profit_margin'] = (df['Profit'] /df['Sales']) * 100\n",
    "\n",
    "avg_profit_neg = negative_profits['profit_margin'].mean()\n",
    "\n",
    "print(f\"\\nAverage Profit Margin for Negative Profits: {avg_profit_neg:.2f}%\")"
   ],
   "metadata": {
    "collapsed": false,
    "ExecuteTime": {
     "end_time": "2024-10-01T13:12:56.821812Z",
     "start_time": "2024-10-01T13:12:56.815938400Z"
    }
   },
   "id": "9fecc573e421019c",
   "execution_count": 30
  },
  {
   "cell_type": "markdown",
   "source": [
    "##### For every dollar sales in these transactions, the business is incurring a loss of approximately 69.49 cents."
   ],
   "metadata": {
    "collapsed": false
   },
   "id": "3750dc6952e10b69"
  },
  {
   "cell_type": "code",
   "outputs": [
    {
     "name": "stdout",
     "output_type": "stream",
     "text": [
      "\n",
      "Average Profit Margin for Negative Profits: 12.03%\n"
     ]
    }
   ],
   "source": [
    "avg_profit_neg = df['profit_margin'].mean()\n",
    "\n",
    "print(f\"\\nAverage Profit Margin for Negative Profits: {avg_profit_neg:.2f}%\")"
   ],
   "metadata": {
    "collapsed": false,
    "ExecuteTime": {
     "end_time": "2024-10-01T13:57:08.112755300Z",
     "start_time": "2024-10-01T13:57:08.098734Z"
    }
   },
   "id": "fadb1d58b80bc78b",
   "execution_count": 47
  },
  {
   "cell_type": "code",
   "outputs": [
    {
     "data": {
      "text/plain": "<Figure size 1000x600 with 1 Axes>",
      "image/png": "[encoded data removed]"
     },
     "metadata": {},
     "output_type": "display_data"
    }
   ],
   "source": [
    "plt.figure(figsize=(10, 6))\n",
    "sns.histplot(negative_profits['Discount_Percentage'], bins=20, kde=True, color='red')\n",
    "plt.title('Distribution of Discount Percentage in Negative Profits')\n",
    "plt.xlabel('Discount Percentage')\n",
    "plt.ylabel('Frequency')\n",
    "plt.show()"
   ],
   "metadata": {
    "collapsed": false,
    "ExecuteTime": {
     "end_time": "2024-10-01T13:16:37.671789300Z",
     "start_time": "2024-10-01T13:16:37.486214700Z"
    }
   },
   "id": "e520bf468d705b34",
   "execution_count": 31
  },
  {
   "cell_type": "code",
   "outputs": [
    {
     "data": {
      "text/plain": "<Figure size 1000x600 with 1 Axes>",
      "image/png": "[encoded data removed]"
     },
     "metadata": {},
     "output_type": "display_data"
    }
   ],
   "source": [
    "plt.figure(figsize=(10, 6))\n",
    "sns.scatterplot(x='Sales', y='Profit', data=negative_profits, hue='Category')\n",
    "plt.title('Sales vs. Profit for Negative Profit Transactions')\n",
    "plt.xlabel('Sales')\n",
    "plt.ylabel('Profit')\n",
    "plt.show()\n"
   ],
   "metadata": {
    "collapsed": false,
    "ExecuteTime": {
     "end_time": "2024-10-01T13:18:43.788846Z",
     "start_time": "2024-10-01T13:18:43.622985900Z"
    }
   },
   "id": "8c4cb435dc441caf",
   "execution_count": 34
  },
  {
   "cell_type": "code",
   "outputs": [
    {
     "name": "stdout",
     "output_type": "stream",
     "text": [
      "\n",
      "Number of Negative Profits with >20% Discounts: 164 \n",
      "            Order ID  Sales  Discount_Percentage  Profit\n",
      "15    US-2015-118983  2.544            31.446541 -3.8160\n",
      "75    US-2017-118038  1.248            64.102564 -1.9344\n",
      "101   CA-2016-158568  1.788            44.742729 -3.0396\n",
      "126   US-2017-107272  2.388            29.313233 -1.8308\n",
      "198   US-2017-124303  2.946            23.761032 -2.2586\n",
      "...              ...    ...                  ...     ...\n",
      "9479  CA-2014-126193  3.828            20.898642 -6.5076\n",
      "9629  CA-2014-118192  3.438            20.360675 -2.5212\n",
      "9795  CA-2016-125920  3.798            21.063718 -5.8869\n",
      "9808  CA-2017-145093  2.112            37.878788 -3.3792\n",
      "9869  CA-2014-114195  3.132            22.349936 -2.6100\n",
      "\n",
      "[164 rows x 4 columns]\n"
     ]
    }
   ],
   "source": [
    "# Identifying if high discounts correlated with negative profits.\n",
    "\n",
    "high_discounts_neg = negative_profits[negative_profits['Discount_Percentage'] > 20]\n",
    "print(f\"\\nNumber of Negative Profits with >20% Discounts: {len(high_discounts_neg)} \")\n",
    "print(high_discounts_neg[['Order ID', 'Sales', 'Discount_Percentage', 'Profit']])"
   ],
   "metadata": {
    "collapsed": false,
    "ExecuteTime": {
     "end_time": "2024-10-01T13:27:01.721582700Z",
     "start_time": "2024-10-01T13:27:01.711244Z"
    }
   },
   "id": "d6342449767e4e2c",
   "execution_count": 36
  },
  {
   "cell_type": "code",
   "outputs": [
    {
     "name": "stdout",
     "output_type": "stream",
     "text": [
      "\n",
      "Number of Negative Profits with Sales < $50: 829\n",
      "            Order ID   Sales   Profit\n",
      "15    US-2015-118983   2.544  -3.8160\n",
      "28    US-2015-150630   9.618  -7.0532\n",
      "32    US-2015-150630   6.858  -5.7150\n",
      "75    US-2017-118038   1.248  -1.9344\n",
      "76    US-2017-118038   9.708  -5.8248\n",
      "...              ...     ...      ...\n",
      "9870  CA-2014-114195  22.428 -17.9424\n",
      "9877  US-2017-166324   8.700  -6.3800\n",
      "9903  CA-2014-122609  25.128  -6.9102\n",
      "9920  CA-2016-149272  22.386 -35.8176\n",
      "9921  CA-2014-111360   5.742  -4.5936\n",
      "\n",
      "[829 rows x 3 columns]\n"
     ]
    }
   ],
   "source": [
    "low_sales_neg = negative_profits[negative_profits['Sales'] < 50]  # Example threshold\n",
    "print(f\"\\nNumber of Negative Profits with Sales < $50: {len(low_sales_neg)}\")\n",
    "print(low_sales_neg[['Order ID', 'Sales', 'Profit']])"
   ],
   "metadata": {
    "collapsed": false,
    "ExecuteTime": {
     "end_time": "2024-10-01T13:28:21.244784500Z",
     "start_time": "2024-10-01T13:28:21.232350700Z"
    }
   },
   "id": "19c14ace4bbc139a",
   "execution_count": 37
  },
  {
   "cell_type": "code",
   "outputs": [
    {
     "name": "stdout",
     "output_type": "stream",
     "text": [
      "\n",
      "Negative Profit by category: \n",
      "Category\n",
      "Office Supplies    886\n",
      "Furniture          713\n",
      "Technology         271\n",
      "Name: count, dtype: int64\n",
      "\n",
      " Top 10 Products with Negative Profit: \n",
      "Product Name\n",
      "Global Wood Trimmed Manager's Task Chair, Khaki                          12\n",
      "KI Adjustable-Height Table                                               10\n",
      "Global High-Back Leather Tilter, Burgundy                                10\n",
      "Hon 61000 Series Interactive Training Tables                              9\n",
      "Office Star - Contemporary Task Swivel chair with Loop Arms, Charcoal     8\n",
      "Storex Dura Pro Binders                                                   8\n",
      "Global Deluxe Steno Chair                                                 8\n",
      "GBC Instant Report Kit                                                    8\n",
      "Novimex Fabric Task Chair                                                 8\n",
      "Staple remover                                                            8\n",
      "Name: count, dtype: int64\n"
     ]
    }
   ],
   "source": [
    "# Checking if certain categories or products are consistently generating negative profits\n",
    "category_neg = negative_profits['Category'].value_counts()\n",
    "print(\"\\nNegative Profit by category: \")\n",
    "print(category_neg)\n",
    "\n",
    "product_neg = negative_profits['Product Name'].value_counts().head(10)\n",
    "print(\"\\n Top 10 Products with Negative Profit: \")\n",
    "print(product_neg)"
   ],
   "metadata": {
    "collapsed": false,
    "ExecuteTime": {
     "end_time": "2024-10-01T13:33:01.048031300Z",
     "start_time": "2024-10-01T13:33:01.036261400Z"
    }
   },
   "id": "a8070d7b12a03904",
   "execution_count": 38
  },
  {
   "cell_type": "code",
   "outputs": [
    {
     "name": "stdout",
     "output_type": "stream",
     "text": [
      "\n",
      "Negative Profit by Ship Mode:\n",
      "Ship Mode\n",
      "Standard Class    1172\n",
      "Second Class       307\n",
      "First Class        293\n",
      "Same Day            98\n",
      "Name: count, dtype: int64\n"
     ]
    }
   ],
   "source": [
    "# Analyzing if specific shipping modes are associated with negative profits.\n",
    "shipping_neg = negative_profits['Ship Mode'].value_counts()\n",
    "print(\"\\nNegative Profit by Ship Mode:\")\n",
    "print(shipping_neg)"
   ],
   "metadata": {
    "collapsed": false,
    "ExecuteTime": {
     "end_time": "2024-10-01T13:36:32.286168100Z",
     "start_time": "2024-10-01T13:36:32.272880100Z"
    }
   },
   "id": "da27eed7ed054fb3",
   "execution_count": 40
  },
  {
   "cell_type": "code",
   "outputs": [
    {
     "name": "stdout",
     "output_type": "stream",
     "text": [
      "\n",
      "Negative Profit by Region: \n",
      "Region\n",
      "Central    741\n",
      "East       552\n",
      "West       318\n",
      "South      259\n",
      "Name: count, dtype: int64\n"
     ]
    }
   ],
   "source": [
    "# Investigation if certain regions are more prone to negative profit.\n",
    "\n",
    "region_neg = negative_profits['Region'].value_counts()\n",
    "print(\"\\nNegative Profit by Region: \")\n",
    "print(region_neg)"
   ],
   "metadata": {
    "collapsed": false,
    "ExecuteTime": {
     "end_time": "2024-10-01T13:38:38.914848500Z",
     "start_time": "2024-10-01T13:38:38.880811300Z"
    }
   },
   "id": "a2004f8a08354197",
   "execution_count": 42
  },
  {
   "cell_type": "code",
   "outputs": [
    {
     "name": "stdout",
     "output_type": "stream",
     "text": [
      "\n",
      "Sample Negative Profit Transactions:\n",
      "            Order ID Order Date   Ship Date       Ship Mode Customer ID  \\\n",
      "9103  CA-2015-163181 2015-11-07  11/12/2015  Standard Class    AB-10105   \n",
      "8169  CA-2017-107174 2017-11-06  11/13/2017  Standard Class    AB-10060   \n",
      "5066  CA-2017-142090 2017-11-30   12/7/2017  Standard Class    SC-20380   \n",
      "1463  CA-2016-152289 2016-08-26   8/28/2016     First Class    LC-16930   \n",
      "2228  CA-2016-139157 2016-10-01   10/5/2016  Standard Class    GM-14680   \n",
      "\n",
      "         Customer Name      Segment        Country           City  \\\n",
      "9103     Adrian Barton     Consumer  United States        Houston   \n",
      "8169   Adam Bellavance  Home Office  United States        Seattle   \n",
      "5066  Shahid Collister     Consumer  United States     Burlington   \n",
      "1463    Linda Cazamias    Corporate  United States       Pasadena   \n",
      "2228     Greg Matthias     Consumer  United States  New York City   \n",
      "\n",
      "               State  ...  Sub-Category  \\\n",
      "9103           Texas  ...   Furnishings   \n",
      "8169      Washington  ...        Chairs   \n",
      "5066  North Carolina  ...        Tables   \n",
      "1463           Texas  ...        Chairs   \n",
      "2228        New York  ...        Tables   \n",
      "\n",
      "                                           Product Name     Sales Quantity  \\\n",
      "9103           Tenex Chairmats For Use with Hard Floors    64.960        5   \n",
      "8169  Hon 2090 Pillow Soft Series Mid Back Swivel/...   449.568        2   \n",
      "5066  Bush Advantage Collection Racetrack Conference...  1781.682        7   \n",
      "1463      Hon Deluxe Fabric Upholstered Stacking Chairs  1024.716        6   \n",
      "2228  Chromcraft Bull-Nose Wood 48\" x 96\" Rectangula...   330.588        1   \n",
      "\n",
      "     Discount    Profit  Order Year  Order Month  Discount_Percentage  \\\n",
      "9103      0.6  -84.4480        2015           11             0.923645   \n",
      "8169      0.2  -73.0548        2017           11             0.044487   \n",
      "5066      0.4 -653.2834        2017           11             0.022451   \n",
      "1463      0.3  -29.2776        2016            8             0.029276   \n",
      "2228      0.4 -115.7058        2016           10             0.120997   \n",
      "\n",
      "      profit_margin  \n",
      "9103    -130.000000  \n",
      "8169     -16.250000  \n",
      "5066     -36.666667  \n",
      "1463      -2.857143  \n",
      "2228     -35.000000  \n",
      "\n",
      "[5 rows x 24 columns]\n"
     ]
    }
   ],
   "source": [
    "# Display a sample of negative profit transactions\n",
    "sample_neg = negative_profits.sample(n=5, random_state=42)\n",
    "print(\"\\nSample Negative Profit Transactions:\")\n",
    "print(sample_neg)\n"
   ],
   "metadata": {
    "collapsed": false,
    "ExecuteTime": {
     "end_time": "2024-10-01T13:39:55.824893700Z",
     "start_time": "2024-10-01T13:39:55.809143900Z"
    }
   },
   "id": "d801cd3f140451b6",
   "execution_count": 43
  },
  {
   "cell_type": "markdown",
   "source": [
    "Overall, the discount percentage (5.53%) and steep negative profit margin (-62.49%)."
   ],
   "metadata": {
    "collapsed": false
   },
   "id": "db73462aecbfc53b"
  },
  {
   "cell_type": "code",
   "outputs": [],
   "source": [],
   "metadata": {
    "collapsed": false
   },
   "id": "853af5535f73b9af"
  },
  {
   "metadata": {},
   "cell_type": "markdown",
   "source": [
    "\n",
    "#### 1.2 Data Cleaning "
   ],
   "id": "5f4ddfcfe8c1223f"
  },
  {
   "metadata": {
    "ExecuteTime": {
     "end_time": "2024-10-01T12:31:06.965977700Z",
     "start_time": "2024-10-01T12:31:06.962263700Z"
    }
   },
   "cell_type": "code",
   "source": [
    "# Dropping Row ID\n",
    "df = df.drop(columns=['Row ID'])"
   ],
   "id": "5f697adb306f333a",
   "outputs": [],
   "execution_count": 7
  },
  {
   "metadata": {
    "ExecuteTime": {
     "end_time": "2024-10-01T12:31:07.791735Z",
     "start_time": "2024-10-01T12:31:07.774196800Z"
    }
   },
   "cell_type": "code",
   "source": [
    "# Checking for Duplicates \n",
    "if df.duplicated().sum() > 0:\n",
    "    print('Duplicate exits')\n",
    "else:\n",
    "    print(\"No duplicates\")"
   ],
   "id": "13bf2e9c5ccc574c",
   "outputs": [
    {
     "name": "stdout",
     "output_type": "stream",
     "text": [
      "Duplicate exits\n"
     ]
    }
   ],
   "execution_count": 8
  },
  {
   "metadata": {
    "ExecuteTime": {
     "end_time": "2024-10-01T12:31:16.155158900Z",
     "start_time": "2024-10-01T12:31:16.124212600Z"
    }
   },
   "cell_type": "code",
   "source": [
    "duplicates = df[df.duplicated(keep=False)]\n",
    "duplicates"
   ],
   "id": "5e943f1e2a5685b3",
   "outputs": [
    {
     "data": {
      "text/plain": "            Order ID Order Date  Ship Date       Ship Mode Customer ID  \\\n3405  US-2014-150119  4/23/2014  4/27/2014  Standard Class    LB-16795   \n3406  US-2014-150119  4/23/2014  4/27/2014  Standard Class    LB-16795   \n\n       Customer Name      Segment        Country      City State  Postal Code  \\\n3405  Laurel Beltran  Home Office  United States  Columbus  Ohio        43229   \n3406  Laurel Beltran  Home Office  United States  Columbus  Ohio        43229   \n\n     Region       Product ID   Category Sub-Category  \\\n3405   East  FUR-CH-10002965  Furniture       Chairs   \n3406   East  FUR-CH-10002965  Furniture       Chairs   \n\n                                           Product Name    Sales  Quantity  \\\n3405  Global Leather Highback Executive Chair with P...  281.372         2   \n3406  Global Leather Highback Executive Chair with P...  281.372         2   \n\n      Discount   Profit  \n3405       0.3 -12.0588  \n3406       0.3 -12.0588  ",
      "text/html": "<div>\n<style scoped>\n    .dataframe tbody tr th:only-of-type {\n        vertical-align: middle;\n    }\n\n    .dataframe tbody tr th {\n        vertical-align: top;\n    }\n\n    .dataframe thead th {\n        text-align: right;\n    }\n</style>\n<table border=\"1\" class=\"dataframe\">\n  <thead>\n    <tr style=\"text-align: right;\">\n      <th></th>\n      <th>Order ID</th>\n      <th>Order Date</th>\n      <th>Ship Date</th>\n      <th>Ship Mode</th>\n      <th>Customer ID</th>\n      <th>Customer Name</th>\n      <th>Segment</th>\n      <th>Country</th>\n      <th>City</th>\n      <th>State</th>\n      <th>Postal Code</th>\n      <th>Region</th>\n      <th>Product ID</th>\n      <th>Category</th>\n      <th>Sub-Category</th>\n      <th>Product Name</th>\n      <th>Sales</th>\n      <th>Quantity</th>\n      <th>Discount</th>\n      <th>Profit</th>\n    </tr>\n  </thead>\n  <tbody>\n    <tr>\n      <th>3405</th>\n      <td>US-2014-150119</td>\n      <td>4/23/2014</td>\n      <td>4/27/2014</td>\n      <td>Standard Class</td>\n      <td>LB-16795</td>\n      <td>Laurel Beltran</td>\n      <td>Home Office</td>\n      <td>United States</td>\n      <td>Columbus</td>\n      <td>Ohio</td>\n      <td>43229</td>\n      <td>East</td>\n      <td>FUR-CH-10002965</td>\n      <td>Furniture</td>\n      <td>Chairs</td>\n      <td>Global Leather Highback Executive Chair with P...</td>\n      <td>281.372</td>\n      <td>2</td>\n      <td>0.3</td>\n      <td>-12.0588</td>\n    </tr>\n    <tr>\n      <th>3406</th>\n      <td>US-2014-150119</td>\n      <td>4/23/2014</td>\n      <td>4/27/2014</td>\n      <td>Standard Class</td>\n      <td>LB-16795</td>\n      <td>Laurel Beltran</td>\n      <td>Home Office</td>\n      <td>United States</td>\n      <td>Columbus</td>\n      <td>Ohio</td>\n      <td>43229</td>\n      <td>East</td>\n      <td>FUR-CH-10002965</td>\n      <td>Furniture</td>\n      <td>Chairs</td>\n      <td>Global Leather Highback Executive Chair with P...</td>\n      <td>281.372</td>\n      <td>2</td>\n      <td>0.3</td>\n      <td>-12.0588</td>\n    </tr>\n  </tbody>\n</table>\n</div>"
     },
     "execution_count": 9,
     "metadata": {},
     "output_type": "execute_result"
    }
   ],
   "execution_count": 9
  },
  {
   "metadata": {
    "ExecuteTime": {
     "end_time": "2024-10-01T12:31:22.160786500Z",
     "start_time": "2024-10-01T12:31:22.138055600Z"
    }
   },
   "cell_type": "code",
   "source": [
    "# Dropping Duplicate row\n",
    "df.drop_duplicates(inplace=True)"
   ],
   "id": "b0694ecdee96f1a3",
   "outputs": [],
   "execution_count": 10
  },
  {
   "metadata": {},
   "cell_type": "markdown",
   "source": [
    "###### Converting Data Types"
   ],
   "id": "1d096a2ce547973c"
  },
  {
   "metadata": {
    "ExecuteTime": {
     "end_time": "2024-10-01T12:31:34.988731600Z",
     "start_time": "2024-10-01T12:31:34.973752300Z"
    }
   },
   "cell_type": "code",
   "source": [
    "df['Order Date'] = pd.to_datetime(df['Order Date'])\n",
    "#df['Customer ID'] = df['Customer ID'].astype('category')"
   ],
   "id": "b45940da301b0bea",
   "outputs": [],
   "execution_count": 11
  },
  {
   "metadata": {},
   "cell_type": "markdown",
   "source": [
    "#### 1.3 Feature Engineering\n",
    "* Creating New Feature : Order Year and Month"
   ],
   "id": "2629511843225c64"
  },
  {
   "metadata": {
    "ExecuteTime": {
     "end_time": "2024-10-01T12:31:40.570248400Z",
     "start_time": "2024-10-01T12:31:40.564705600Z"
    }
   },
   "cell_type": "code",
   "source": [
    "df['Order Year'] = df['Order Date'].dt.year\n",
    "df['Order Month'] = df['Order Date'].dt.month"
   ],
   "id": "fc842f68f54b1ebf",
   "outputs": [],
   "execution_count": 12
  },
  {
   "metadata": {},
   "cell_type": "markdown",
   "source": [
    "* Total Revenue "
   ],
   "id": "45e62490c5cf84a7"
  },
  {
   "metadata": {
    "ExecuteTime": {
     "end_time": "2024-09-30T07:44:34.584518Z",
     "start_time": "2024-09-30T07:44:34.580067Z"
    }
   },
   "cell_type": "code",
   "source": [
    "df['Total Revenue'] = df['Sales'] - df['Discount']"
   ],
   "id": "5eecbc5f683ac173",
   "outputs": [],
   "execution_count": 54
  },
  {
   "metadata": {},
   "cell_type": "markdown",
   "source": [
    "* Calculating Customer Lifetime Value (CLV)"
   ],
   "id": "521002d586553d22"
  },
  {
   "metadata": {
    "ExecuteTime": {
     "end_time": "2024-09-30T08:02:41.588461Z",
     "start_time": "2024-09-30T08:02:41.579007Z"
    }
   },
   "cell_type": "code",
   "source": [
    "# Calculate customer lifespan\n",
    "def calculate_average_lifespan(df):\n",
    "    lifespan = df.groupby('Customer ID')['Order Date'].agg(['min', 'max'])\n",
    "    lifespan['Lifespan (days)'] = (lifespan['max'] - lifespan['min']).dt.days\n",
    "    average_lifespan = lifespan['Lifespan (days)'].mean()\n",
    "    average_lifespan_years = average_lifespan / 365  \n",
    "    return average_lifespan_years\n",
    "\n",
    "ave_lifespan = calculate_average_lifespan(df)\n",
    "print(f\"\\nAverage Lifespan: {ave_lifespan:.2f} years\")"
   ],
   "id": "231bbe6030fa0fb5",
   "outputs": [
    {
     "name": "stdout",
     "output_type": "stream",
     "text": [
      "\n",
      "Average Lifespan: 2.74 years\n"
     ]
    },
    {
     "name": "stderr",
     "output_type": "stream",
     "text": [
      "/tmp/ipykernel_42479/545695867.py:3: FutureWarning: The default of observed=False is deprecated and will be changed to True in a future version of pandas. Pass observed=False to retain current behavior or observed=True to adopt the future default and silence this warning.\n",
      "  lifespan = df.groupby('Customer ID')['Order Date'].agg(['min', 'max'])\n"
     ]
    }
   ],
   "execution_count": 60
  },
  {
   "metadata": {
    "ExecuteTime": {
     "end_time": "2024-09-30T08:02:51.194706Z",
     "start_time": "2024-09-30T08:02:51.186118Z"
    }
   },
   "cell_type": "code",
   "source": [
    "avg_order_value = df.groupby('Customer ID')['Total Revenue'].mean()\n",
    "purchase_frequency = df.groupby('Customer ID')['Order ID'].count()\n",
    "customer_lifespan = 2.74\n",
    "\n",
    "clv = avg_order_value * purchase_frequency * customer_lifespan * customer_lifespan \n",
    "clv_df = clv.reset_index(name='CLV')\n"
   ],
   "id": "811f966f22a7358f",
   "outputs": [
    {
     "name": "stderr",
     "output_type": "stream",
     "text": [
      "/tmp/ipykernel_42479/1377583793.py:1: FutureWarning: The default of observed=False is deprecated and will be changed to True in a future version of pandas. Pass observed=False to retain current behavior or observed=True to adopt the future default and silence this warning.\n",
      "  avg_order_value = df.groupby('Customer ID')['Total Revenue'].mean()\n",
      "/tmp/ipykernel_42479/1377583793.py:2: FutureWarning: The default of observed=False is deprecated and will be changed to True in a future version of pandas. Pass observed=False to retain current behavior or observed=True to adopt the future default and silence this warning.\n",
      "  purchase_frequency = df.groupby('Customer ID')['Order ID'].count()\n"
     ]
    }
   ],
   "execution_count": 61
  },
  {
   "metadata": {
    "ExecuteTime": {
     "end_time": "2024-09-30T08:02:55.330193Z",
     "start_time": "2024-09-30T08:02:55.322023Z"
    }
   },
   "cell_type": "code",
   "source": [
    "clv_df"
   ],
   "id": "495a3d5f05027f64",
   "outputs": [
    {
     "data": {
      "text/plain": [
       "    Customer ID           CLV\n",
       "0      AA-10315  41761.475456\n",
       "1      AA-10375   7921.944444\n",
       "2      AA-10480  13440.946371\n",
       "3      AA-10645  38182.039466\n",
       "4      AB-10015   6649.901746\n",
       "..          ...           ...\n",
       "788    XP-21865  17818.222521\n",
       "789    YC-21895  40944.573500\n",
       "790    YS-21880  50449.900814\n",
       "791    ZC-21910  60194.487833\n",
       "792    ZD-21925  11208.426374\n",
       "\n",
       "[793 rows x 2 columns]"
      ],
      "text/html": [
       "<div>\n",
       "<style scoped>\n",
       "    .dataframe tbody tr th:only-of-type {\n",
       "        vertical-align: middle;\n",
       "    }\n",
       "\n",
       "    .dataframe tbody tr th {\n",
       "        vertical-align: top;\n",
       "    }\n",
       "\n",
       "    .dataframe thead th {\n",
       "        text-align: right;\n",
       "    }\n",
       "</style>\n",
       "<table border=\"1\" class=\"dataframe\">\n",
       "  <thead>\n",
       "    <tr style=\"text-align: right;\">\n",
       "      <th></th>\n",
       "      <th>Customer ID</th>\n",
       "      <th>CLV</th>\n",
       "    </tr>\n",
       "  </thead>\n",
       "  <tbody>\n",
       "    <tr>\n",
       "      <th>0</th>\n",
       "      <td>AA-10315</td>\n",
       "      <td>41761.475456</td>\n",
       "    </tr>\n",
       "    <tr>\n",
       "      <th>1</th>\n",
       "      <td>AA-10375</td>\n",
       "      <td>7921.944444</td>\n",
       "    </tr>\n",
       "    <tr>\n",
       "      <th>2</th>\n",
       "      <td>AA-10480</td>\n",
       "      <td>13440.946371</td>\n",
       "    </tr>\n",
       "    <tr>\n",
       "      <th>3</th>\n",
       "      <td>AA-10645</td>\n",
       "      <td>38182.039466</td>\n",
       "    </tr>\n",
       "    <tr>\n",
       "      <th>4</th>\n",
       "      <td>AB-10015</td>\n",
       "      <td>6649.901746</td>\n",
       "    </tr>\n",
       "    <tr>\n",
       "      <th>...</th>\n",
       "      <td>...</td>\n",
       "      <td>...</td>\n",
       "    </tr>\n",
       "    <tr>\n",
       "      <th>788</th>\n",
       "      <td>XP-21865</td>\n",
       "      <td>17818.222521</td>\n",
       "    </tr>\n",
       "    <tr>\n",
       "      <th>789</th>\n",
       "      <td>YC-21895</td>\n",
       "      <td>40944.573500</td>\n",
       "    </tr>\n",
       "    <tr>\n",
       "      <th>790</th>\n",
       "      <td>YS-21880</td>\n",
       "      <td>50449.900814</td>\n",
       "    </tr>\n",
       "    <tr>\n",
       "      <th>791</th>\n",
       "      <td>ZC-21910</td>\n",
       "      <td>60194.487833</td>\n",
       "    </tr>\n",
       "    <tr>\n",
       "      <th>792</th>\n",
       "      <td>ZD-21925</td>\n",
       "      <td>11208.426374</td>\n",
       "    </tr>\n",
       "  </tbody>\n",
       "</table>\n",
       "<p>793 rows × 2 columns</p>\n",
       "</div>"
      ]
     },
     "execution_count": 62,
     "metadata": {},
     "output_type": "execute_result"
    }
   ],
   "execution_count": 62
  },
  {
   "metadata": {},
   "cell_type": "markdown",
   "source": [
    "# 2. Exploratory Analysis"
   ],
   "id": "b8dae7c6e61f607f"
  },
  {
   "metadata": {
    "ExecuteTime": {
     "end_time": "2024-10-01T15:44:37.662634800Z",
     "start_time": "2024-10-01T15:44:37.641580300Z"
    }
   },
   "cell_type": "code",
   "outputs": [
    {
     "name": "stdout",
     "output_type": "stream",
     "text": [
      "['Consumer' 'Corporate' 'Home Office']\n"
     ]
    }
   ],
   "execution_count": 48,
   "source": [
    "# Types of customers\n",
    "types_of_customers = df['Segment'].unique()\n",
    "print(types_of_customers)"
   ],
   "id": "1fa1d9c733f97118"
  },
  {
   "cell_type": "code",
   "outputs": [],
   "source": [
    "number_of_customers = df['Segment'].value_counts().reset_index()\n",
    "number_of_customers = number_of_customers.rename(columns={'Segment': 'Type of Customers'})"
   ],
   "metadata": {
    "collapsed": false,
    "ExecuteTime": {
     "end_time": "2024-10-01T15:46:33.628216300Z",
     "start_time": "2024-10-01T15:46:33.616680600Z"
    }
   },
   "id": "e9c8b60227cd895a",
   "execution_count": 50
  },
  {
   "cell_type": "code",
   "outputs": [
    {
     "name": "stdout",
     "output_type": "stream",
     "text": [
      "  Type of Customers  count\n",
      "0          Consumer   5191\n",
      "1         Corporate   3020\n",
      "2       Home Office   1782\n"
     ]
    }
   ],
   "source": [
    "print(number_of_customers)"
   ],
   "metadata": {
    "collapsed": false,
    "ExecuteTime": {
     "end_time": "2024-10-01T15:46:51.003449200Z",
     "start_time": "2024-10-01T15:46:50.974445900Z"
    }
   },
   "id": "5cba5bb37bb3c1f5",
   "execution_count": 51
  },
  {
   "cell_type": "code",
   "outputs": [
    {
     "data": {
      "text/plain": "<Figure size 640x480 with 1 Axes>",
      "image/png": "[encoded data removed]"
     },
     "metadata": {},
     "output_type": "display_data"
    }
   ],
   "source": [
    "plt.pie(number_of_customers['count'], labels=number_of_customers['Type of Customers'], autopct='%1.1f%%');"
   ],
   "metadata": {
    "collapsed": false,
    "ExecuteTime": {
     "end_time": "2024-10-01T15:49:27.511893500Z",
     "start_time": "2024-10-01T15:49:27.460877Z"
    }
   },
   "id": "f1692f464790868d",
   "execution_count": 54
  },
  {
   "cell_type": "markdown",
   "source": [
    "* Customer aquisation cost (CAC) - How much does it cost to have a customer in each segment\n",
    "* How satisfied a customer is in each segment\n",
    "* Churn Rate \n",
    "* Customer segmentation model\n",
    "* Total sales for each customer type\n",
    "* Total sales for each segment\n",
    "* Calculate CLV for each segment to identify which segment generates more Revenue over time \n",
    "* ROI\n",
    "* "
   ],
   "metadata": {
    "collapsed": false
   },
   "id": "fb1882f18a173dfe"
  },
  {
   "cell_type": "code",
   "outputs": [
    {
     "name": "stdout",
     "output_type": "stream",
     "text": [
      "  Type Of Customer   Total Sales\n",
      "0         Consumer  1.161401e+06\n",
      "1        Corporate  7.061464e+05\n",
      "2      Home Office  4.293718e+05\n"
     ]
    },
    {
     "data": {
      "text/plain": "<BarContainer object of 3 artists>"
     },
     "execution_count": 57,
     "metadata": {},
     "output_type": "execute_result"
    },
    {
     "data": {
      "text/plain": "<Figure size 640x480 with 1 Axes>",
      "image/png": "[encoded data removed]"
     },
     "metadata": {},
     "output_type": "display_data"
    }
   ],
   "source": [
    "sales_per_segment = df.groupby('Segment')['Sales'].sum().reset_index()\n",
    "sales_per_segment = sales_per_segment.rename(columns={'Segment': 'Type Of Customer','Sales': 'Total Sales'})\n",
    "\n",
    "print(sales_per_segment)\n",
    "plt.bar(sales_per_segment['Type Of Customer'], sales_per_segment['Total Sales'])"
   ],
   "metadata": {
    "collapsed": false,
    "ExecuteTime": {
     "end_time": "2024-10-01T15:58:34.127381800Z",
     "start_time": "2024-10-01T15:58:34.045627800Z"
    }
   },
   "id": "4dd10c3d71cbb3a",
   "execution_count": 57
  },
  {
   "cell_type": "code",
   "outputs": [
    {
     "data": {
      "text/plain": "<Figure size 640x480 with 1 Axes>",
      "image/png": "[encoded data removed]"
     },
     "metadata": {},
     "output_type": "display_data"
    }
   ],
   "source": [
    "plt.pie(sales_per_segment['Total Sales'], labels=sales_per_segment['Type Of Customer'], autopct='%1.1f');"
   ],
   "metadata": {
    "collapsed": false,
    "ExecuteTime": {
     "end_time": "2024-10-01T16:06:03.270304100Z",
     "start_time": "2024-10-01T16:06:03.221814100Z"
    }
   },
   "id": "25ec11179cb62f43",
   "execution_count": 59
  },
  {
   "cell_type": "markdown",
   "source": [
    "### Customer Royalty"
   ],
   "metadata": {
    "collapsed": false
   },
   "id": "7d95996f71129534"
  },
  {
   "cell_type": "code",
   "outputs": [],
   "source": [],
   "metadata": {
    "collapsed": false
   },
   "id": "6ece04896f9debe7"
  }
 ],
 "metadata": {
  "kernelspec": {
   "display_name": "Python 3",
   "language": "python",
   "name": "python3"
  },
  "language_info": {
   "codemirror_mode": {
    "name": "ipython",
    "version": 2
   },
   "file_extension": ".py",
   "mimetype": "text/x-python",
   "name": "python",
   "nbconvert_exporter": "python",
   "pygments_lexer": "ipython2",
   "version": "2.7.6"
  }
 },
 "nbformat": 4,
 "nbformat_minor": 5
}
